{
 "cells":[
  {
   "cell_type":"markdown",
   "source":[
    "# IF3270 Machine Learning | Praktikum\n",
    "\n",
    "This notebook serves as a template for the assignment. Please create a copy of this notebook to complete your work. You can add more code blocks, markdown blocks, or new sections if needed."
   ],
   "attachments":{},
   "metadata":{
    "datalore":{
     "node_id":"RQYMX01AVLLjSPB9dHGBXd",
     "type":"MD",
     "hide_input_from_viewers":false,
     "hide_output_from_viewers":false,
     "report_properties":{
      "rowId":"DQuqYNEiNZkTVKF02lWmak"
     }
    }
   }
  },
  {
   "cell_type":"markdown",
   "source":[
    "Group Number: 84\n",
    "\n",
    "Group Members:\n",
    "- Kharris Khisunica (13522051)\n",
    "- Fabian Radenta Bangun (13522105)"
   ],
   "attachments":{},
   "metadata":{
    "datalore":{
     "node_id":"C6GjhgGGcxptRP61SpVbFK",
     "type":"MD",
     "hide_input_from_viewers":false,
     "hide_output_from_viewers":false,
     "report_properties":{
      "rowId":"9BTsUJTTG7PbuRUF9pXchS"
     }
    }
   }
  },
  {
   "cell_type":"markdown",
   "source":[
    "## Import Libraries"
   ],
   "attachments":{},
   "metadata":{
    "datalore":{
     "node_id":"figkgMrQaPMn79N52vZSC7",
     "type":"MD",
     "hide_input_from_viewers":false,
     "hide_output_from_viewers":false,
     "report_properties":{
      "rowId":"PIxLWlRtrGZZVO4W8hvkBP"
     }
    }
   }
  },
  {
   "cell_type":"code",
   "source":[
    "import pandas as pd\n",
    "import numpy as np\n",
    "from sklearn.model_selection import train_test_split\n",
    "import seaborn as sns\n",
    "import matplotlib.pyplot as plt\n",
    "from sklearn.ensemble import RandomForestClassifier, AdaBoostClassifier, GradientBoostingClassifier, VotingClassifier\n",
    "from sklearn.metrics import accuracy_score\n",
    "from sklearn.tree import DecisionTreeClassifier\n",
    "from scipy.stats import skew\n",
    "from sklearn.base import TransformerMixin, BaseEstimator\n",
    "from sklearn.preprocessing import LabelEncoder\n",
    "from sklearn.preprocessing import MinMaxScaler\n",
    "from sklearn.pipeline import Pipeline\n",
    "from sklearn.linear_model import LogisticRegression\n",
    "import xgboost as xgb\n",
    "\n",
    "# Import other libraries if needed"
   ],
   "execution_count":2,
   "outputs":[],
   "metadata":{
    "datalore":{
     "node_id":"mIXHymujw8sbIHcZu7I10L",
     "type":"CODE",
     "hide_input_from_viewers":false,
     "hide_output_from_viewers":false,
     "report_properties":{
      "rowId":"CQbuTyMgadKnX6ygQwaNNQ"
     }
    }
   }
  },
  {
   "cell_type":"markdown",
   "source":[
    "## Import Dataset"
   ],
   "attachments":{},
   "metadata":{
    "datalore":{
     "node_id":"XHH3pBUKlnHMlAbFrO0Hiv",
     "type":"MD",
     "hide_input_from_viewers":false,
     "hide_output_from_viewers":false,
     "report_properties":{
      "rowId":"BytNY3bJzQ4srUKQD3FSCb"
     }
    }
   }
  },
  {
   "cell_type":"code",
   "source":[
    "# Write your code here\n",
    "url_train = \"https:\/\/drive.google.com\/uc?id=1ggP3sVLEkXwvxMvQw9CyfdSbaP_dF8dg\"\n",
    "url_test = \"https:\/\/drive.google.com\/uc?id=1LHuBzwxKZHAZ8QGohqme-0lFFFj9Eed4\"\n",
    "\n",
    "df_train = pd.read_csv(url_train)\n",
    "df_test = pd.read_csv(url_test)"
   ],
   "execution_count":3,
   "outputs":[],
   "metadata":{
    "datalore":{
     "node_id":"f3FQ1YKP5foyvpz9rjwYZs",
     "type":"CODE",
     "hide_input_from_viewers":false,
     "hide_output_from_viewers":false,
     "report_properties":{
      "rowId":"HL5dY6Gf41wXPlufKbNlA8"
     }
    }
   }
  },
  {
   "cell_type":"markdown",
   "source":[
    "# 1. Exploratory Data Analysis\n",
    "\n",
    "Exploratory Data Analysis (EDA) is a crucial step in the data analysis process that involves examining and visualizing data sets to uncover patterns, trends, anomalies, and insights. It is the first step before applying more advanced statistical and machine learning techniques. EDA helps you to gain a deep understanding of the data you are working with, allowing you to make informed decisions and formulate hypotheses for further analysis. Provide at least 3 analysis"
   ],
   "attachments":{},
   "metadata":{
    "datalore":{
     "node_id":"QXy4cskOMjMuRYGjX7ozks",
     "type":"MD",
     "hide_input_from_viewers":false,
     "hide_output_from_viewers":false,
     "report_properties":{
      "rowId":"5x34N2wXd9fvQ73zr3p0xJ"
     }
    }
   }
  },
  {
   "cell_type":"code",
   "source":[
    "df_train.head()"
   ],
   "execution_count":4,
   "outputs":[
    {
     "data":{
      "text\/html":[
       "<div>\n",
       "<style scoped>\n",
       "    .dataframe tbody tr th:only-of-type {\n",
       "        vertical-align: middle;\n",
       "    }\n",
       "\n",
       "    .dataframe tbody tr th {\n",
       "        vertical-align: top;\n",
       "    }\n",
       "\n",
       "    .dataframe thead th {\n",
       "        text-align: right;\n",
       "    }\n",
       "<\/style>\n",
       "<table border=\"1\" class=\"dataframe\">\n",
       "  <thead>\n",
       "    <tr style=\"text-align: right;\">\n",
       "      <th><\/th>\n",
       "      <th>ID<\/th>\n",
       "      <th>Gender<\/th>\n",
       "      <th>Ever_Married<\/th>\n",
       "      <th>Age<\/th>\n",
       "      <th>Graduated<\/th>\n",
       "      <th>Profession<\/th>\n",
       "      <th>Work_Experience<\/th>\n",
       "      <th>Spending_Score<\/th>\n",
       "      <th>Family_Size<\/th>\n",
       "      <th>Var_1<\/th>\n",
       "      <th>Segmentation<\/th>\n",
       "    <\/tr>\n",
       "  <\/thead>\n",
       "  <tbody>\n",
       "    <tr>\n",
       "      <th>0<\/th>\n",
       "      <td>464198<\/td>\n",
       "      <td>Male<\/td>\n",
       "      <td>Yes<\/td>\n",
       "      <td>49<\/td>\n",
       "      <td>Yes<\/td>\n",
       "      <td>Entertainment<\/td>\n",
       "      <td>1.0<\/td>\n",
       "      <td>Low<\/td>\n",
       "      <td>2.0<\/td>\n",
       "      <td>Cat_6<\/td>\n",
       "      <td>A<\/td>\n",
       "    <\/tr>\n",
       "    <tr>\n",
       "      <th>1<\/th>\n",
       "      <td>464238<\/td>\n",
       "      <td>Male<\/td>\n",
       "      <td>Yes<\/td>\n",
       "      <td>87<\/td>\n",
       "      <td>Yes<\/td>\n",
       "      <td>Doctor<\/td>\n",
       "      <td>0.0<\/td>\n",
       "      <td>High<\/td>\n",
       "      <td>2.0<\/td>\n",
       "      <td>Cat_6<\/td>\n",
       "      <td>A<\/td>\n",
       "    <\/tr>\n",
       "    <tr>\n",
       "      <th>2<\/th>\n",
       "      <td>461219<\/td>\n",
       "      <td>Female<\/td>\n",
       "      <td>No<\/td>\n",
       "      <td>28<\/td>\n",
       "      <td>Yes<\/td>\n",
       "      <td>Healthcare<\/td>\n",
       "      <td>8.0<\/td>\n",
       "      <td>Low<\/td>\n",
       "      <td>3.0<\/td>\n",
       "      <td>Cat_6<\/td>\n",
       "      <td>D<\/td>\n",
       "    <\/tr>\n",
       "    <tr>\n",
       "      <th>3<\/th>\n",
       "      <td>466979<\/td>\n",
       "      <td>Female<\/td>\n",
       "      <td>Yes<\/td>\n",
       "      <td>39<\/td>\n",
       "      <td>Yes<\/td>\n",
       "      <td>Homemaker<\/td>\n",
       "      <td>NaN<\/td>\n",
       "      <td>Average<\/td>\n",
       "      <td>1.0<\/td>\n",
       "      <td>Cat_3<\/td>\n",
       "      <td>A<\/td>\n",
       "    <\/tr>\n",
       "    <tr>\n",
       "      <th>4<\/th>\n",
       "      <td>464835<\/td>\n",
       "      <td>Male<\/td>\n",
       "      <td>Yes<\/td>\n",
       "      <td>19<\/td>\n",
       "      <td>No<\/td>\n",
       "      <td>Healthcare<\/td>\n",
       "      <td>1.0<\/td>\n",
       "      <td>Low<\/td>\n",
       "      <td>6.0<\/td>\n",
       "      <td>Cat_4<\/td>\n",
       "      <td>D<\/td>\n",
       "    <\/tr>\n",
       "  <\/tbody>\n",
       "<\/table>\n",
       "<\/div>"
      ]
     },
     "metadata":{},
     "output_type":"display_data"
    }
   ],
   "metadata":{
    "datalore":{
     "node_id":"q5CigS0Z90BCN92RKfdo81",
     "type":"CODE",
     "hide_input_from_viewers":true,
     "hide_output_from_viewers":true
    }
   }
  },
  {
   "cell_type":"markdown",
   "source":[
    "### Data Size"
   ],
   "attachments":{},
   "metadata":{
    "datalore":{
     "node_id":"AUWP1DKmbDoeoH9BDx4tuu",
     "type":"MD",
     "hide_input_from_viewers":true,
     "hide_output_from_viewers":true
    }
   }
  },
  {
   "cell_type":"code",
   "source":[
    "df_train.shape"
   ],
   "execution_count":5,
   "outputs":[
    {
     "data":{
      "text\/plain":[
       "(5647, 11)"
      ]
     },
     "metadata":{},
     "output_type":"display_data"
    }
   ],
   "metadata":{
    "datalore":{
     "node_id":"EuvqIFwTXTSyqH0Fo6Vzwj",
     "type":"CODE",
     "hide_input_from_viewers":true,
     "hide_output_from_viewers":true
    }
   }
  },
  {
   "cell_type":"markdown",
   "source":[
    "### Data Types"
   ],
   "attachments":{},
   "metadata":{
    "datalore":{
     "node_id":"ku7F0Zp7lU0ccWUWfo3kcD",
     "type":"MD",
     "hide_input_from_viewers":true,
     "hide_output_from_viewers":true
    }
   }
  },
  {
   "cell_type":"code",
   "source":[
    "df_train.dtypes"
   ],
   "execution_count":6,
   "outputs":[
    {
     "data":{
      "text\/html":[
       "<pre>ID                   int64\n",
       "Gender              object\n",
       "Ever_Married        object\n",
       "Age                  int64\n",
       "Graduated           object\n",
       "Profession          object\n",
       "Work_Experience    float64\n",
       "Spending_Score      object\n",
       "Family_Size        float64\n",
       "Var_1               object\n",
       "Segmentation        object\n",
       "dtype: object<\/pre>"
      ]
     },
     "metadata":{},
     "output_type":"display_data"
    }
   ],
   "metadata":{
    "datalore":{
     "node_id":"KBOU1Mzf9X7PnRm8LwS9UT",
     "type":"CODE",
     "hide_input_from_viewers":true,
     "hide_output_from_viewers":true
    }
   }
  },
  {
   "cell_type":"markdown",
   "source":[
    "### Seperate Categorical with Numerical Data"
   ],
   "attachments":{},
   "metadata":{
    "datalore":{
     "node_id":"I4YgY3VRthdASQbDw3T99m",
     "type":"MD",
     "hide_input_from_viewers":true,
     "hide_output_from_viewers":true
    }
   }
  },
  {
   "cell_type":"code",
   "source":[
    "# Train data\n",
    "categorical_train_data = df_train.loc[:, (df_train.dtypes == 'object')]\n",
    "numerical_train_data = df_train.loc[:, ~(df_train.dtypes == 'object')]\n",
    "\n",
    "# Test data\n",
    "categorical_test_data = df_test.loc[:, (df_test.dtypes == 'object')]\n",
    "numerical_test_data = df_test.loc[:, ~(df_test.dtypes == 'object')]"
   ],
   "execution_count":7,
   "outputs":[],
   "metadata":{
    "datalore":{
     "node_id":"oiV11pBIYRRB07eMWHLzah",
     "type":"CODE",
     "hide_input_from_viewers":true,
     "hide_output_from_viewers":true
    }
   }
  },
  {
   "cell_type":"markdown",
   "source":[
    "### Unique values for Categorical"
   ],
   "attachments":{},
   "metadata":{
    "datalore":{
     "node_id":"sSuFIyYMZQF3PLIDLLCHTM",
     "type":"MD",
     "hide_input_from_viewers":true,
     "hide_output_from_viewers":true
    }
   }
  },
  {
   "cell_type":"code",
   "source":[
    "categorical_train_data.nunique()"
   ],
   "execution_count":8,
   "outputs":[
    {
     "data":{
      "text\/html":[
       "<pre>Gender            2\n",
       "Ever_Married      2\n",
       "Graduated         2\n",
       "Profession        9\n",
       "Spending_Score    3\n",
       "Var_1             7\n",
       "Segmentation      4\n",
       "dtype: int64<\/pre>"
      ]
     },
     "metadata":{},
     "output_type":"display_data"
    }
   ],
   "metadata":{
    "datalore":{
     "node_id":"rFy6rAugxvVBJpUKGU7NlF",
     "type":"CODE",
     "hide_input_from_viewers":true,
     "hide_output_from_viewers":true
    }
   }
  },
  {
   "cell_type":"markdown",
   "source":[
    "### Stats for Numerical"
   ],
   "attachments":{},
   "metadata":{
    "datalore":{
     "node_id":"1A3BPlmPab7Ha8rq2fZ7F1",
     "type":"MD",
     "hide_input_from_viewers":true,
     "hide_output_from_viewers":true
    }
   }
  },
  {
   "cell_type":"code",
   "source":[
    "numerical_train_data.describe()"
   ],
   "execution_count":9,
   "outputs":[
    {
     "data":{
      "text\/html":[
       "<div>\n",
       "<style scoped>\n",
       "    .dataframe tbody tr th:only-of-type {\n",
       "        vertical-align: middle;\n",
       "    }\n",
       "\n",
       "    .dataframe tbody tr th {\n",
       "        vertical-align: top;\n",
       "    }\n",
       "\n",
       "    .dataframe thead th {\n",
       "        text-align: right;\n",
       "    }\n",
       "<\/style>\n",
       "<table border=\"1\" class=\"dataframe\">\n",
       "  <thead>\n",
       "    <tr style=\"text-align: right;\">\n",
       "      <th><\/th>\n",
       "      <th>ID<\/th>\n",
       "      <th>Age<\/th>\n",
       "      <th>Work_Experience<\/th>\n",
       "      <th>Family_Size<\/th>\n",
       "    <\/tr>\n",
       "  <\/thead>\n",
       "  <tbody>\n",
       "    <tr>\n",
       "      <th>count<\/th>\n",
       "      <td>5647.000000<\/td>\n",
       "      <td>5647.000000<\/td>\n",
       "      <td>5085.000000<\/td>\n",
       "      <td>5423.000000<\/td>\n",
       "    <\/tr>\n",
       "    <tr>\n",
       "      <th>mean<\/th>\n",
       "      <td>463474.687799<\/td>\n",
       "      <td>43.663538<\/td>\n",
       "      <td>2.654277<\/td>\n",
       "      <td>2.861147<\/td>\n",
       "    <\/tr>\n",
       "    <tr>\n",
       "      <th>std<\/th>\n",
       "      <td>2598.820204<\/td>\n",
       "      <td>16.779417<\/td>\n",
       "      <td>3.429239<\/td>\n",
       "      <td>1.536501<\/td>\n",
       "    <\/tr>\n",
       "    <tr>\n",
       "      <th>min<\/th>\n",
       "      <td>458982.000000<\/td>\n",
       "      <td>16.000000<\/td>\n",
       "      <td>0.000000<\/td>\n",
       "      <td>1.000000<\/td>\n",
       "    <\/tr>\n",
       "    <tr>\n",
       "      <th>25%<\/th>\n",
       "      <td>461248.500000<\/td>\n",
       "      <td>30.000000<\/td>\n",
       "      <td>0.000000<\/td>\n",
       "      <td>2.000000<\/td>\n",
       "    <\/tr>\n",
       "    <tr>\n",
       "      <th>50%<\/th>\n",
       "      <td>463468.000000<\/td>\n",
       "      <td>41.000000<\/td>\n",
       "      <td>1.000000<\/td>\n",
       "      <td>3.000000<\/td>\n",
       "    <\/tr>\n",
       "    <tr>\n",
       "      <th>75%<\/th>\n",
       "      <td>465754.500000<\/td>\n",
       "      <td>53.000000<\/td>\n",
       "      <td>4.000000<\/td>\n",
       "      <td>4.000000<\/td>\n",
       "    <\/tr>\n",
       "    <tr>\n",
       "      <th>max<\/th>\n",
       "      <td>467974.000000<\/td>\n",
       "      <td>91.000000<\/td>\n",
       "      <td>14.000000<\/td>\n",
       "      <td>9.000000<\/td>\n",
       "    <\/tr>\n",
       "  <\/tbody>\n",
       "<\/table>\n",
       "<\/div>"
      ]
     },
     "metadata":{},
     "output_type":"display_data"
    }
   ],
   "metadata":{
    "datalore":{
     "node_id":"uhNUQOF3jrZ8NqNozx76Au",
     "type":"CODE",
     "hide_input_from_viewers":true,
     "hide_output_from_viewers":true
    }
   }
  },
  {
   "cell_type":"markdown",
   "source":[
    "### Missing Values"
   ],
   "attachments":{},
   "metadata":{
    "datalore":{
     "node_id":"oOyQ4IOCglBi35Yoak8VUz",
     "type":"MD",
     "hide_input_from_viewers":true,
     "hide_output_from_viewers":true
    }
   }
  },
  {
   "cell_type":"code",
   "source":[
    "df_train.isnull().sum()"
   ],
   "execution_count":10,
   "outputs":[
    {
     "data":{
      "text\/html":[
       "<pre>ID                   0\n",
       "Gender               0\n",
       "Ever_Married        84\n",
       "Age                  0\n",
       "Graduated           40\n",
       "Profession          79\n",
       "Work_Experience    562\n",
       "Spending_Score       0\n",
       "Family_Size        224\n",
       "Var_1               53\n",
       "Segmentation         0\n",
       "dtype: int64<\/pre>"
      ]
     },
     "metadata":{},
     "output_type":"display_data"
    }
   ],
   "metadata":{
    "datalore":{
     "node_id":"PC1U26xH8eoKETX8DD5d5V",
     "type":"CODE",
     "hide_input_from_viewers":true,
     "hide_output_from_viewers":true
    }
   }
  },
  {
   "cell_type":"markdown",
   "source":[
    "### Duplicated Rows"
   ],
   "attachments":{},
   "metadata":{
    "datalore":{
     "node_id":"cq0BVLV54jdupuIzHMXeWF",
     "type":"MD",
     "hide_input_from_viewers":true,
     "hide_output_from_viewers":true
    }
   }
  },
  {
   "cell_type":"code",
   "source":[
    "df_train.duplicated().sum()"
   ],
   "execution_count":11,
   "outputs":[
    {
     "data":{
      "text\/plain":[
       "0"
      ]
     },
     "metadata":{},
     "output_type":"display_data"
    }
   ],
   "metadata":{
    "datalore":{
     "node_id":"QHQc2qL6qFjjDyPrrB1kDo",
     "type":"CODE",
     "hide_input_from_viewers":true,
     "hide_output_from_viewers":true
    }
   }
  },
  {
   "cell_type":"markdown",
   "source":[
    "### Distribution of Values"
   ],
   "attachments":{},
   "metadata":{
    "datalore":{
     "node_id":"4zWPMdEgDhtgxRL1mjikVi",
     "type":"MD",
     "hide_input_from_viewers":true,
     "hide_output_from_viewers":true
    }
   }
  },
  {
   "cell_type":"code",
   "source":[
    "# Histogram for Numerical\n",
    "\n",
    "for column in numerical_train_data:\n",
    "    if column != \"ID\":\n",
    "        plt.hist(numerical_train_data[column])\n",
    "        plt.xlabel('Values')\n",
    "        plt.ylabel('Frequency')\n",
    "        plt.title(f\"{column}'s Histogram\")\n",
    "        plt.show()\n",
    "\n",
    "for column in categorical_train_data:\n",
    "    if column != \"ID\":\n",
    "        value_counts = categorical_train_data[column].value_counts()\n",
    "        plt.pie(value_counts, labels=value_counts.index, autopct='%1.1f%%')\n",
    "        plt.title(f\"{column}'s Pie chart\")\n",
    "        plt.show()"
   ],
   "execution_count":12,
   "outputs":[
    {
     "data":{
      "image\/png":"[encoded data removed]"
     },
     "metadata":{
      "image\/png":{}
     },
     "output_type":"display_data"
    },
    {
     "data":{
      "image\/png":"[encoded data removed]"
     },
     "metadata":{
      "image\/png":{}
     },
     "output_type":"display_data"
    },
    {
     "data":{
      "image\/png":"[encoded data removed]"
     },
     "metadata":{
      "image\/png":{}
     },
     "output_type":"display_data"
    },
    {
     "data":{
      "image\/png":"[encoded data removed]"
     },
     "metadata":{
      "image\/png":{}
     },
     "output_type":"display_data"
    },
    {
     "data":{
      "image\/png":"[encoded data removed]"
     },
     "metadata":{
      "image\/png":{}
     },
     "output_type":"display_data"
    },
    {
     "data":{
      "image\/png":"[encoded data removed]"
     },
     "metadata":{
      "image\/png":{}
     },
     "output_type":"display_data"
    },
    {
     "data":{
      "image\/png":"[encoded data removed]"
     },
     "metadata":{
      "image\/png":{}
     },
     "output_type":"display_data"
    },
    {
     "data":{
      "image\/png":"[encoded data removed]"
     },
     "metadata":{
      "image\/png":{}
     },
     "output_type":"display_data"
    },
    {
     "data":{
      "image\/png":"[encoded data removed]"
     },
     "metadata":{
      "image\/png":{}
     },
     "output_type":"display_data"
    },
    {
     "data":{
      "image\/png":"[encoded data removed]"
     },
     "metadata":{
      "image\/png":{}
     },
     "output_type":"display_data"
    }
   ],
   "metadata":{
    "datalore":{
     "node_id":"56sId3LL4yUdYKj6YyKOGM",
     "type":"CODE",
     "hide_input_from_viewers":true,
     "hide_output_from_viewers":true
    }
   }
  },
  {
   "cell_type":"markdown",
   "source":[
    "### Correlation "
   ],
   "attachments":{},
   "metadata":{
    "datalore":{
     "node_id":"Gb5me5vgUuw4YD0dRfcUyU",
     "type":"MD",
     "hide_input_from_viewers":true,
     "hide_output_from_viewers":true
    }
   }
  },
  {
   "cell_type":"code",
   "source":[
    "corr_matrix = numerical_train_data.corr()\n",
    "\n",
    "plt.figure(figsize=(25, 16))\n",
    "sns.heatmap(corr_matrix, annot=True,annot_kws={'fontsize':'xx-large'}, fmt=\".2f\")\n",
    "plt.title('Correlation Matrix for Numerical Data')\n",
    "plt.show()"
   ],
   "execution_count":13,
   "outputs":[
    {
     "data":{
      "image\/png":"[encoded data removed]"
     },
     "metadata":{
      "image\/png":{}
     },
     "output_type":"display_data"
    }
   ],
   "metadata":{
    "datalore":{
     "node_id":"DdBL3y58HhvIJ4ty7KeYa3",
     "type":"CODE",
     "hide_input_from_viewers":true,
     "hide_output_from_viewers":true
    }
   }
  },
  {
   "cell_type":"markdown",
   "source":[
    "## Question"
   ],
   "attachments":{},
   "metadata":{
    "datalore":{
     "node_id":"tkfzl36hl9SE6W7I2f7r1E",
     "type":"MD",
     "hide_input_from_viewers":true,
     "hide_output_from_viewers":true
    }
   }
  },
  {
   "cell_type":"markdown",
   "source":[
    "1. What is the most common occupation among married people ? How about unmarried people ?"
   ],
   "attachments":{},
   "metadata":{
    "datalore":{
     "node_id":"XT38lB1IGJJVCTeV9Shv6Q",
     "type":"MD",
     "hide_input_from_viewers":true,
     "hide_output_from_viewers":true
    }
   }
  },
  {
   "cell_type":"code",
   "source":[
    "married_df = df_train[df_train['Ever_Married']== \"Yes\"]\n",
    "most_Occ_Married = married_df['Profession'].mode()[0]\n",
    "\n",
    "never_married_df = df_train[df_train['Ever_Married']== \"No\"]\n",
    "most_Occ_NMarried = never_married_df['Profession'].mode()[0]\n",
    "\n",
    "print(f\"The most common occupation among married people: {most_Occ_Married}\")\n",
    "print(f\"The most common occupation among never married people: {most_Occ_NMarried}\")"
   ],
   "execution_count":14,
   "outputs":[
    {
     "name":"stdout",
     "text":[
      "The most common occupation among married people: Artist\n",
      "The most common occupation among never married people: Healthcare\n"
     ],
     "output_type":"stream"
    }
   ],
   "metadata":{
    "datalore":{
     "node_id":"rNPVkN8xVcwWmn8flgz71A",
     "type":"CODE",
     "hide_input_from_viewers":true,
     "hide_output_from_viewers":true
    }
   }
  },
  {
   "cell_type":"markdown",
   "source":[
    "2. What is the most common spending score for every profession?"
   ],
   "attachments":{},
   "metadata":{
    "datalore":{
     "node_id":"VbFg10EL4JjK1PNkQtLkV1",
     "type":"MD",
     "hide_input_from_viewers":true,
     "hide_output_from_viewers":true
    }
   }
  },
  {
   "cell_type":"code",
   "source":[
    "spending_counts = df_train.groupby(['Profession', 'Spending_Score']).size().unstack()\n",
    "\n",
    "most_common_spending_by_profession = spending_counts.idxmax(axis=1)\n",
    "\n",
    "print(most_common_spending_by_profession)\n",
    "\n",
    "most_common_profession_by_spending = spending_counts.idxmax(axis=0)\n",
    "\n",
    "print(most_common_profession_by_spending)"
   ],
   "execution_count":15,
   "outputs":[
    {
     "name":"stdout",
     "text":[
      "Profession\n",
      "Artist            Low\n",
      "Doctor            Low\n",
      "Engineer          Low\n",
      "Entertainment     Low\n",
      "Executive        High\n",
      "Healthcare        Low\n",
      "Homemaker         Low\n",
      "Lawyer           High\n",
      "Marketing         Low\n",
      "dtype: object\n",
      "Spending_Score\n",
      "Average       Artist\n",
      "High       Executive\n",
      "Low           Artist\n",
      "dtype: object\n"
     ],
     "output_type":"stream"
    }
   ],
   "metadata":{
    "datalore":{
     "node_id":"fCiI4QCdpiIPUKwqduTviw",
     "type":"CODE",
     "hide_input_from_viewers":true,
     "hide_output_from_viewers":true
    }
   }
  },
  {
   "cell_type":"markdown",
   "source":[
    "3. Is there any correlation between education and spending capabilities ?"
   ],
   "attachments":{},
   "metadata":{
    "datalore":{
     "node_id":"HB0tOQewcZHt8cnDU2HLBE",
     "type":"MD",
     "hide_input_from_viewers":true,
     "hide_output_from_viewers":true
    }
   }
  },
  {
   "cell_type":"code",
   "source":[
    "df_x = df_train.copy(deep=True)\n",
    "\n",
    "df_x['graduated_numeric'] = df_x['Graduated'].map({'Yes': 1, 'No': 0})\n",
    "\n",
    "graduation_spending_correlation = df_x.groupby('Spending_Score')['graduated_numeric'].mean()\n",
    "\n",
    "print(graduation_spending_correlation)"
   ],
   "execution_count":16,
   "outputs":[
    {
     "name":"stdout",
     "text":[
      "Spending_Score\n",
      "Average    0.708508\n",
      "High       0.658201\n",
      "Low        0.559789\n",
      "Name: graduated_numeric, dtype: float64\n"
     ],
     "output_type":"stream"
    }
   ],
   "metadata":{
    "datalore":{
     "node_id":"ND12Z82NdntYkkACuPgwKN",
     "type":"CODE",
     "hide_input_from_viewers":true,
     "hide_output_from_viewers":true
    }
   }
  },
  {
   "cell_type":"markdown",
   "source":[
    "70.85% Graduates has an Average spending score\n",
    "\n",
    "65.82% Graduates has a High spending score\n",
    "\n",
    "55.98% Graduates has a Low spending score"
   ],
   "attachments":{},
   "metadata":{
    "datalore":{
     "node_id":"ccpBzFRHEQkXnP7P53FKzJ",
     "type":"MD",
     "hide_input_from_viewers":true,
     "hide_output_from_viewers":true
    }
   }
  },
  {
   "cell_type":"markdown",
   "source":[
    "# 2. Split Training Set and Validation Set\n",
    "\n",
    "Splitting the training and validation set works as an early diagnostic towards the performance of the model we train. This is done before the preprocessing steps to **avoid data leakage inbetween the sets**. If you want to use k-fold cross-validation, split the data later and do the cleaning and preprocessing separately for each split.\n",
    "\n",
    "Note: For training, you should use the data contained in the `Train_processed.csv` given by the TA. The `test_processed_no_solution.csv` data is only used for kaggle submission."
   ],
   "attachments":{},
   "metadata":{
    "datalore":{
     "node_id":"NvlI7kUIfUe5R0zt8ExxmW",
     "type":"MD",
     "hide_input_from_viewers":false,
     "hide_output_from_viewers":false,
     "report_properties":{
      "rowId":"DhvoSjHPkzKnASlQCdOz9V"
     }
    }
   }
  },
  {
   "cell_type":"code",
   "source":[
    "# Split training set and validation set here, store into variables train_set and val_set.\n",
    "# Remember to also keep the original training set before splitting. This will come important later.\n",
    "# train_set, val_set = ...\n",
    "\n",
    "split_df = df_train.copy()\n",
    "\n",
    "X = split_df.drop(columns=[\"Segmentation\"])\n",
    "y = split_df[\"Segmentation\"]\n",
    "\n",
    "X_train, X_val, y_train, y_val = train_test_split(X, y, test_size=0.2, random_state=42)"
   ],
   "execution_count":17,
   "outputs":[],
   "metadata":{
    "datalore":{
     "node_id":"94WkvYlg4fjU6S8yN5MNUh",
     "type":"CODE",
     "hide_input_from_viewers":false,
     "hide_output_from_viewers":false,
     "report_properties":{
      "rowId":"a6iolIl1Jwbjj5FZH51j0R"
     }
    }
   }
  },
  {
   "cell_type":"markdown",
   "source":[
    "# 3. Data Cleaning and Preprocessing\n",
    "\n",
    "This step is the first thing to be done once a Data Scientist have grasped a general knowledge of the data. Raw data is **seldom ready for training**, therefore steps need to be taken to clean and format the data for the Machine Learning model to interpret.\n",
    "\n",
    "By performing data cleaning and preprocessing, you ensure that your dataset is ready for model training, leading to more accurate and reliable machine learning results. These steps are essential for transforming raw data into a format that machine learning algorithms can effectively learn from and make predictions.\n",
    "\n",
    "For each step that you will do, **please explain the reason why did you do that process. Write it in a markdown cell under the code cell you wrote.**"
   ],
   "attachments":{},
   "metadata":{
    "datalore":{
     "node_id":"Zs5SrfmZ7dX3hasfqMqnVc",
     "type":"MD",
     "hide_input_from_viewers":false,
     "hide_output_from_viewers":false,
     "report_properties":{
      "rowId":"gfCtbpFSLXoDEMLUfGKWXf"
     }
    }
   }
  },
  {
   "cell_type":"markdown",
   "source":[
    "### Outlier Handling"
   ],
   "attachments":{},
   "metadata":{
    "datalore":{
     "node_id":"uaFTHOWxVxt5hfAYBKqc5J",
     "type":"MD",
     "hide_input_from_viewers":true,
     "hide_output_from_viewers":true
    }
   }
  },
  {
   "cell_type":"code",
   "source":[
    "class OutlierHandler(BaseEstimator, TransformerMixin):\n",
    "    def __init__(self, cols=None, iqr_factor=1.5, lower_percentile=0.01, upper_percentile=0.99):\n",
    "        self.cols = cols\n",
    "        self.iqr_factor = iqr_factor\n",
    "        self.lower_percentile = lower_percentile\n",
    "        self.upper_percentile = upper_percentile\n",
    "        self.lower_bounds = {}\n",
    "        self.upper_bounds = {}\n",
    "\n",
    "    def fit(self, X, y=None):\n",
    "        X_numeric = X[self.cols].apply(pd.to_numeric, errors='coerce')\n",
    "\n",
    "        Q1 = X_numeric.quantile(0.25)\n",
    "        Q3 = X_numeric.quantile(0.75)\n",
    "        IQR = Q3 - Q1\n",
    "\n",
    "        self.lower_bounds = (Q1 - self.iqr_factor * IQR).to_dict()\n",
    "        self.upper_bounds = (Q3 + self.iqr_factor * IQR).to_dict()\n",
    "\n",
    "        self.clip_lower = X_numeric.quantile(self.lower_percentile).to_dict()\n",
    "        self.clip_upper = X_numeric.quantile(self.upper_percentile).to_dict()\n",
    "\n",
    "        return self\n",
    "\n",
    "    def transform(self, X):\n",
    "        X_copy = X.copy()\n",
    "        for col in self.cols:\n",
    "            if col not in X_copy:\n",
    "                continue\n",
    "\n",
    "            mask = (X_copy[col] < self.lower_bounds[col]) | (X_copy[col] > self.upper_bounds[col])\n",
    "            X_copy.loc[mask, col] = np.nan  # Impute later\n",
    "\n",
    "            X_copy[col] = X_copy[col].clip(self.clip_lower[col], self.clip_upper[col])\n",
    "\n",
    "        return X_copy"
   ],
   "execution_count":null,
   "outputs":[],
   "metadata":{
    "datalore":{
     "node_id":"C3Qm1fnVNimMTy3Z7VyZ9A",
     "type":"CODE",
     "hide_input_from_viewers":true,
     "hide_output_from_viewers":true
    }
   }
  },
  {
   "cell_type":"markdown",
   "source":[
    "### Data Imputation for Missing Values  \n",
    "\n",
    "Imputing missing values is essential to ensure cleaner data. Additionally, missing values can affect the performance of the model used in machine learning.  \n",
    "\n",
    "For missing values in categorical data (Ever_Married, Graduated, Profession, Var_1), Mode Imputation will be used. This method is the simplest and fastest. Moreover, since the number of missing values is relatively small compared to the dataset (around 1% of the total data in a column), there will be no significant impact that could cause an overrepresentation of the mode variable.  \n",
    "\n",
    "For missing values in numerical data (Work Experience and Family Size), the median will be used for imputation. Since Work Experience and Family Size have integer attribute domains, they can be imputed using either the mean or median. Additionally, due to the relatively large number of missing values, imputing with a representative value for the entire column is preferable over using a constant value or mode."
   ],
   "attachments":{},
   "metadata":{
    "datalore":{
     "node_id":"xNOF2BVEkXXlg0dvHkOlQd",
     "type":"MD",
     "hide_input_from_viewers":true,
     "hide_output_from_viewers":true
    }
   }
  },
  {
   "cell_type":"code",
   "source":[
    "class FeatureImputer(BaseEstimator, TransformerMixin):\n",
    "    def __init__(self):\n",
    "        self.modes = None\n",
    "        self.impute_values = None\n",
    "    \n",
    "    def fit(self, x):\n",
    "        self.modes = x.select_dtypes(include=[\"object\"]).mode().iloc[0]\n",
    "        \n",
    "        self.impute_values = {}\n",
    "        for num_col in x.select_dtypes(include=[\"number\"]).columns:\n",
    "            skewness = skew(x[num_col].dropna())\n",
    "            if abs(skewness) > 0.5:\n",
    "                self.impute_values[num_col] = round(x[num_col].median())\n",
    "            else:\n",
    "                self.impute_values[num_col] = round(x[num_col].mean())\n",
    "        \n",
    "        return self\n",
    "\n",
    "    def transform(self, x):\n",
    "        x = x.copy()\n",
    "        for cat_col, mode_value in self.modes.items():\n",
    "            x[cat_col].fillna(mode_value, inplace=True)\n",
    "        \n",
    "        for num_col, value in self.impute_values.items():\n",
    "            x[num_col].fillna(value, inplace=True)\n",
    "        \n",
    "        return x"
   ],
   "execution_count":18,
   "outputs":[],
   "metadata":{
    "datalore":{
     "node_id":"0hjeqaX8uaCwj233CKs8nW",
     "type":"CODE",
     "hide_input_from_viewers":true,
     "hide_output_from_viewers":true
    }
   }
  },
  {
   "cell_type":"markdown",
   "source":[
    "### Encoder for Categorical Data\n",
    "\n",
    "It's important to encode our categorical data because the models used in this project require numerical data as input. Since categorical data is present in the dataset for this project, it's essential to encode it so we can use it to build our model. An encoder is used to transform categorical data into meaningful numerical data, allowing it to be represented in numerical form."
   ],
   "attachments":{},
   "metadata":{
    "datalore":{
     "node_id":"c6L50iPR090NfpFFRlQRcs",
     "type":"MD",
     "hide_input_from_viewers":true,
     "hide_output_from_viewers":true
    }
   }
  },
  {
   "cell_type":"code",
   "source":[
    "class FeatureEncoder(BaseEstimator, TransformerMixin):\n",
    "    def __init__(self):\n",
    "        self.encoders = {}\n",
    "    \n",
    "    def fit(self, x):\n",
    "        categorical_cols = x.select_dtypes(include=[\"object\"]).columns\n",
    "        for cat_col in categorical_cols:\n",
    "            le = LabelEncoder()\n",
    "            x[cat_col] = x[cat_col].astype(str)\n",
    "            le.fit(x[cat_col])  \n",
    "            self.encoders[cat_col] = le\n",
    "        return self\n",
    "    \n",
    "    def transform(self, x):\n",
    "        x = x.copy()\n",
    "        for e_col, le in self.encoders.items():\n",
    "            x[e_col] = x[e_col].astype(str).map(lambda x: le.transform([x])[0] if x in le.classes_ else -1)\n",
    "        return x"
   ],
   "execution_count":19,
   "outputs":[],
   "metadata":{
    "datalore":{
     "node_id":"UY4PEoSbgKMiM2hD7x7cNO",
     "type":"CODE",
     "hide_input_from_viewers":true,
     "hide_output_from_viewers":true
    }
   }
  },
  {
   "cell_type":"markdown",
   "source":[
    "### Scaler for Numerical Data\n",
    "\n",
    "Feature scaling is a preprocessing technique used in machine learning to standardize the range of independent variables or features of data. The primary goal of feature scaling is to ensure that all features contribute equally to the training process and that machine learning algorithms can work effectively with the data."
   ],
   "attachments":{},
   "metadata":{
    "datalore":{
     "node_id":"Qviata5g8lTsLljejk9xKw",
     "type":"MD",
     "hide_input_from_viewers":true,
     "hide_output_from_viewers":true
    }
   }
  },
  {
   "cell_type":"code",
   "source":[
    "class FeatureScaler(BaseEstimator, TransformerMixin):\n",
    "    def __init__(self):\n",
    "        self.scaler = MinMaxScaler()\n",
    "    \n",
    "    def fit(self, x):\n",
    "        self.scaler.fit(x)\n",
    "        return self\n",
    "    \n",
    "    def transform(self, x):\n",
    "        return self.scaler.transform(x)"
   ],
   "execution_count":20,
   "outputs":[],
   "metadata":{
    "datalore":{
     "node_id":"VbJFH70cX4kM6UCac0gDuj",
     "type":"CODE",
     "hide_input_from_viewers":true,
     "hide_output_from_viewers":true
    }
   }
  },
  {
   "cell_type":"markdown",
   "source":[
    "# Compile Preprocessing Pipeline\n",
    "\n",
    "All of the preprocessing classes or functions defined earlier will be compiled in this step."
   ],
   "attachments":{},
   "metadata":{
    "datalore":{
     "node_id":"GtQ9LTtIIS0csCugXqP4ZF",
     "type":"MD",
     "hide_input_from_viewers":false,
     "hide_output_from_viewers":false,
     "report_properties":{
      "rowId":"uRLt6MoH1sjasbBd7zeIg3"
     }
    }
   }
  },
  {
   "cell_type":"markdown",
   "source":[
    "If you use sklearn to create preprocessing classes, you can list your preprocessing classes in the Pipeline object sequentially, and then fit and transform your data."
   ],
   "attachments":{},
   "metadata":{
    "datalore":{
     "node_id":"13duVhxUictmGt2RHIoKvA",
     "type":"MD",
     "hide_input_from_viewers":false,
     "hide_output_from_viewers":false,
     "report_properties":{
      "rowId":"dUQznUOBORaGzwzxbXkdXD"
     }
    }
   }
  },
  {
   "cell_type":"code",
   "source":[
    "# from sklearn.pipeline import Pipeline\n",
    "\n",
    "# # Note: You can add or delete preprocessing components from this pipeline\n",
    "\n",
    "# pipe = Pipeline([(\"imputer\", FeatureImputer()),\n",
    "#                  (\"featurecreator\", FeatureCreator()),\n",
    "#                  (\"scaler\", FeatureScaler()),\n",
    "#                  (\"encoder\", FeatureEncoder())])\n",
    "\n",
    "# train_set = pipe.fit_transform(train_set)\n",
    "# val_set = pipe.transform(val_set)\n",
    "\n",
    "num_cols = [column for column in numerical_train_data]\n",
    "\n",
    "\n",
    "pipe = Pipeline([\n",
    "    (\"imputer\", FeatureImputer()),\n",
    "    (\"outlier_handling\", OutlierHandler(cols=num_cols)),\n",
    "    (\"encoder\", FeatureEncoder()),\n",
    "    (\"scaler\", FeatureScaler())\n",
    "])"
   ],
   "execution_count":21,
   "outputs":[],
   "metadata":{
    "datalore":{
     "node_id":"DhNs2AlYeXAHBm3984EGGH",
     "type":"CODE",
     "hide_input_from_viewers":false,
     "hide_output_from_viewers":false,
     "report_properties":{
      "rowId":"aHUykDLhFgHBaSnB1C5i1F"
     }
    }
   }
  },
  {
   "cell_type":"code",
   "source":[
    "# # Your code should work up until this point\n",
    "# train_set = pipe.fit_transform(train_set)\n",
    "# val_set = pipe.transform(val_set)\n",
    "\n",
    "X_train_processed = pipe.fit_transform(X_train)\n",
    "X_val_processed = pipe.transform(X_val)\n",
    "\n",
    "# X_train_processed dan X_val_processed adalah numpy array, ubah ke df\n",
    "X_train_processed = pd.DataFrame(X_train_processed, columns=X_train.columns)\n",
    "X_val_processed = pd.DataFrame(X_val_processed, columns=X_val.columns)"
   ],
   "execution_count":22,
   "outputs":[],
   "metadata":{
    "datalore":{
     "node_id":"2KYFtsUqOousw2PCMFSSo9",
     "type":"CODE",
     "hide_input_from_viewers":false,
     "hide_output_from_viewers":false,
     "report_properties":{
      "rowId":"KQWAUdX86bs4wqjpHSsYfr"
     }
    }
   }
  },
  {
   "cell_type":"markdown",
   "source":[
    "# 4. Modeling and Validation\n",
    "\n",
    "Modelling is the process of building your own machine learning models to solve specific problems, or in this assignment context, predicting the probability for each class in the `Segmentation` feature. Validation is the process of evaluating your trained model using the validation set or cross-validation method and providing some metrics that can help you decide what to do in the next iteration of development.\n",
    "\n",
    "In this task, you are required to predict each class in the Segmentation feature using Ensemble Learning algorithms."
   ],
   "attachments":{},
   "metadata":{
    "datalore":{
     "node_id":"cSoVF8Sk5qDpkpFrBNdQgw",
     "type":"MD",
     "hide_input_from_viewers":false,
     "hide_output_from_viewers":false,
     "report_properties":{
      "rowId":"xQKFXcZuu9UdSHYiWx27wu"
     }
    }
   }
  },
  {
   "cell_type":"markdown",
   "source":[
    "## 4.1 Ensemble\n",
    "\n",
    "Implement **at least 1 model** for each of the following learning algorithms:\n",
    "\n",
    "- Bagging\n",
    "- Boosting\n",
    "- Stacking\n",
    "- Voting"
   ],
   "attachments":{},
   "metadata":{
    "datalore":{
     "node_id":"tiOBDXXLMssHv4QZcywsNb",
     "type":"MD",
     "hide_input_from_viewers":false,
     "hide_output_from_viewers":false,
     "report_properties":{
      "rowId":"Auk6YWu2lIRQu4MvuE39S6"
     }
    }
   }
  },
  {
   "cell_type":"markdown",
   "source":[
    "### 4.1.1 Bagging\n",
    "Bagging is a technique that trains a single type of model, with each model being trained on a different subset of the data. The final prediction is determined by the most frequently occurring prediction across all models. As a reference, you may use `RandomForestClassifier` to build your bagging model."
   ],
   "attachments":{},
   "metadata":{
    "datalore":{
     "node_id":"NGEppAYMMHB2bBCKq4LuuZ",
     "type":"MD",
     "hide_input_from_viewers":false,
     "hide_output_from_viewers":false,
     "report_properties":{
      "rowId":"nk5Kqpl40iluIRwwjmeTIh"
     }
    }
   }
  },
  {
   "cell_type":"code",
   "source":[
    "# Type your code here\n",
    "\n",
    "# copying splitted dataset \n",
    "rf_X_train = X_train_processed.copy()\n",
    "rf_y_train = y_train.copy()\n",
    "rf_X_val = X_val_processed.copy()\n",
    "rf_y_val = y_val.copy()\n",
    "\n",
    "# train model\n",
    "rf_model = RandomForestClassifier(\n",
    "    n_estimators=85,\n",
    "    max_depth=15,\n",
    "    random_state=42\n",
    ")\n",
    "\n",
    "rf_model.fit(rf_X_train, rf_y_train)\n",
    "\n",
    "#akurasi\n",
    "rf_y_pred = rf_model.predict(rf_X_val)\n",
    "\n",
    "rf_accuracy = accuracy_score(rf_y_val, rf_y_pred)\n",
    "print(f\"accuracy: {rf_accuracy}\")"
   ],
   "execution_count":34,
   "outputs":[
    {
     "name":"stdout",
     "text":[
      "accuracy: 0.5123893805309735\n"
     ],
     "output_type":"stream"
    }
   ],
   "metadata":{
    "datalore":{
     "node_id":"5rFCIkEeKCsbNlzy7JCiCd",
     "type":"CODE",
     "hide_input_from_viewers":false,
     "hide_output_from_viewers":false,
     "report_properties":{
      "rowId":"0BX87gwgok8N6tLn7VFHoo"
     }
    }
   }
  },
  {
   "cell_type":"markdown",
   "source":[
    "### 4.1.2 Boosting\n",
    "Boosting is a technique where the first model is trained on entire dataset, the second model to reduce the error of first model, followed by a third model to reduce the error of the second model, and so on. As a reference, you may use `GradientBoostingClassifier` to build your boosting model."
   ],
   "attachments":{},
   "metadata":{
    "datalore":{
     "node_id":"UhNow0SgQyWeHMv9GrMM2h",
     "type":"MD",
     "hide_input_from_viewers":false,
     "hide_output_from_viewers":false,
     "report_properties":{
      "rowId":"PYfZTpdkBDEpdHX7V1z03B"
     }
    }
   }
  },
  {
   "cell_type":"code",
   "source":[
    "# Type your code here\n",
    "\n",
    "# copying splitted dataset \n",
    "adaboost_X_train = X_train_processed.copy()\n",
    "adaboost_y_train = y_train.copy()\n",
    "adaboost_X_val = X_val_processed.copy()\n",
    "adaboost_y_val = y_val.copy()\n",
    "\n",
    "# train model\n",
    "adaboost_model = AdaBoostClassifier(\n",
    "    estimator=DecisionTreeClassifier(max_depth=1),\n",
    "    n_estimators=246,\n",
    "    learning_rate=0.1,\n",
    "    random_state=42\n",
    ")\n",
    "\n",
    "adaboost_model.fit(adaboost_X_train, adaboost_y_train)\n",
    "\n",
    "#akurasi\n",
    "adaboost_y_pred = adaboost_model.predict(adaboost_X_val)\n",
    "\n",
    "adaboost_accuracy = accuracy_score(adaboost_y_val, adaboost_y_pred)\n",
    "print(f\"accuracy: {adaboost_accuracy}\")"
   ],
   "execution_count":24,
   "outputs":[
    {
     "name":"stdout",
     "text":[
      "accuracy: 0.5035398230088496\n"
     ],
     "output_type":"stream"
    }
   ],
   "metadata":{
    "datalore":{
     "node_id":"rEN7M2o9qMRyLjx0NgyQwN",
     "type":"CODE",
     "hide_input_from_viewers":false,
     "hide_output_from_viewers":false,
     "report_properties":{
      "rowId":"IUTNoOgjb3uo3q9FWcimOQ"
     }
    }
   }
  },
  {
   "cell_type":"code",
   "source":[
    "# copying splitted dataset \n",
    "cb_X_train = X_train_processed.copy()\n",
    "cb_y_train = y_train.copy()\n",
    "cb_X_val = X_val_processed.copy()\n",
    "cb_y_val = y_val.copy()\n",
    "\n",
    "cat_features = list(X_train.select_dtypes(include=[\"object\"]).columns)\n",
    "\n",
    "# train model\n",
    "cb_model = CatBoostClassifier(\n",
    "    iterations=500,       \n",
    "    learning_rate=0.1,      \n",
    "    depth=6,                 \n",
    "    cat_features=cat_features,  \n",
    "    verbose=100,             \n",
    "    random_seed=42           \n",
    ")\n",
    "\n",
    "cb_model.fit(cb_X_train, cb_y_train, eval_set=(cb_X_val, cb_y_val), early_stopping_rounds=50)\n",
    "\n",
    "#akurasi\n",
    "cb_y_pred = cb_model.predict(cb_X_val)\n",
    "\n",
    "cb_accuracy = accuracy_score(cb_y_val, cb_y_pred)\n",
    "print(f\"accuracy: {cb_accuracy}\")"
   ],
   "execution_count":null,
   "outputs":[],
   "metadata":{
    "datalore":{
     "node_id":"oAefcXQKEKE1eZliAB7rK6",
     "type":"CODE",
     "hide_input_from_viewers":true,
     "hide_output_from_viewers":true
    }
   }
  },
  {
   "cell_type":"code",
   "source":[
    "# copying splitted dataset \n",
    "xgb_X_train = X_train_processed.copy()\n",
    "xgb_y_train = y_train.copy()\n",
    "xgb_X_val = X_val_processed.copy()\n",
    "xgb_y_val = y_val.copy()\n",
    "\n",
    "# train model\n",
    "xgb_model = xgb.XGBClassifier(\n",
    "    n_estimators=200,\n",
    "    max_depth=6,\n",
    "    learning_rate=0.1,\n",
    "    subsample=0.8,\n",
    "    colsample_bytree=0.8,\n",
    "    random_state=42\n",
    ")\n",
    "\n",
    "xgb_model.fit(xgb_X_train, xgb_y_train)\n",
    "\n",
    "#akurasi\n",
    "xgb_y_pred = xgb_model.predict(xgb_X_val)\n",
    "\n",
    "xgb_accuracy = accuracy_score(xgb_y_val, xgb_y_pred)\n",
    "print(f\"accuracy: {xgb_accuracy}\")"
   ],
   "execution_count":null,
   "outputs":[],
   "metadata":{
    "datalore":{
     "node_id":"UHaY5k9epWsM16PKfijOcr",
     "type":"CODE",
     "hide_input_from_viewers":true,
     "hide_output_from_viewers":true
    }
   }
  },
  {
   "cell_type":"markdown",
   "source":[
    "### 4.1.3 Voting\n",
    "Voting is a technique that trains multiple different models, with each model being trained on the entire dataset. The final prediction is obtained through voting. As a reference, you may use `VotingClassifier` to build your voting model."
   ],
   "attachments":{},
   "metadata":{
    "datalore":{
     "node_id":"rkXnuXvLmSghC9hSdjFP6P",
     "type":"MD",
     "hide_input_from_viewers":false,
     "hide_output_from_viewers":false,
     "report_properties":{
      "rowId":"N67Ii3VGbhvl74PuoqQHB2"
     }
    }
   }
  },
  {
   "cell_type":"code",
   "source":[
    "# Type your code here\n",
    "# copying splitted dataset \n",
    "voting_X_train = X_train_processed.copy()\n",
    "voting_y_train = y_train.copy()\n",
    "voting_X_val = X_val_processed.copy()\n",
    "voting_y_val = y_val.copy()\n",
    "\n",
    "gb_model = GradientBoostingClassifier(n_estimators=100, learning_rate=0.1, max_depth=3, random_state=42)\n",
    "logreg_model = LogisticRegression(max_iter=1000, random_state=42)\n",
    "\n",
    "gb_model\n"
   ],
   "execution_count":25,
   "outputs":[
    {
     "data":{
      "text\/html":[
       "<style>#sk-container-id-1 {color: black;}#sk-container-id-1 pre{padding: 0;}#sk-container-id-1 div.sk-toggleable {background-color: white;}#sk-container-id-1 label.sk-toggleable__label {cursor: pointer;display: block;width: 100%;margin-bottom: 0;padding: 0.3em;box-sizing: border-box;text-align: center;}#sk-container-id-1 label.sk-toggleable__label-arrow:before {content: \"▸\";float: left;margin-right: 0.25em;color: #696969;}#sk-container-id-1 label.sk-toggleable__label-arrow:hover:before {color: black;}#sk-container-id-1 div.sk-estimator:hover label.sk-toggleable__label-arrow:before {color: black;}#sk-container-id-1 div.sk-toggleable__content {max-height: 0;max-width: 0;overflow: hidden;text-align: left;background-color: #f0f8ff;}#sk-container-id-1 div.sk-toggleable__content pre {margin: 0.2em;color: black;border-radius: 0.25em;background-color: #f0f8ff;}#sk-container-id-1 input.sk-toggleable__control:checked~div.sk-toggleable__content {max-height: 200px;max-width: 100%;overflow: auto;}#sk-container-id-1 input.sk-toggleable__control:checked~label.sk-toggleable__label-arrow:before {content: \"▾\";}#sk-container-id-1 div.sk-estimator input.sk-toggleable__control:checked~label.sk-toggleable__label {background-color: #d4ebff;}#sk-container-id-1 div.sk-label input.sk-toggleable__control:checked~label.sk-toggleable__label {background-color: #d4ebff;}#sk-container-id-1 input.sk-hidden--visually {border: 0;clip: rect(1px 1px 1px 1px);clip: rect(1px, 1px, 1px, 1px);height: 1px;margin: -1px;overflow: hidden;padding: 0;position: absolute;width: 1px;}#sk-container-id-1 div.sk-estimator {font-family: monospace;background-color: #f0f8ff;border: 1px dotted black;border-radius: 0.25em;box-sizing: border-box;margin-bottom: 0.5em;}#sk-container-id-1 div.sk-estimator:hover {background-color: #d4ebff;}#sk-container-id-1 div.sk-parallel-item::after {content: \"\";width: 100%;border-bottom: 1px solid gray;flex-grow: 1;}#sk-container-id-1 div.sk-label:hover label.sk-toggleable__label {background-color: #d4ebff;}#sk-container-id-1 div.sk-serial::before {content: \"\";position: absolute;border-left: 1px solid gray;box-sizing: border-box;top: 0;bottom: 0;left: 50%;z-index: 0;}#sk-container-id-1 div.sk-serial {display: flex;flex-direction: column;align-items: center;background-color: white;padding-right: 0.2em;padding-left: 0.2em;position: relative;}#sk-container-id-1 div.sk-item {position: relative;z-index: 1;}#sk-container-id-1 div.sk-parallel {display: flex;align-items: stretch;justify-content: center;background-color: white;position: relative;}#sk-container-id-1 div.sk-item::before, #sk-container-id-1 div.sk-parallel-item::before {content: \"\";position: absolute;border-left: 1px solid gray;box-sizing: border-box;top: 0;bottom: 0;left: 50%;z-index: -1;}#sk-container-id-1 div.sk-parallel-item {display: flex;flex-direction: column;z-index: 1;position: relative;background-color: white;}#sk-container-id-1 div.sk-parallel-item:first-child::after {align-self: flex-end;width: 50%;}#sk-container-id-1 div.sk-parallel-item:last-child::after {align-self: flex-start;width: 50%;}#sk-container-id-1 div.sk-parallel-item:only-child::after {width: 0;}#sk-container-id-1 div.sk-dashed-wrapped {border: 1px dashed gray;margin: 0 0.4em 0.5em 0.4em;box-sizing: border-box;padding-bottom: 0.4em;background-color: white;}#sk-container-id-1 div.sk-label label {font-family: monospace;font-weight: bold;display: inline-block;line-height: 1.2em;}#sk-container-id-1 div.sk-label-container {text-align: center;}#sk-container-id-1 div.sk-container {\/* jupyter's `normalize.less` sets `[hidden] { display: none; }` but bootstrap.min.css set `[hidden] { display: none !important; }` so we also need the `!important` here to be able to override the default hidden behavior on the sphinx rendered scikit-learn.org. See: https:\/\/github.com\/scikit-learn\/scikit-learn\/issues\/21755 *\/display: inline-block !important;position: relative;}#sk-container-id-1 div.sk-text-repr-fallback {display: none;}<\/style><div id=\"sk-container-id-1\" class=\"sk-top-container\"><div class=\"sk-text-repr-fallback\"><pre>GradientBoostingClassifier(random_state=42)<\/pre><b>In a Jupyter environment, please rerun this cell to show the HTML representation or trust the notebook. <br \/>On GitHub, the HTML representation is unable to render, please try loading this page with nbviewer.org.<\/b><\/div><div class=\"sk-container\" hidden><div class=\"sk-item\"><div class=\"sk-estimator sk-toggleable\"><input class=\"sk-toggleable__control sk-hidden--visually\" id=\"sk-estimator-id-1\" type=\"checkbox\" checked><label for=\"sk-estimator-id-1\" class=\"sk-toggleable__label sk-toggleable__label-arrow\">GradientBoostingClassifier<\/label><div class=\"sk-toggleable__content\"><pre>GradientBoostingClassifier(random_state=42)<\/pre><\/div><\/div><\/div><\/div><\/div>"
      ]
     },
     "metadata":{},
     "output_type":"display_data"
    }
   ],
   "metadata":{
    "datalore":{
     "node_id":"i8d1WIN5qxY2ufxZIuJjfv",
     "type":"CODE",
     "hide_input_from_viewers":false,
     "hide_output_from_viewers":false,
     "report_properties":{
      "rowId":"OFCqgQRGKUW9NZrnjEEvQx"
     }
    }
   }
  },
  {
   "cell_type":"markdown",
   "source":[
    "### 4.1.4 Stacking\n",
    "Stacking is a technique that trains multiple different models, with each model being trained on the entire dataset. The final prediction is obtained through a meta-learner model that takes the predictions of the previous models as input. As a reference, you may use `StackingClassifier` to build your stacking model."
   ],
   "attachments":{},
   "metadata":{
    "datalore":{
     "node_id":"RQ1Clqex4JNmPDkOGsUXvO",
     "type":"MD",
     "hide_input_from_viewers":false,
     "hide_output_from_viewers":false,
     "report_properties":{
      "rowId":"1eMwKO3IhwM81tHglKS39F"
     }
    }
   }
  },
  {
   "cell_type":"code",
   "source":[
    "# Type your code here"
   ],
   "execution_count":26,
   "outputs":[],
   "metadata":{
    "datalore":{
     "node_id":"07F8VaK5cq4TiDr3JkSnN9",
     "type":"CODE",
     "hide_input_from_viewers":false,
     "hide_output_from_viewers":false,
     "report_properties":{
      "rowId":"UM3HnnDzWUMoEdeuIJi8cw"
     }
    }
   }
  },
  {
   "cell_type":"markdown",
   "source":[
    "Note: You can use\/add other classifiers that haven't been mentioned, as long as it belong to one of the ensemble methods mentioned above."
   ],
   "attachments":{},
   "metadata":{
    "datalore":{
     "node_id":"8mLUye3AULElLDxno47ZQu",
     "type":"MD",
     "hide_input_from_viewers":false,
     "hide_output_from_viewers":false,
     "report_properties":{
      "rowId":"prrkVBCPXp3yiQShLpaotm"
     }
    }
   }
  },
  {
   "cell_type":"markdown",
   "source":[
    "## 4.2 Validation\n",
    "\n",
    "Validation is the process of evaluating a trained model using a validation set or cross-validation method. It provides metrics that help determine the necessary steps for the next iteration of model development.  \n",
    "\n",
    "For validation, the metric used is **log loss**, which measures the model's performance in terms of probabilistic predictions. A lower log loss indicates better model calibration.  \n",
    "\n",
    "### Required Validation Results  \n",
    "The validation results that must be included in the notebook are:  \n",
    "1. The validation results from the required baseline models.  \n",
    "2. The validation results from the final submission model on **Kaggle**.  "
   ],
   "attachments":{},
   "metadata":{
    "datalore":{
     "node_id":"B3HeqJBaAWbFCIaqP4nePp",
     "type":"MD",
     "hide_input_from_viewers":false,
     "hide_output_from_viewers":false,
     "report_properties":{
      "rowId":"jxjJ9is9EC5SDFMctSmSGH"
     }
    }
   }
  },
  {
   "cell_type":"code",
   "source":[
    "# Type your code here"
   ],
   "execution_count":27,
   "outputs":[],
   "metadata":{
    "datalore":{
     "node_id":"CGNC99dlwMTKFx16b0shi7",
     "type":"CODE",
     "hide_input_from_viewers":false,
     "hide_output_from_viewers":false,
     "report_properties":{
      "rowId":"w23WbSLtsJELoWJYlS4umU"
     }
    }
   }
  },
  {
   "cell_type":"markdown",
   "source":[
    "## Submission\n",
    "To predict the test set target feature and submit the results to the kaggle competition platform, do the following:\n",
    "1. Create a new pipeline instance identical to the first in Data Preprocessing\n",
    "2. With the pipeline, apply `fit_transform` to the original training set before splitting, then only apply `transform` to the test set.\n",
    "3. Retrain the model on the preprocessed training set\n",
    "4. Predict the test set\n",
    "5. Make sure the submission contains the `ID`, `Segmentation` column."
   ],
   "attachments":{},
   "metadata":{
    "datalore":{
     "node_id":"uGdh7uTwalW63qw5VfIryx",
     "type":"MD",
     "hide_input_from_viewers":false,
     "hide_output_from_viewers":false,
     "report_properties":{
      "rowId":"dqoqlJKKkITPub23JB3LDt"
     }
    }
   }
  },
  {
   "cell_type":"code",
   "source":[
    "def get_submission(model, test):\n",
    "\n",
    "    y_pred = model.predict(test)\n",
    "    sub = pd.DataFrame({'id': id_test, 'Exam_Score': y_pred})\n",
    "    \n",
    "    return sub"
   ],
   "execution_count":28,
   "outputs":[],
   "metadata":{
    "datalore":{
     "node_id":"suhn9aLc0y76A4EyROWuQO",
     "type":"CODE",
     "hide_input_from_viewers":true,
     "hide_output_from_viewers":true
    }
   }
  },
  {
   "cell_type":"code",
   "source":[
    "submission = pd.DataFrame({\n",
    "    \"ID\": X_val[\"ID\"],\n",
    "    \"Segmentation\": rf_y_pred\n",
    "})\n",
    "\n",
    "submission.to_csv(\"submission.csv\", index=False)"
   ],
   "execution_count":29,
   "outputs":[],
   "metadata":{
    "datalore":{
     "node_id":"NYGUhQJc0T24HsCJXcFD9d",
     "type":"CODE",
     "hide_input_from_viewers":true,
     "hide_output_from_viewers":true
    }
   }
  },
  {
   "cell_type":"markdown",
   "source":[
    "# 5. Error Analysis\n",
    "\n",
    "Based on all the process you have done until the modeling and evaluation step, write an analysis to support each steps you have taken to solve this problem. Write the analysis using the markdown block. Some questions that may help you in writing the analysis:\n",
    "\n",
    "1. Which segments (A, B, C, D) have the highest and lowest misclassification rates?\n",
    "2. Are there any specific segments where the model struggles to make correct predictions?\n",
    "3. Which features contribute the most to incorrect predictions?\n",
    "4. Which ensemble technique (Bagging, Boosting, Stacking, Voting) produces the lowest log loss?\n",
    "5. Are there significant differences in error distribution between different ensemble models?\n",
    "6. Does a particular model consistently misclassify certain segments more than others?\n",
    "7. etc.."
   ],
   "attachments":{},
   "metadata":{
    "datalore":{
     "node_id":"hmznY9S2DWGU6TNDOXaA68",
     "type":"MD",
     "hide_input_from_viewers":false,
     "hide_output_from_viewers":false,
     "report_properties":{
      "rowId":"lLEVLKQxCLnxX2yeD8n6t7"
     }
    }
   }
  },
  {
   "cell_type":"markdown",
   "source":[
    "`Provide your analysis here`"
   ],
   "attachments":{},
   "metadata":{
    "datalore":{
     "node_id":"boWgOp1x6GOSaW8l0tptPh",
     "type":"MD",
     "hide_input_from_viewers":false,
     "hide_output_from_viewers":false,
     "report_properties":{
      "rowId":"MtnvdxZIMfqqhGAJz565g3"
     }
    }
   }
  },
  {
   "cell_type":"code",
   "source":[
    "# Type your code here"
   ],
   "execution_count":30,
   "outputs":[],
   "metadata":{
    "datalore":{
     "node_id":"tn10L8fAwWZAX9euT14Lsb",
     "type":"CODE",
     "hide_input_from_viewers":false,
     "hide_output_from_viewers":false,
     "report_properties":{
      "rowId":"TToyieLEBVB3PeiB8Z3RSt"
     }
    }
   }
  }
 ],
 "metadata":{
  "kernelspec":{
   "display_name":"Python",
   "language":"python",
   "name":"python"
  },
  "datalore":{
   "computation_mode":"JUPYTER",
   "package_manager":"pip",
   "base_environment":"default",
   "packages":[],
   "report_row_ids":[],
   "report_tabs":[
    {
     "id":"rDgs6E34gFEXcAmFKPQSUq",
     "name":"Report tab",
     "rows":[
      "DQuqYNEiNZkTVKF02lWmak",
      "9BTsUJTTG7PbuRUF9pXchS",
      "PIxLWlRtrGZZVO4W8hvkBP",
      "CQbuTyMgadKnX6ygQwaNNQ",
      "BytNY3bJzQ4srUKQD3FSCb",
      "HL5dY6Gf41wXPlufKbNlA8",
      "5x34N2wXd9fvQ73zr3p0xJ",
      "5mQmOcx2ow93I4v02YtBHY",
      "DhvoSjHPkzKnASlQCdOz9V",
      "a6iolIl1Jwbjj5FZH51j0R",
      "gfCtbpFSLXoDEMLUfGKWXf",
      "X5ZE4qHfSvybj9Jrl0DMQI",
      "uRLt6MoH1sjasbBd7zeIg3",
      "dUQznUOBORaGzwzxbXkdXD",
      "aHUykDLhFgHBaSnB1C5i1F",
      "KQWAUdX86bs4wqjpHSsYfr",
      "aYmo2dmiJYY8jRrlDy50I8",
      "xRyabjfOtmLlmb5jhPuOZd",
      "xQKFXcZuu9UdSHYiWx27wu",
      "Auk6YWu2lIRQu4MvuE39S6",
      "nk5Kqpl40iluIRwwjmeTIh",
      "0BX87gwgok8N6tLn7VFHoo",
      "PYfZTpdkBDEpdHX7V1z03B",
      "IUTNoOgjb3uo3q9FWcimOQ",
      "N67Ii3VGbhvl74PuoqQHB2",
      "OFCqgQRGKUW9NZrnjEEvQx",
      "1eMwKO3IhwM81tHglKS39F",
      "UM3HnnDzWUMoEdeuIJi8cw",
      "prrkVBCPXp3yiQShLpaotm",
      "jxjJ9is9EC5SDFMctSmSGH",
      "w23WbSLtsJELoWJYlS4umU",
      "dqoqlJKKkITPub23JB3LDt",
      "TToyieLEBVB3PeiB8Z3RSt",
      "lLEVLKQxCLnxX2yeD8n6t7",
      "MtnvdxZIMfqqhGAJz565g3"
     ]
    }
   ],
   "version":4
  }
 },
 "nbformat":4,
 "nbformat_minor":4
}