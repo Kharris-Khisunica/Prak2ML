{
  "cells": [
    {
      "cell_type": "markdown",
      "source": [
        "# IF3270 Machine Learning | Praktikum\n",
        "\n",
        "This notebook serves as a template for the assignment. Please create a copy of this notebook to complete your work. You can add more code blocks, markdown blocks, or new sections if needed."
      ],
      "metadata": {
        "datalore": {
          "node_id": "RQYMX01AVLLjSPB9dHGBXd",
          "type": "MD",
          "hide_input_from_viewers": false,
          "hide_output_from_viewers": false,
          "report_properties": {
            "rowId": "DQuqYNEiNZkTVKF02lWmak"
          }
        },
        "id": "jm83Kdt451as"
      }
    },
    {
      "cell_type": "markdown",
      "source": [
        "Group Number: 84\n",
        "\n",
        "Group Members:\n",
        "- Kharris Khisunica (13522051)\n",
        "- Fabian Radenta Bangun (13522105)"
      ],
      "metadata": {
        "datalore": {
          "node_id": "C6GjhgGGcxptRP61SpVbFK",
          "type": "MD",
          "hide_input_from_viewers": false,
          "hide_output_from_viewers": false,
          "report_properties": {
            "rowId": "9BTsUJTTG7PbuRUF9pXchS"
          }
        },
        "id": "VGHJ9Enl51au"
      }
    },
    {
      "cell_type": "markdown",
      "source": [
        "## Import Libraries"
      ],
      "metadata": {
        "datalore": {
          "node_id": "figkgMrQaPMn79N52vZSC7",
          "type": "MD",
          "hide_input_from_viewers": false,
          "hide_output_from_viewers": false,
          "report_properties": {
            "rowId": "PIxLWlRtrGZZVO4W8hvkBP"
          }
        },
        "id": "F90APwRm51av"
      }
    },
    {
      "cell_type": "code",
      "source": [
        "import pandas as pd\n",
        "import numpy as np\n",
        "from sklearn.model_selection import train_test_split\n",
        "import seaborn as sns\n",
        "import matplotlib.pyplot as plt\n",
        "from sklearn.ensemble import RandomForestClassifier, AdaBoostClassifier, GradientBoostingClassifier, VotingClassifier\n",
        "from sklearn.metrics import accuracy_score\n",
        "from sklearn.preprocessing import LabelEncoder\n",
        "from sklearn.tree import DecisionTreeClassifier\n",
        "from sklearn.base import TransformerMixin\n",
        "from scipy.stats import skew\n",
        "from sklearn.base import TransformerMixin, BaseEstimator\n",
        "from sklearn.preprocessing import LabelEncoder\n",
        "from sklearn.preprocessing import MinMaxScaler\n",
        "from sklearn.pipeline import Pipeline\n",
        "from sklearn.linear_model import LogisticRegression\n",
        "from google.colab import files\n",
        "from sklearn.metrics import f1_score\n",
        "\n",
        "\n",
        "# Import other libraries if needed"
      ],
      "execution_count": null,
      "outputs": [],
      "metadata": {
        "datalore": {
          "node_id": "mIXHymujw8sbIHcZu7I10L",
          "type": "CODE",
          "hide_input_from_viewers": false,
          "hide_output_from_viewers": false,
          "report_properties": {
            "rowId": "CQbuTyMgadKnX6ygQwaNNQ"
          }
        },
        "id": "iEI1zgGa51av"
      }
    },
    {
      "cell_type": "markdown",
      "source": [
        "## Import Dataset"
      ],
      "metadata": {
        "datalore": {
          "node_id": "XHH3pBUKlnHMlAbFrO0Hiv",
          "type": "MD",
          "hide_input_from_viewers": false,
          "hide_output_from_viewers": false,
          "report_properties": {
            "rowId": "BytNY3bJzQ4srUKQD3FSCb"
          }
        },
        "id": "qvoEQkXz51ax"
      }
    },
    {
      "cell_type": "code",
      "source": [
        "# Write your code here\n",
        "url_train = \"https://drive.google.com/uc?id=1ggP3sVLEkXwvxMvQw9CyfdSbaP_dF8dg\"\n",
        "url_test = \"https://drive.google.com/uc?id=1LHuBzwxKZHAZ8QGohqme-0lFFFj9Eed4\"\n",
        "\n",
        "df_train = pd.read_csv(url_train)\n",
        "df_test = pd.read_csv(url_test)"
      ],
      "execution_count": null,
      "outputs": [],
      "metadata": {
        "datalore": {
          "node_id": "f3FQ1YKP5foyvpz9rjwYZs",
          "type": "CODE",
          "hide_input_from_viewers": false,
          "hide_output_from_viewers": false,
          "report_properties": {
            "rowId": "HL5dY6Gf41wXPlufKbNlA8"
          }
        },
        "id": "NRc2JwCw51ax"
      }
    },
    {
      "cell_type": "markdown",
      "source": [
        "# 1. Exploratory Data Analysis\n",
        "\n",
        "Exploratory Data Analysis (EDA) is a crucial step in the data analysis process that involves examining and visualizing data sets to uncover patterns, trends, anomalies, and insights. It is the first step before applying more advanced statistical and machine learning techniques. EDA helps you to gain a deep understanding of the data you are working with, allowing you to make informed decisions and formulate hypotheses for further analysis. Provide at least 3 analysis"
      ],
      "metadata": {
        "datalore": {
          "node_id": "QXy4cskOMjMuRYGjX7ozks",
          "type": "MD",
          "hide_input_from_viewers": false,
          "hide_output_from_viewers": false,
          "report_properties": {
            "rowId": "5x34N2wXd9fvQ73zr3p0xJ"
          }
        },
        "id": "gWDmJ_6v51ay"
      }
    },
    {
      "cell_type": "code",
      "source": [
        "df_train.head()"
      ],
      "execution_count": null,
      "outputs": [
        {
          "output_type": "execute_result",
          "data": {
            "text/plain": [
              "       ID  Gender Ever_Married  Age Graduated     Profession  Work_Experience  \\\n",
              "0  464198    Male          Yes   49       Yes  Entertainment              1.0   \n",
              "1  464238    Male          Yes   87       Yes         Doctor              0.0   \n",
              "2  461219  Female           No   28       Yes     Healthcare              8.0   \n",
              "3  466979  Female          Yes   39       Yes      Homemaker              NaN   \n",
              "4  464835    Male          Yes   19        No     Healthcare              1.0   \n",
              "\n",
              "  Spending_Score  Family_Size  Var_1 Segmentation  \n",
              "0            Low          2.0  Cat_6            A  \n",
              "1           High          2.0  Cat_6            A  \n",
              "2            Low          3.0  Cat_6            D  \n",
              "3        Average          1.0  Cat_3            A  \n",
              "4            Low          6.0  Cat_4            D  "
            ],
            "text/html": [
              "\n",
              "  <div id=\"df-91a5e0f6-ecb0-43b1-b3f1-ae3344ced241\" class=\"colab-df-container\">\n",
              "    <div>\n",
              "<style scoped>\n",
              "    .dataframe tbody tr th:only-of-type {\n",
              "        vertical-align: middle;\n",
              "    }\n",
              "\n",
              "    .dataframe tbody tr th {\n",
              "        vertical-align: top;\n",
              "    }\n",
              "\n",
              "    .dataframe thead th {\n",
              "        text-align: right;\n",
              "    }\n",
              "</style>\n",
              "<table border=\"1\" class=\"dataframe\">\n",
              "  <thead>\n",
              "    <tr style=\"text-align: right;\">\n",
              "      <th></th>\n",
              "      <th>ID</th>\n",
              "      <th>Gender</th>\n",
              "      <th>Ever_Married</th>\n",
              "      <th>Age</th>\n",
              "      <th>Graduated</th>\n",
              "      <th>Profession</th>\n",
              "      <th>Work_Experience</th>\n",
              "      <th>Spending_Score</th>\n",
              "      <th>Family_Size</th>\n",
              "      <th>Var_1</th>\n",
              "      <th>Segmentation</th>\n",
              "    </tr>\n",
              "  </thead>\n",
              "  <tbody>\n",
              "    <tr>\n",
              "      <th>0</th>\n",
              "      <td>464198</td>\n",
              "      <td>Male</td>\n",
              "      <td>Yes</td>\n",
              "      <td>49</td>\n",
              "      <td>Yes</td>\n",
              "      <td>Entertainment</td>\n",
              "      <td>1.0</td>\n",
              "      <td>Low</td>\n",
              "      <td>2.0</td>\n",
              "      <td>Cat_6</td>\n",
              "      <td>A</td>\n",
              "    </tr>\n",
              "    <tr>\n",
              "      <th>1</th>\n",
              "      <td>464238</td>\n",
              "      <td>Male</td>\n",
              "      <td>Yes</td>\n",
              "      <td>87</td>\n",
              "      <td>Yes</td>\n",
              "      <td>Doctor</td>\n",
              "      <td>0.0</td>\n",
              "      <td>High</td>\n",
              "      <td>2.0</td>\n",
              "      <td>Cat_6</td>\n",
              "      <td>A</td>\n",
              "    </tr>\n",
              "    <tr>\n",
              "      <th>2</th>\n",
              "      <td>461219</td>\n",
              "      <td>Female</td>\n",
              "      <td>No</td>\n",
              "      <td>28</td>\n",
              "      <td>Yes</td>\n",
              "      <td>Healthcare</td>\n",
              "      <td>8.0</td>\n",
              "      <td>Low</td>\n",
              "      <td>3.0</td>\n",
              "      <td>Cat_6</td>\n",
              "      <td>D</td>\n",
              "    </tr>\n",
              "    <tr>\n",
              "      <th>3</th>\n",
              "      <td>466979</td>\n",
              "      <td>Female</td>\n",
              "      <td>Yes</td>\n",
              "      <td>39</td>\n",
              "      <td>Yes</td>\n",
              "      <td>Homemaker</td>\n",
              "      <td>NaN</td>\n",
              "      <td>Average</td>\n",
              "      <td>1.0</td>\n",
              "      <td>Cat_3</td>\n",
              "      <td>A</td>\n",
              "    </tr>\n",
              "    <tr>\n",
              "      <th>4</th>\n",
              "      <td>464835</td>\n",
              "      <td>Male</td>\n",
              "      <td>Yes</td>\n",
              "      <td>19</td>\n",
              "      <td>No</td>\n",
              "      <td>Healthcare</td>\n",
              "      <td>1.0</td>\n",
              "      <td>Low</td>\n",
              "      <td>6.0</td>\n",
              "      <td>Cat_4</td>\n",
              "      <td>D</td>\n",
              "    </tr>\n",
              "  </tbody>\n",
              "</table>\n",
              "</div>\n",
              "    <div class=\"colab-df-buttons\">\n",
              "\n",
              "  <div class=\"colab-df-container\">\n",
              "    <button class=\"colab-df-convert\" onclick=\"convertToInteractive('df-91a5e0f6-ecb0-43b1-b3f1-ae3344ced241')\"\n",
              "            title=\"Convert this dataframe to an interactive table.\"\n",
              "            style=\"display:none;\">\n",
              "\n",
              "  <svg xmlns=\"http://www.w3.org/2000/svg\" height=\"24px\" viewBox=\"0 -960 960 960\">\n",
              "    <path d=\"M120-120v-720h720v720H120Zm60-500h600v-160H180v160Zm220 220h160v-160H400v160Zm0 220h160v-160H400v160ZM180-400h160v-160H180v160Zm440 0h160v-160H620v160ZM180-180h160v-160H180v160Zm440 0h160v-160H620v160Z\"/>\n",
              "  </svg>\n",
              "    </button>\n",
              "\n",
              "  <style>\n",
              "    .colab-df-container {\n",
              "      display:flex;\n",
              "      gap: 12px;\n",
              "    }\n",
              "\n",
              "    .colab-df-convert {\n",
              "      background-color: #E8F0FE;\n",
              "      border: none;\n",
              "      border-radius: 50%;\n",
              "      cursor: pointer;\n",
              "      display: none;\n",
              "      fill: #1967D2;\n",
              "      height: 32px;\n",
              "      padding: 0 0 0 0;\n",
              "      width: 32px;\n",
              "    }\n",
              "\n",
              "    .colab-df-convert:hover {\n",
              "      background-color: #E2EBFA;\n",
              "      box-shadow: 0px 1px 2px rgba(60, 64, 67, 0.3), 0px 1px 3px 1px rgba(60, 64, 67, 0.15);\n",
              "      fill: #174EA6;\n",
              "    }\n",
              "\n",
              "    .colab-df-buttons div {\n",
              "      margin-bottom: 4px;\n",
              "    }\n",
              "\n",
              "    [theme=dark] .colab-df-convert {\n",
              "      background-color: #3B4455;\n",
              "      fill: #D2E3FC;\n",
              "    }\n",
              "\n",
              "    [theme=dark] .colab-df-convert:hover {\n",
              "      background-color: #434B5C;\n",
              "      box-shadow: 0px 1px 3px 1px rgba(0, 0, 0, 0.15);\n",
              "      filter: drop-shadow(0px 1px 2px rgba(0, 0, 0, 0.3));\n",
              "      fill: #FFFFFF;\n",
              "    }\n",
              "  </style>\n",
              "\n",
              "    <script>\n",
              "      const buttonEl =\n",
              "        document.querySelector('#df-91a5e0f6-ecb0-43b1-b3f1-ae3344ced241 button.colab-df-convert');\n",
              "      buttonEl.style.display =\n",
              "        google.colab.kernel.accessAllowed ? 'block' : 'none';\n",
              "\n",
              "      async function convertToInteractive(key) {\n",
              "        const element = document.querySelector('#df-91a5e0f6-ecb0-43b1-b3f1-ae3344ced241');\n",
              "        const dataTable =\n",
              "          await google.colab.kernel.invokeFunction('convertToInteractive',\n",
              "                                                    [key], {});\n",
              "        if (!dataTable) return;\n",
              "\n",
              "        const docLinkHtml = 'Like what you see? Visit the ' +\n",
              "          '<a target=\"_blank\" href=https://colab.research.google.com/notebooks/data_table.ipynb>data table notebook</a>'\n",
              "          + ' to learn more about interactive tables.';\n",
              "        element.innerHTML = '';\n",
              "        dataTable['output_type'] = 'display_data';\n",
              "        await google.colab.output.renderOutput(dataTable, element);\n",
              "        const docLink = document.createElement('div');\n",
              "        docLink.innerHTML = docLinkHtml;\n",
              "        element.appendChild(docLink);\n",
              "      }\n",
              "    </script>\n",
              "  </div>\n",
              "\n",
              "\n",
              "<div id=\"df-77b540b0-f5c1-425d-bc2b-410ca05fd294\">\n",
              "  <button class=\"colab-df-quickchart\" onclick=\"quickchart('df-77b540b0-f5c1-425d-bc2b-410ca05fd294')\"\n",
              "            title=\"Suggest charts\"\n",
              "            style=\"display:none;\">\n",
              "\n",
              "<svg xmlns=\"http://www.w3.org/2000/svg\" height=\"24px\"viewBox=\"0 0 24 24\"\n",
              "     width=\"24px\">\n",
              "    <g>\n",
              "        <path d=\"M19 3H5c-1.1 0-2 .9-2 2v14c0 1.1.9 2 2 2h14c1.1 0 2-.9 2-2V5c0-1.1-.9-2-2-2zM9 17H7v-7h2v7zm4 0h-2V7h2v10zm4 0h-2v-4h2v4z\"/>\n",
              "    </g>\n",
              "</svg>\n",
              "  </button>\n",
              "\n",
              "<style>\n",
              "  .colab-df-quickchart {\n",
              "      --bg-color: #E8F0FE;\n",
              "      --fill-color: #1967D2;\n",
              "      --hover-bg-color: #E2EBFA;\n",
              "      --hover-fill-color: #174EA6;\n",
              "      --disabled-fill-color: #AAA;\n",
              "      --disabled-bg-color: #DDD;\n",
              "  }\n",
              "\n",
              "  [theme=dark] .colab-df-quickchart {\n",
              "      --bg-color: #3B4455;\n",
              "      --fill-color: #D2E3FC;\n",
              "      --hover-bg-color: #434B5C;\n",
              "      --hover-fill-color: #FFFFFF;\n",
              "      --disabled-bg-color: #3B4455;\n",
              "      --disabled-fill-color: #666;\n",
              "  }\n",
              "\n",
              "  .colab-df-quickchart {\n",
              "    background-color: var(--bg-color);\n",
              "    border: none;\n",
              "    border-radius: 50%;\n",
              "    cursor: pointer;\n",
              "    display: none;\n",
              "    fill: var(--fill-color);\n",
              "    height: 32px;\n",
              "    padding: 0;\n",
              "    width: 32px;\n",
              "  }\n",
              "\n",
              "  .colab-df-quickchart:hover {\n",
              "    background-color: var(--hover-bg-color);\n",
              "    box-shadow: 0 1px 2px rgba(60, 64, 67, 0.3), 0 1px 3px 1px rgba(60, 64, 67, 0.15);\n",
              "    fill: var(--button-hover-fill-color);\n",
              "  }\n",
              "\n",
              "  .colab-df-quickchart-complete:disabled,\n",
              "  .colab-df-quickchart-complete:disabled:hover {\n",
              "    background-color: var(--disabled-bg-color);\n",
              "    fill: var(--disabled-fill-color);\n",
              "    box-shadow: none;\n",
              "  }\n",
              "\n",
              "  .colab-df-spinner {\n",
              "    border: 2px solid var(--fill-color);\n",
              "    border-color: transparent;\n",
              "    border-bottom-color: var(--fill-color);\n",
              "    animation:\n",
              "      spin 1s steps(1) infinite;\n",
              "  }\n",
              "\n",
              "  @keyframes spin {\n",
              "    0% {\n",
              "      border-color: transparent;\n",
              "      border-bottom-color: var(--fill-color);\n",
              "      border-left-color: var(--fill-color);\n",
              "    }\n",
              "    20% {\n",
              "      border-color: transparent;\n",
              "      border-left-color: var(--fill-color);\n",
              "      border-top-color: var(--fill-color);\n",
              "    }\n",
              "    30% {\n",
              "      border-color: transparent;\n",
              "      border-left-color: var(--fill-color);\n",
              "      border-top-color: var(--fill-color);\n",
              "      border-right-color: var(--fill-color);\n",
              "    }\n",
              "    40% {\n",
              "      border-color: transparent;\n",
              "      border-right-color: var(--fill-color);\n",
              "      border-top-color: var(--fill-color);\n",
              "    }\n",
              "    60% {\n",
              "      border-color: transparent;\n",
              "      border-right-color: var(--fill-color);\n",
              "    }\n",
              "    80% {\n",
              "      border-color: transparent;\n",
              "      border-right-color: var(--fill-color);\n",
              "      border-bottom-color: var(--fill-color);\n",
              "    }\n",
              "    90% {\n",
              "      border-color: transparent;\n",
              "      border-bottom-color: var(--fill-color);\n",
              "    }\n",
              "  }\n",
              "</style>\n",
              "\n",
              "  <script>\n",
              "    async function quickchart(key) {\n",
              "      const quickchartButtonEl =\n",
              "        document.querySelector('#' + key + ' button');\n",
              "      quickchartButtonEl.disabled = true;  // To prevent multiple clicks.\n",
              "      quickchartButtonEl.classList.add('colab-df-spinner');\n",
              "      try {\n",
              "        const charts = await google.colab.kernel.invokeFunction(\n",
              "            'suggestCharts', [key], {});\n",
              "      } catch (error) {\n",
              "        console.error('Error during call to suggestCharts:', error);\n",
              "      }\n",
              "      quickchartButtonEl.classList.remove('colab-df-spinner');\n",
              "      quickchartButtonEl.classList.add('colab-df-quickchart-complete');\n",
              "    }\n",
              "    (() => {\n",
              "      let quickchartButtonEl =\n",
              "        document.querySelector('#df-77b540b0-f5c1-425d-bc2b-410ca05fd294 button');\n",
              "      quickchartButtonEl.style.display =\n",
              "        google.colab.kernel.accessAllowed ? 'block' : 'none';\n",
              "    })();\n",
              "  </script>\n",
              "</div>\n",
              "\n",
              "    </div>\n",
              "  </div>\n"
            ],
            "application/vnd.google.colaboratory.intrinsic+json": {
              "type": "dataframe",
              "variable_name": "df_train",
              "summary": "{\n  \"name\": \"df_train\",\n  \"rows\": 5647,\n  \"fields\": [\n    {\n      \"column\": \"ID\",\n      \"properties\": {\n        \"dtype\": \"number\",\n        \"std\": 2598,\n        \"min\": 458982,\n        \"max\": 467974,\n        \"num_unique_values\": 5647,\n        \"samples\": [\n          459300,\n          466395,\n          462757\n        ],\n        \"semantic_type\": \"\",\n        \"description\": \"\"\n      }\n    },\n    {\n      \"column\": \"Gender\",\n      \"properties\": {\n        \"dtype\": \"category\",\n        \"num_unique_values\": 2,\n        \"samples\": [\n          \"Female\",\n          \"Male\"\n        ],\n        \"semantic_type\": \"\",\n        \"description\": \"\"\n      }\n    },\n    {\n      \"column\": \"Ever_Married\",\n      \"properties\": {\n        \"dtype\": \"category\",\n        \"num_unique_values\": 2,\n        \"samples\": [\n          \"No\",\n          \"Yes\"\n        ],\n        \"semantic_type\": \"\",\n        \"description\": \"\"\n      }\n    },\n    {\n      \"column\": \"Age\",\n      \"properties\": {\n        \"dtype\": \"number\",\n        \"std\": 16,\n        \"min\": 16,\n        \"max\": 91,\n        \"num_unique_values\": 76,\n        \"samples\": [\n          19,\n          58\n        ],\n        \"semantic_type\": \"\",\n        \"description\": \"\"\n      }\n    },\n    {\n      \"column\": \"Graduated\",\n      \"properties\": {\n        \"dtype\": \"category\",\n        \"num_unique_values\": 2,\n        \"samples\": [\n          \"No\",\n          \"Yes\"\n        ],\n        \"semantic_type\": \"\",\n        \"description\": \"\"\n      }\n    },\n    {\n      \"column\": \"Profession\",\n      \"properties\": {\n        \"dtype\": \"category\",\n        \"num_unique_values\": 9,\n        \"samples\": [\n          \"Engineer\",\n          \"Doctor\"\n        ],\n        \"semantic_type\": \"\",\n        \"description\": \"\"\n      }\n    },\n    {\n      \"column\": \"Work_Experience\",\n      \"properties\": {\n        \"dtype\": \"number\",\n        \"std\": 3.4292391647163405,\n        \"min\": 0.0,\n        \"max\": 14.0,\n        \"num_unique_values\": 15,\n        \"samples\": [\n          11.0,\n          5.0\n        ],\n        \"semantic_type\": \"\",\n        \"description\": \"\"\n      }\n    },\n    {\n      \"column\": \"Spending_Score\",\n      \"properties\": {\n        \"dtype\": \"category\",\n        \"num_unique_values\": 3,\n        \"samples\": [\n          \"Low\",\n          \"High\"\n        ],\n        \"semantic_type\": \"\",\n        \"description\": \"\"\n      }\n    },\n    {\n      \"column\": \"Family_Size\",\n      \"properties\": {\n        \"dtype\": \"number\",\n        \"std\": 1.5365006725780666,\n        \"min\": 1.0,\n        \"max\": 9.0,\n        \"num_unique_values\": 9,\n        \"samples\": [\n          9.0,\n          3.0\n        ],\n        \"semantic_type\": \"\",\n        \"description\": \"\"\n      }\n    },\n    {\n      \"column\": \"Var_1\",\n      \"properties\": {\n        \"dtype\": \"category\",\n        \"num_unique_values\": 7,\n        \"samples\": [\n          \"Cat_6\",\n          \"Cat_3\"\n        ],\n        \"semantic_type\": \"\",\n        \"description\": \"\"\n      }\n    },\n    {\n      \"column\": \"Segmentation\",\n      \"properties\": {\n        \"dtype\": \"category\",\n        \"num_unique_values\": 4,\n        \"samples\": [\n          \"D\",\n          \"C\"\n        ],\n        \"semantic_type\": \"\",\n        \"description\": \"\"\n      }\n    }\n  ]\n}"
            }
          },
          "metadata": {},
          "execution_count": 5
        }
      ],
      "metadata": {
        "datalore": {
          "node_id": "q5CigS0Z90BCN92RKfdo81",
          "type": "CODE",
          "hide_input_from_viewers": true,
          "hide_output_from_viewers": true
        },
        "colab": {
          "base_uri": "https://localhost:8080/",
          "height": 206
        },
        "id": "VimhI8pg51ay",
        "outputId": "4829e0ff-ad8d-4035-a9f0-ef40b20de2a5"
      }
    },
    {
      "cell_type": "markdown",
      "source": [
        "### Data Size"
      ],
      "metadata": {
        "datalore": {
          "node_id": "AUWP1DKmbDoeoH9BDx4tuu",
          "type": "MD",
          "hide_input_from_viewers": true,
          "hide_output_from_viewers": true
        },
        "id": "SERITPeu51az"
      }
    },
    {
      "cell_type": "code",
      "source": [
        "df_train.shape"
      ],
      "execution_count": null,
      "outputs": [
        {
          "output_type": "execute_result",
          "data": {
            "text/plain": [
              "(5647, 11)"
            ]
          },
          "metadata": {},
          "execution_count": 6
        }
      ],
      "metadata": {
        "datalore": {
          "node_id": "EuvqIFwTXTSyqH0Fo6Vzwj",
          "type": "CODE",
          "hide_input_from_viewers": true,
          "hide_output_from_viewers": true
        },
        "colab": {
          "base_uri": "https://localhost:8080/"
        },
        "id": "BP7Cv-tV51az",
        "outputId": "66aa9aec-8fdb-4326-bc03-2a6f875069ae"
      }
    },
    {
      "cell_type": "markdown",
      "source": [
        "### Data Types"
      ],
      "metadata": {
        "datalore": {
          "node_id": "ku7F0Zp7lU0ccWUWfo3kcD",
          "type": "MD",
          "hide_input_from_viewers": true,
          "hide_output_from_viewers": true
        },
        "id": "S648xmuk51az"
      }
    },
    {
      "cell_type": "code",
      "source": [
        "df_train.dtypes"
      ],
      "execution_count": null,
      "outputs": [
        {
          "output_type": "execute_result",
          "data": {
            "text/plain": [
              "ID                   int64\n",
              "Gender              object\n",
              "Ever_Married        object\n",
              "Age                  int64\n",
              "Graduated           object\n",
              "Profession          object\n",
              "Work_Experience    float64\n",
              "Spending_Score      object\n",
              "Family_Size        float64\n",
              "Var_1               object\n",
              "Segmentation        object\n",
              "dtype: object"
            ],
            "text/html": [
              "<div>\n",
              "<style scoped>\n",
              "    .dataframe tbody tr th:only-of-type {\n",
              "        vertical-align: middle;\n",
              "    }\n",
              "\n",
              "    .dataframe tbody tr th {\n",
              "        vertical-align: top;\n",
              "    }\n",
              "\n",
              "    .dataframe thead th {\n",
              "        text-align: right;\n",
              "    }\n",
              "</style>\n",
              "<table border=\"1\" class=\"dataframe\">\n",
              "  <thead>\n",
              "    <tr style=\"text-align: right;\">\n",
              "      <th></th>\n",
              "      <th>0</th>\n",
              "    </tr>\n",
              "  </thead>\n",
              "  <tbody>\n",
              "    <tr>\n",
              "      <th>ID</th>\n",
              "      <td>int64</td>\n",
              "    </tr>\n",
              "    <tr>\n",
              "      <th>Gender</th>\n",
              "      <td>object</td>\n",
              "    </tr>\n",
              "    <tr>\n",
              "      <th>Ever_Married</th>\n",
              "      <td>object</td>\n",
              "    </tr>\n",
              "    <tr>\n",
              "      <th>Age</th>\n",
              "      <td>int64</td>\n",
              "    </tr>\n",
              "    <tr>\n",
              "      <th>Graduated</th>\n",
              "      <td>object</td>\n",
              "    </tr>\n",
              "    <tr>\n",
              "      <th>Profession</th>\n",
              "      <td>object</td>\n",
              "    </tr>\n",
              "    <tr>\n",
              "      <th>Work_Experience</th>\n",
              "      <td>float64</td>\n",
              "    </tr>\n",
              "    <tr>\n",
              "      <th>Spending_Score</th>\n",
              "      <td>object</td>\n",
              "    </tr>\n",
              "    <tr>\n",
              "      <th>Family_Size</th>\n",
              "      <td>float64</td>\n",
              "    </tr>\n",
              "    <tr>\n",
              "      <th>Var_1</th>\n",
              "      <td>object</td>\n",
              "    </tr>\n",
              "    <tr>\n",
              "      <th>Segmentation</th>\n",
              "      <td>object</td>\n",
              "    </tr>\n",
              "  </tbody>\n",
              "</table>\n",
              "</div><br><label><b>dtype:</b> object</label>"
            ]
          },
          "metadata": {},
          "execution_count": 7
        }
      ],
      "metadata": {
        "datalore": {
          "node_id": "KBOU1Mzf9X7PnRm8LwS9UT",
          "type": "CODE",
          "hide_input_from_viewers": true,
          "hide_output_from_viewers": true
        },
        "colab": {
          "base_uri": "https://localhost:8080/",
          "height": 429
        },
        "id": "bY40NQgj51a0",
        "outputId": "1f916325-2de9-4e73-bbe8-1f597b2b686e"
      }
    },
    {
      "cell_type": "markdown",
      "source": [
        "### Seperate Categorical with Numerical Data"
      ],
      "metadata": {
        "datalore": {
          "node_id": "I4YgY3VRthdASQbDw3T99m",
          "type": "MD",
          "hide_input_from_viewers": true,
          "hide_output_from_viewers": true
        },
        "id": "phwz1O_f51a0"
      }
    },
    {
      "cell_type": "code",
      "source": [
        "# Train data\n",
        "categorical_train_data = df_train.loc[:, (df_train.dtypes == 'object')]\n",
        "numerical_train_data = df_train.loc[:, ~(df_train.dtypes == 'object')]\n",
        "\n",
        "# Test data\n",
        "categorical_test_data = df_test.loc[:, (df_test.dtypes == 'object')]\n",
        "numerical_test_data = df_test.loc[:, ~(df_test.dtypes == 'object')]"
      ],
      "execution_count": null,
      "outputs": [],
      "metadata": {
        "datalore": {
          "node_id": "oiV11pBIYRRB07eMWHLzah",
          "type": "CODE",
          "hide_input_from_viewers": true,
          "hide_output_from_viewers": true
        },
        "id": "0FAWXfEr51a0"
      }
    },
    {
      "cell_type": "markdown",
      "source": [
        "### Unique values for Categorical"
      ],
      "metadata": {
        "datalore": {
          "node_id": "sSuFIyYMZQF3PLIDLLCHTM",
          "type": "MD",
          "hide_input_from_viewers": true,
          "hide_output_from_viewers": true
        },
        "id": "c-JepF1a51a0"
      }
    },
    {
      "cell_type": "code",
      "source": [
        "categorical_train_data.nunique()"
      ],
      "execution_count": null,
      "outputs": [
        {
          "output_type": "execute_result",
          "data": {
            "text/plain": [
              "Gender            2\n",
              "Ever_Married      2\n",
              "Graduated         2\n",
              "Profession        9\n",
              "Spending_Score    3\n",
              "Var_1             7\n",
              "Segmentation      4\n",
              "dtype: int64"
            ],
            "text/html": [
              "<div>\n",
              "<style scoped>\n",
              "    .dataframe tbody tr th:only-of-type {\n",
              "        vertical-align: middle;\n",
              "    }\n",
              "\n",
              "    .dataframe tbody tr th {\n",
              "        vertical-align: top;\n",
              "    }\n",
              "\n",
              "    .dataframe thead th {\n",
              "        text-align: right;\n",
              "    }\n",
              "</style>\n",
              "<table border=\"1\" class=\"dataframe\">\n",
              "  <thead>\n",
              "    <tr style=\"text-align: right;\">\n",
              "      <th></th>\n",
              "      <th>0</th>\n",
              "    </tr>\n",
              "  </thead>\n",
              "  <tbody>\n",
              "    <tr>\n",
              "      <th>Gender</th>\n",
              "      <td>2</td>\n",
              "    </tr>\n",
              "    <tr>\n",
              "      <th>Ever_Married</th>\n",
              "      <td>2</td>\n",
              "    </tr>\n",
              "    <tr>\n",
              "      <th>Graduated</th>\n",
              "      <td>2</td>\n",
              "    </tr>\n",
              "    <tr>\n",
              "      <th>Profession</th>\n",
              "      <td>9</td>\n",
              "    </tr>\n",
              "    <tr>\n",
              "      <th>Spending_Score</th>\n",
              "      <td>3</td>\n",
              "    </tr>\n",
              "    <tr>\n",
              "      <th>Var_1</th>\n",
              "      <td>7</td>\n",
              "    </tr>\n",
              "    <tr>\n",
              "      <th>Segmentation</th>\n",
              "      <td>4</td>\n",
              "    </tr>\n",
              "  </tbody>\n",
              "</table>\n",
              "</div><br><label><b>dtype:</b> int64</label>"
            ]
          },
          "metadata": {},
          "execution_count": 9
        }
      ],
      "metadata": {
        "datalore": {
          "node_id": "rFy6rAugxvVBJpUKGU7NlF",
          "type": "CODE",
          "hide_input_from_viewers": true,
          "hide_output_from_viewers": true
        },
        "colab": {
          "base_uri": "https://localhost:8080/",
          "height": 303
        },
        "id": "MXtofGQv51a0",
        "outputId": "36b85ff7-9c0b-4c18-8704-dfe067d6f565"
      }
    },
    {
      "cell_type": "markdown",
      "source": [
        "### Stats for Numerical"
      ],
      "metadata": {
        "datalore": {
          "node_id": "1A3BPlmPab7Ha8rq2fZ7F1",
          "type": "MD",
          "hide_input_from_viewers": true,
          "hide_output_from_viewers": true
        },
        "id": "xMOglYf651a1"
      }
    },
    {
      "cell_type": "code",
      "source": [
        "numerical_train_data.describe()"
      ],
      "execution_count": null,
      "outputs": [
        {
          "output_type": "execute_result",
          "data": {
            "text/plain": [
              "                  ID          Age  Work_Experience  Family_Size\n",
              "count    5647.000000  5647.000000      5085.000000  5423.000000\n",
              "mean   463474.687799    43.663538         2.654277     2.861147\n",
              "std      2598.820204    16.779417         3.429239     1.536501\n",
              "min    458982.000000    16.000000         0.000000     1.000000\n",
              "25%    461248.500000    30.000000         0.000000     2.000000\n",
              "50%    463468.000000    41.000000         1.000000     3.000000\n",
              "75%    465754.500000    53.000000         4.000000     4.000000\n",
              "max    467974.000000    91.000000        14.000000     9.000000"
            ],
            "text/html": [
              "\n",
              "  <div id=\"df-0373c6e4-2733-44df-bc99-823bad060447\" class=\"colab-df-container\">\n",
              "    <div>\n",
              "<style scoped>\n",
              "    .dataframe tbody tr th:only-of-type {\n",
              "        vertical-align: middle;\n",
              "    }\n",
              "\n",
              "    .dataframe tbody tr th {\n",
              "        vertical-align: top;\n",
              "    }\n",
              "\n",
              "    .dataframe thead th {\n",
              "        text-align: right;\n",
              "    }\n",
              "</style>\n",
              "<table border=\"1\" class=\"dataframe\">\n",
              "  <thead>\n",
              "    <tr style=\"text-align: right;\">\n",
              "      <th></th>\n",
              "      <th>ID</th>\n",
              "      <th>Age</th>\n",
              "      <th>Work_Experience</th>\n",
              "      <th>Family_Size</th>\n",
              "    </tr>\n",
              "  </thead>\n",
              "  <tbody>\n",
              "    <tr>\n",
              "      <th>count</th>\n",
              "      <td>5647.000000</td>\n",
              "      <td>5647.000000</td>\n",
              "      <td>5085.000000</td>\n",
              "      <td>5423.000000</td>\n",
              "    </tr>\n",
              "    <tr>\n",
              "      <th>mean</th>\n",
              "      <td>463474.687799</td>\n",
              "      <td>43.663538</td>\n",
              "      <td>2.654277</td>\n",
              "      <td>2.861147</td>\n",
              "    </tr>\n",
              "    <tr>\n",
              "      <th>std</th>\n",
              "      <td>2598.820204</td>\n",
              "      <td>16.779417</td>\n",
              "      <td>3.429239</td>\n",
              "      <td>1.536501</td>\n",
              "    </tr>\n",
              "    <tr>\n",
              "      <th>min</th>\n",
              "      <td>458982.000000</td>\n",
              "      <td>16.000000</td>\n",
              "      <td>0.000000</td>\n",
              "      <td>1.000000</td>\n",
              "    </tr>\n",
              "    <tr>\n",
              "      <th>25%</th>\n",
              "      <td>461248.500000</td>\n",
              "      <td>30.000000</td>\n",
              "      <td>0.000000</td>\n",
              "      <td>2.000000</td>\n",
              "    </tr>\n",
              "    <tr>\n",
              "      <th>50%</th>\n",
              "      <td>463468.000000</td>\n",
              "      <td>41.000000</td>\n",
              "      <td>1.000000</td>\n",
              "      <td>3.000000</td>\n",
              "    </tr>\n",
              "    <tr>\n",
              "      <th>75%</th>\n",
              "      <td>465754.500000</td>\n",
              "      <td>53.000000</td>\n",
              "      <td>4.000000</td>\n",
              "      <td>4.000000</td>\n",
              "    </tr>\n",
              "    <tr>\n",
              "      <th>max</th>\n",
              "      <td>467974.000000</td>\n",
              "      <td>91.000000</td>\n",
              "      <td>14.000000</td>\n",
              "      <td>9.000000</td>\n",
              "    </tr>\n",
              "  </tbody>\n",
              "</table>\n",
              "</div>\n",
              "    <div class=\"colab-df-buttons\">\n",
              "\n",
              "  <div class=\"colab-df-container\">\n",
              "    <button class=\"colab-df-convert\" onclick=\"convertToInteractive('df-0373c6e4-2733-44df-bc99-823bad060447')\"\n",
              "            title=\"Convert this dataframe to an interactive table.\"\n",
              "            style=\"display:none;\">\n",
              "\n",
              "  <svg xmlns=\"http://www.w3.org/2000/svg\" height=\"24px\" viewBox=\"0 -960 960 960\">\n",
              "    <path d=\"M120-120v-720h720v720H120Zm60-500h600v-160H180v160Zm220 220h160v-160H400v160Zm0 220h160v-160H400v160ZM180-400h160v-160H180v160Zm440 0h160v-160H620v160ZM180-180h160v-160H180v160Zm440 0h160v-160H620v160Z\"/>\n",
              "  </svg>\n",
              "    </button>\n",
              "\n",
              "  <style>\n",
              "    .colab-df-container {\n",
              "      display:flex;\n",
              "      gap: 12px;\n",
              "    }\n",
              "\n",
              "    .colab-df-convert {\n",
              "      background-color: #E8F0FE;\n",
              "      border: none;\n",
              "      border-radius: 50%;\n",
              "      cursor: pointer;\n",
              "      display: none;\n",
              "      fill: #1967D2;\n",
              "      height: 32px;\n",
              "      padding: 0 0 0 0;\n",
              "      width: 32px;\n",
              "    }\n",
              "\n",
              "    .colab-df-convert:hover {\n",
              "      background-color: #E2EBFA;\n",
              "      box-shadow: 0px 1px 2px rgba(60, 64, 67, 0.3), 0px 1px 3px 1px rgba(60, 64, 67, 0.15);\n",
              "      fill: #174EA6;\n",
              "    }\n",
              "\n",
              "    .colab-df-buttons div {\n",
              "      margin-bottom: 4px;\n",
              "    }\n",
              "\n",
              "    [theme=dark] .colab-df-convert {\n",
              "      background-color: #3B4455;\n",
              "      fill: #D2E3FC;\n",
              "    }\n",
              "\n",
              "    [theme=dark] .colab-df-convert:hover {\n",
              "      background-color: #434B5C;\n",
              "      box-shadow: 0px 1px 3px 1px rgba(0, 0, 0, 0.15);\n",
              "      filter: drop-shadow(0px 1px 2px rgba(0, 0, 0, 0.3));\n",
              "      fill: #FFFFFF;\n",
              "    }\n",
              "  </style>\n",
              "\n",
              "    <script>\n",
              "      const buttonEl =\n",
              "        document.querySelector('#df-0373c6e4-2733-44df-bc99-823bad060447 button.colab-df-convert');\n",
              "      buttonEl.style.display =\n",
              "        google.colab.kernel.accessAllowed ? 'block' : 'none';\n",
              "\n",
              "      async function convertToInteractive(key) {\n",
              "        const element = document.querySelector('#df-0373c6e4-2733-44df-bc99-823bad060447');\n",
              "        const dataTable =\n",
              "          await google.colab.kernel.invokeFunction('convertToInteractive',\n",
              "                                                    [key], {});\n",
              "        if (!dataTable) return;\n",
              "\n",
              "        const docLinkHtml = 'Like what you see? Visit the ' +\n",
              "          '<a target=\"_blank\" href=https://colab.research.google.com/notebooks/data_table.ipynb>data table notebook</a>'\n",
              "          + ' to learn more about interactive tables.';\n",
              "        element.innerHTML = '';\n",
              "        dataTable['output_type'] = 'display_data';\n",
              "        await google.colab.output.renderOutput(dataTable, element);\n",
              "        const docLink = document.createElement('div');\n",
              "        docLink.innerHTML = docLinkHtml;\n",
              "        element.appendChild(docLink);\n",
              "      }\n",
              "    </script>\n",
              "  </div>\n",
              "\n",
              "\n",
              "<div id=\"df-82cdd7e4-4e1e-433a-8d63-320d45395073\">\n",
              "  <button class=\"colab-df-quickchart\" onclick=\"quickchart('df-82cdd7e4-4e1e-433a-8d63-320d45395073')\"\n",
              "            title=\"Suggest charts\"\n",
              "            style=\"display:none;\">\n",
              "\n",
              "<svg xmlns=\"http://www.w3.org/2000/svg\" height=\"24px\"viewBox=\"0 0 24 24\"\n",
              "     width=\"24px\">\n",
              "    <g>\n",
              "        <path d=\"M19 3H5c-1.1 0-2 .9-2 2v14c0 1.1.9 2 2 2h14c1.1 0 2-.9 2-2V5c0-1.1-.9-2-2-2zM9 17H7v-7h2v7zm4 0h-2V7h2v10zm4 0h-2v-4h2v4z\"/>\n",
              "    </g>\n",
              "</svg>\n",
              "  </button>\n",
              "\n",
              "<style>\n",
              "  .colab-df-quickchart {\n",
              "      --bg-color: #E8F0FE;\n",
              "      --fill-color: #1967D2;\n",
              "      --hover-bg-color: #E2EBFA;\n",
              "      --hover-fill-color: #174EA6;\n",
              "      --disabled-fill-color: #AAA;\n",
              "      --disabled-bg-color: #DDD;\n",
              "  }\n",
              "\n",
              "  [theme=dark] .colab-df-quickchart {\n",
              "      --bg-color: #3B4455;\n",
              "      --fill-color: #D2E3FC;\n",
              "      --hover-bg-color: #434B5C;\n",
              "      --hover-fill-color: #FFFFFF;\n",
              "      --disabled-bg-color: #3B4455;\n",
              "      --disabled-fill-color: #666;\n",
              "  }\n",
              "\n",
              "  .colab-df-quickchart {\n",
              "    background-color: var(--bg-color);\n",
              "    border: none;\n",
              "    border-radius: 50%;\n",
              "    cursor: pointer;\n",
              "    display: none;\n",
              "    fill: var(--fill-color);\n",
              "    height: 32px;\n",
              "    padding: 0;\n",
              "    width: 32px;\n",
              "  }\n",
              "\n",
              "  .colab-df-quickchart:hover {\n",
              "    background-color: var(--hover-bg-color);\n",
              "    box-shadow: 0 1px 2px rgba(60, 64, 67, 0.3), 0 1px 3px 1px rgba(60, 64, 67, 0.15);\n",
              "    fill: var(--button-hover-fill-color);\n",
              "  }\n",
              "\n",
              "  .colab-df-quickchart-complete:disabled,\n",
              "  .colab-df-quickchart-complete:disabled:hover {\n",
              "    background-color: var(--disabled-bg-color);\n",
              "    fill: var(--disabled-fill-color);\n",
              "    box-shadow: none;\n",
              "  }\n",
              "\n",
              "  .colab-df-spinner {\n",
              "    border: 2px solid var(--fill-color);\n",
              "    border-color: transparent;\n",
              "    border-bottom-color: var(--fill-color);\n",
              "    animation:\n",
              "      spin 1s steps(1) infinite;\n",
              "  }\n",
              "\n",
              "  @keyframes spin {\n",
              "    0% {\n",
              "      border-color: transparent;\n",
              "      border-bottom-color: var(--fill-color);\n",
              "      border-left-color: var(--fill-color);\n",
              "    }\n",
              "    20% {\n",
              "      border-color: transparent;\n",
              "      border-left-color: var(--fill-color);\n",
              "      border-top-color: var(--fill-color);\n",
              "    }\n",
              "    30% {\n",
              "      border-color: transparent;\n",
              "      border-left-color: var(--fill-color);\n",
              "      border-top-color: var(--fill-color);\n",
              "      border-right-color: var(--fill-color);\n",
              "    }\n",
              "    40% {\n",
              "      border-color: transparent;\n",
              "      border-right-color: var(--fill-color);\n",
              "      border-top-color: var(--fill-color);\n",
              "    }\n",
              "    60% {\n",
              "      border-color: transparent;\n",
              "      border-right-color: var(--fill-color);\n",
              "    }\n",
              "    80% {\n",
              "      border-color: transparent;\n",
              "      border-right-color: var(--fill-color);\n",
              "      border-bottom-color: var(--fill-color);\n",
              "    }\n",
              "    90% {\n",
              "      border-color: transparent;\n",
              "      border-bottom-color: var(--fill-color);\n",
              "    }\n",
              "  }\n",
              "</style>\n",
              "\n",
              "  <script>\n",
              "    async function quickchart(key) {\n",
              "      const quickchartButtonEl =\n",
              "        document.querySelector('#' + key + ' button');\n",
              "      quickchartButtonEl.disabled = true;  // To prevent multiple clicks.\n",
              "      quickchartButtonEl.classList.add('colab-df-spinner');\n",
              "      try {\n",
              "        const charts = await google.colab.kernel.invokeFunction(\n",
              "            'suggestCharts', [key], {});\n",
              "      } catch (error) {\n",
              "        console.error('Error during call to suggestCharts:', error);\n",
              "      }\n",
              "      quickchartButtonEl.classList.remove('colab-df-spinner');\n",
              "      quickchartButtonEl.classList.add('colab-df-quickchart-complete');\n",
              "    }\n",
              "    (() => {\n",
              "      let quickchartButtonEl =\n",
              "        document.querySelector('#df-82cdd7e4-4e1e-433a-8d63-320d45395073 button');\n",
              "      quickchartButtonEl.style.display =\n",
              "        google.colab.kernel.accessAllowed ? 'block' : 'none';\n",
              "    })();\n",
              "  </script>\n",
              "</div>\n",
              "\n",
              "    </div>\n",
              "  </div>\n"
            ],
            "application/vnd.google.colaboratory.intrinsic+json": {
              "type": "dataframe",
              "summary": "{\n  \"name\": \"numerical_train_data\",\n  \"rows\": 8,\n  \"fields\": [\n    {\n      \"column\": \"ID\",\n      \"properties\": {\n        \"dtype\": \"number\",\n        \"std\": 212661.2370070721,\n        \"min\": 2598.820203609489,\n        \"max\": 467974.0,\n        \"num_unique_values\": 8,\n        \"samples\": [\n          463474.68779883126,\n          463468.0,\n          5647.0\n        ],\n        \"semantic_type\": \"\",\n        \"description\": \"\"\n      }\n    },\n    {\n      \"column\": \"Age\",\n      \"properties\": {\n        \"dtype\": \"number\",\n        \"std\": 1981.9393807195493,\n        \"min\": 16.0,\n        \"max\": 5647.0,\n        \"num_unique_values\": 8,\n        \"samples\": [\n          43.663538161855854,\n          41.0,\n          5647.0\n        ],\n        \"semantic_type\": \"\",\n        \"description\": \"\"\n      }\n    },\n    {\n      \"column\": \"Work_Experience\",\n      \"properties\": {\n        \"dtype\": \"number\",\n        \"std\": 1796.5577248779844,\n        \"min\": 0.0,\n        \"max\": 5085.0,\n        \"num_unique_values\": 7,\n        \"samples\": [\n          5085.0,\n          2.6542772861356934,\n          4.0\n        ],\n        \"semantic_type\": \"\",\n        \"description\": \"\"\n      }\n    },\n    {\n      \"column\": \"Family_Size\",\n      \"properties\": {\n        \"dtype\": \"number\",\n        \"std\": 1916.1398931173378,\n        \"min\": 1.0,\n        \"max\": 5423.0,\n        \"num_unique_values\": 8,\n        \"samples\": [\n          2.86114696662364,\n          3.0,\n          5423.0\n        ],\n        \"semantic_type\": \"\",\n        \"description\": \"\"\n      }\n    }\n  ]\n}"
            }
          },
          "metadata": {},
          "execution_count": 10
        }
      ],
      "metadata": {
        "datalore": {
          "node_id": "uhNUQOF3jrZ8NqNozx76Au",
          "type": "CODE",
          "hide_input_from_viewers": true,
          "hide_output_from_viewers": true
        },
        "colab": {
          "base_uri": "https://localhost:8080/",
          "height": 300
        },
        "id": "eHRDiGuA51a1",
        "outputId": "d0f508a7-d645-4115-d1f9-a465e1ef1c31"
      }
    },
    {
      "cell_type": "markdown",
      "source": [
        "### Missing Values"
      ],
      "metadata": {
        "datalore": {
          "node_id": "oOyQ4IOCglBi35Yoak8VUz",
          "type": "MD",
          "hide_input_from_viewers": true,
          "hide_output_from_viewers": true
        },
        "id": "SdVFKWaZ51a1"
      }
    },
    {
      "cell_type": "code",
      "source": [
        "df_train.isnull().sum()"
      ],
      "execution_count": null,
      "outputs": [
        {
          "output_type": "execute_result",
          "data": {
            "text/plain": [
              "ID                   0\n",
              "Gender               0\n",
              "Ever_Married        84\n",
              "Age                  0\n",
              "Graduated           40\n",
              "Profession          79\n",
              "Work_Experience    562\n",
              "Spending_Score       0\n",
              "Family_Size        224\n",
              "Var_1               53\n",
              "Segmentation         0\n",
              "dtype: int64"
            ],
            "text/html": [
              "<div>\n",
              "<style scoped>\n",
              "    .dataframe tbody tr th:only-of-type {\n",
              "        vertical-align: middle;\n",
              "    }\n",
              "\n",
              "    .dataframe tbody tr th {\n",
              "        vertical-align: top;\n",
              "    }\n",
              "\n",
              "    .dataframe thead th {\n",
              "        text-align: right;\n",
              "    }\n",
              "</style>\n",
              "<table border=\"1\" class=\"dataframe\">\n",
              "  <thead>\n",
              "    <tr style=\"text-align: right;\">\n",
              "      <th></th>\n",
              "      <th>0</th>\n",
              "    </tr>\n",
              "  </thead>\n",
              "  <tbody>\n",
              "    <tr>\n",
              "      <th>ID</th>\n",
              "      <td>0</td>\n",
              "    </tr>\n",
              "    <tr>\n",
              "      <th>Gender</th>\n",
              "      <td>0</td>\n",
              "    </tr>\n",
              "    <tr>\n",
              "      <th>Ever_Married</th>\n",
              "      <td>84</td>\n",
              "    </tr>\n",
              "    <tr>\n",
              "      <th>Age</th>\n",
              "      <td>0</td>\n",
              "    </tr>\n",
              "    <tr>\n",
              "      <th>Graduated</th>\n",
              "      <td>40</td>\n",
              "    </tr>\n",
              "    <tr>\n",
              "      <th>Profession</th>\n",
              "      <td>79</td>\n",
              "    </tr>\n",
              "    <tr>\n",
              "      <th>Work_Experience</th>\n",
              "      <td>562</td>\n",
              "    </tr>\n",
              "    <tr>\n",
              "      <th>Spending_Score</th>\n",
              "      <td>0</td>\n",
              "    </tr>\n",
              "    <tr>\n",
              "      <th>Family_Size</th>\n",
              "      <td>224</td>\n",
              "    </tr>\n",
              "    <tr>\n",
              "      <th>Var_1</th>\n",
              "      <td>53</td>\n",
              "    </tr>\n",
              "    <tr>\n",
              "      <th>Segmentation</th>\n",
              "      <td>0</td>\n",
              "    </tr>\n",
              "  </tbody>\n",
              "</table>\n",
              "</div><br><label><b>dtype:</b> int64</label>"
            ]
          },
          "metadata": {},
          "execution_count": 11
        }
      ],
      "metadata": {
        "datalore": {
          "node_id": "PC1U26xH8eoKETX8DD5d5V",
          "type": "CODE",
          "hide_input_from_viewers": true,
          "hide_output_from_viewers": true
        },
        "colab": {
          "base_uri": "https://localhost:8080/",
          "height": 429
        },
        "id": "SEizcAJQ51a1",
        "outputId": "fddd9e9f-f2af-4cae-f761-6b6eea81eba2"
      }
    },
    {
      "cell_type": "markdown",
      "source": [
        "### Duplicated Rows"
      ],
      "metadata": {
        "datalore": {
          "node_id": "cq0BVLV54jdupuIzHMXeWF",
          "type": "MD",
          "hide_input_from_viewers": true,
          "hide_output_from_viewers": true
        },
        "id": "YychGclO51a2"
      }
    },
    {
      "cell_type": "code",
      "source": [
        "df_train.duplicated().sum()"
      ],
      "execution_count": null,
      "outputs": [
        {
          "output_type": "execute_result",
          "data": {
            "text/plain": [
              "0"
            ]
          },
          "metadata": {},
          "execution_count": 12
        }
      ],
      "metadata": {
        "datalore": {
          "node_id": "QHQc2qL6qFjjDyPrrB1kDo",
          "type": "CODE",
          "hide_input_from_viewers": true,
          "hide_output_from_viewers": true
        },
        "colab": {
          "base_uri": "https://localhost:8080/"
        },
        "id": "sOGBJyHr51a2",
        "outputId": "08a411ca-9acf-4cf0-be66-8c9eb54ec9d4"
      }
    },
    {
      "cell_type": "markdown",
      "source": [
        "### Distribution of Values"
      ],
      "metadata": {
        "datalore": {
          "node_id": "4zWPMdEgDhtgxRL1mjikVi",
          "type": "MD",
          "hide_input_from_viewers": true,
          "hide_output_from_viewers": true
        },
        "id": "x8BMXDh351a2"
      }
    },
    {
      "cell_type": "code",
      "source": [
        "# Histogram for Numerical\n",
        "\n",
        "for column in numerical_train_data:\n",
        "    if column != \"ID\":\n",
        "        plt.hist(numerical_train_data[column])\n",
        "        plt.xlabel('Values')\n",
        "        plt.ylabel('Frequency')\n",
        "        plt.title(f\"{column}'s Histogram\")\n",
        "        plt.show()\n",
        "\n",
        "for column in categorical_train_data:\n",
        "    if column != \"ID\":\n",
        "        value_counts = categorical_train_data[column].value_counts()\n",
        "        plt.pie(value_counts, labels=value_counts.index, autopct='%1.1f%%')\n",
        "        plt.title(f\"{column}'s Pie chart\")\n",
        "        plt.show()"
      ],
      "execution_count": null,
      "outputs": [
        {
          "output_type": "display_data",
          "data": {
            "text/plain": [
              "<Figure size 640x480 with 1 Axes>"
            ],
            "image/png": "[encoded data removed]"
          },
          "metadata": {}
        },
        {
          "output_type": "display_data",
          "data": {
            "text/plain": [
              "<Figure size 640x480 with 1 Axes>"
            ],
            "image/png": "[encoded data removed]"
          },
          "metadata": {}
        },
        {
          "output_type": "display_data",
          "data": {
            "text/plain": [
              "<Figure size 640x480 with 1 Axes>"
            ],
            "image/png": "[encoded data removed]"
          },
          "metadata": {}
        },
        {
          "output_type": "display_data",
          "data": {
            "text/plain": [
              "<Figure size 640x480 with 1 Axes>"
            ],
            "image/png": "[encoded data removed]"
          },
          "metadata": {}
        },
        {
          "output_type": "display_data",
          "data": {
            "text/plain": [
              "<Figure size 640x480 with 1 Axes>"
            ],
            "image/png": "[encoded data removed]"
          },
          "metadata": {}
        },
        {
          "output_type": "display_data",
          "data": {
            "text/plain": [
              "<Figure size 640x480 with 1 Axes>"
            ],
            "image/png": "[encoded data removed]"
          },
          "metadata": {}
        },
        {
          "output_type": "display_data",
          "data": {
            "text/plain": [
              "<Figure size 640x480 with 1 Axes>"
            ],
            "image/png": "[encoded data removed]"
          },
          "metadata": {}
        },
        {
          "output_type": "display_data",
          "data": {
            "text/plain": [
              "<Figure size 640x480 with 1 Axes>"
            ],
            "image/png": "[encoded data removed]"
          },
          "metadata": {}
        },
        {
          "output_type": "display_data",
          "data": {
            "text/plain": [
              "<Figure size 640x480 with 1 Axes>"
            ],
            "image/png": "[encoded data removed]"
          },
          "metadata": {}
        },
        {
          "output_type": "display_data",
          "data": {
            "text/plain": [
              "<Figure size 640x480 with 1 Axes>"
            ],
            "image/png": "[encoded data removed]"
          },
          "metadata": {}
        }
      ],
      "metadata": {
        "datalore": {
          "node_id": "56sId3LL4yUdYKj6YyKOGM",
          "type": "CODE",
          "hide_input_from_viewers": true,
          "hide_output_from_viewers": true
        },
        "colab": {
          "base_uri": "https://localhost:8080/",
          "height": 1000
        },
        "id": "MzocBTY851a2",
        "outputId": "14eec4e0-60bf-4fa4-daf2-9932e2f688cf"
      }
    },
    {
      "cell_type": "markdown",
      "source": [
        "### Correlation"
      ],
      "metadata": {
        "datalore": {
          "node_id": "Gb5me5vgUuw4YD0dRfcUyU",
          "type": "MD",
          "hide_input_from_viewers": true,
          "hide_output_from_viewers": true
        },
        "id": "uTbAtKuA51a2"
      }
    },
    {
      "cell_type": "code",
      "source": [
        "corr_matrix = numerical_train_data.corr()\n",
        "\n",
        "plt.figure(figsize=(25, 16))\n",
        "sns.heatmap(corr_matrix, annot=True,annot_kws={'fontsize':'xx-large'}, fmt=\".2f\")\n",
        "plt.title('Correlation Matrix for Numerical Data')\n",
        "plt.show()"
      ],
      "execution_count": null,
      "outputs": [
        {
          "output_type": "display_data",
          "data": {
            "text/plain": [
              "<Figure size 2500x1600 with 2 Axes>"
            ],
            "image/png": "[encoded data removed]"
          },
          "metadata": {}
        }
      ],
      "metadata": {
        "datalore": {
          "node_id": "DdBL3y58HhvIJ4ty7KeYa3",
          "type": "CODE",
          "hide_input_from_viewers": true,
          "hide_output_from_viewers": true
        },
        "colab": {
          "base_uri": "https://localhost:8080/",
          "height": 1000
        },
        "id": "7X-n8l8n51a3",
        "outputId": "4dee3298-46be-4031-e577-2249f8b8ecfc"
      }
    },
    {
      "cell_type": "markdown",
      "source": [
        "### Outlier Detection"
      ],
      "metadata": {
        "datalore": {
          "node_id": "0ZbUgfJ45h9PlZ827hYWeP",
          "type": "MD",
          "hide_input_from_viewers": true,
          "hide_output_from_viewers": true
        },
        "id": "5HbTTwBa51a3"
      }
    },
    {
      "cell_type": "code",
      "source": [],
      "execution_count": null,
      "outputs": [],
      "metadata": {
        "datalore": {
          "node_id": "K1DQtTz3XDV32z6npPtaqS",
          "type": "CODE",
          "hide_input_from_viewers": true,
          "hide_output_from_viewers": true
        },
        "id": "ppzvNvhY51a3"
      }
    },
    {
      "cell_type": "markdown",
      "source": [
        "## Question"
      ],
      "metadata": {
        "datalore": {
          "node_id": "tkfzl36hl9SE6W7I2f7r1E",
          "type": "MD",
          "hide_input_from_viewers": true,
          "hide_output_from_viewers": true
        },
        "id": "rH4K27pd51a3"
      }
    },
    {
      "cell_type": "markdown",
      "source": [
        "1. What is the most common occupation among married people ? How about unmarried people ?"
      ],
      "metadata": {
        "datalore": {
          "node_id": "XT38lB1IGJJVCTeV9Shv6Q",
          "type": "MD",
          "hide_input_from_viewers": true,
          "hide_output_from_viewers": true
        },
        "id": "zO1p9tgx51a3"
      }
    },
    {
      "cell_type": "code",
      "source": [
        "married_df = df_train[df_train['Ever_Married']== \"Yes\"]\n",
        "most_Occ_Married = married_df['Profession'].mode()[0]\n",
        "\n",
        "never_married_df = df_train[df_train['Ever_Married']== \"No\"]\n",
        "most_Occ_NMarried = never_married_df['Profession'].mode()[0]\n",
        "\n",
        "print(f\"The most common occupation among married people: {most_Occ_Married}\")\n",
        "print(f\"The most common occupation among never married people: {most_Occ_NMarried}\")"
      ],
      "execution_count": null,
      "outputs": [
        {
          "output_type": "stream",
          "name": "stdout",
          "text": [
            "The most common occupation among married people: Artist\n",
            "The most common occupation among never married people: Healthcare\n"
          ]
        }
      ],
      "metadata": {
        "datalore": {
          "node_id": "rNPVkN8xVcwWmn8flgz71A",
          "type": "CODE",
          "hide_input_from_viewers": true,
          "hide_output_from_viewers": true
        },
        "colab": {
          "base_uri": "https://localhost:8080/"
        },
        "id": "yAP8UEJ951a4",
        "outputId": "4fab744e-151f-4537-dd46-91055a7dce53"
      }
    },
    {
      "cell_type": "markdown",
      "source": [
        "2. What is the most common spending score for every profession?"
      ],
      "metadata": {
        "datalore": {
          "node_id": "VbFg10EL4JjK1PNkQtLkV1",
          "type": "MD",
          "hide_input_from_viewers": true,
          "hide_output_from_viewers": true
        },
        "id": "SA9h-iwY51a4"
      }
    },
    {
      "cell_type": "code",
      "source": [
        "spending_counts = df_train.groupby(['Profession', 'Spending_Score']).size().unstack()\n",
        "\n",
        "most_common_spending_by_profession = spending_counts.idxmax(axis=1)\n",
        "\n",
        "print(most_common_spending_by_profession)\n",
        "\n",
        "most_common_profession_by_spending = spending_counts.idxmax(axis=0)\n",
        "\n",
        "print(most_common_profession_by_spending)"
      ],
      "execution_count": null,
      "outputs": [
        {
          "output_type": "stream",
          "name": "stdout",
          "text": [
            "Profession\n",
            "Artist            Low\n",
            "Doctor            Low\n",
            "Engineer          Low\n",
            "Entertainment     Low\n",
            "Executive        High\n",
            "Healthcare        Low\n",
            "Homemaker         Low\n",
            "Lawyer           High\n",
            "Marketing         Low\n",
            "dtype: object\n",
            "Spending_Score\n",
            "Average       Artist\n",
            "High       Executive\n",
            "Low           Artist\n",
            "dtype: object\n"
          ]
        }
      ],
      "metadata": {
        "datalore": {
          "node_id": "fCiI4QCdpiIPUKwqduTviw",
          "type": "CODE",
          "hide_input_from_viewers": true,
          "hide_output_from_viewers": true
        },
        "colab": {
          "base_uri": "https://localhost:8080/"
        },
        "id": "TE3Ga5O951a4",
        "outputId": "494f969f-f51c-4970-e903-4d2363b08fe8"
      }
    },
    {
      "cell_type": "markdown",
      "source": [
        "3. Is there any correlation between education and spending capabilities ?"
      ],
      "metadata": {
        "datalore": {
          "node_id": "HB0tOQewcZHt8cnDU2HLBE",
          "type": "MD",
          "hide_input_from_viewers": true,
          "hide_output_from_viewers": true
        },
        "id": "-1NOfBIR51a4"
      }
    },
    {
      "cell_type": "code",
      "source": [
        "df_x = df_train.copy(deep=True)\n",
        "\n",
        "df_x['graduated_numeric'] = df_x['Graduated'].map({'Yes': 1, 'No': 0})\n",
        "\n",
        "graduation_spending_correlation = df_x.groupby('Spending_Score')['graduated_numeric'].mean()\n",
        "\n",
        "print(graduation_spending_correlation)"
      ],
      "execution_count": null,
      "outputs": [
        {
          "output_type": "stream",
          "name": "stdout",
          "text": [
            "Spending_Score\n",
            "Average    0.708508\n",
            "High       0.658201\n",
            "Low        0.559789\n",
            "Name: graduated_numeric, dtype: float64\n"
          ]
        }
      ],
      "metadata": {
        "datalore": {
          "node_id": "ND12Z82NdntYkkACuPgwKN",
          "type": "CODE",
          "hide_input_from_viewers": true,
          "hide_output_from_viewers": true
        },
        "colab": {
          "base_uri": "https://localhost:8080/"
        },
        "id": "NsQF-z6R51a5",
        "outputId": "5b6bff22-68db-422a-8626-80a0399194d1"
      }
    },
    {
      "cell_type": "markdown",
      "source": [
        "70.85% Graduates has an Average spending score\n",
        "\n",
        "65.82% Graduates has a High spending score\n",
        "\n",
        "55.98% Graduates has a Low spending score"
      ],
      "metadata": {
        "datalore": {
          "node_id": "ccpBzFRHEQkXnP7P53FKzJ",
          "type": "MD",
          "hide_input_from_viewers": true,
          "hide_output_from_viewers": true
        },
        "id": "6oNrJ4b051a5"
      }
    },
    {
      "cell_type": "markdown",
      "source": [
        "# 2. Split Training Set and Validation Set\n",
        "\n",
        "Splitting the training and validation set works as an early diagnostic towards the performance of the model we train. This is done before the preprocessing steps to **avoid data leakage inbetween the sets**. If you want to use k-fold cross-validation, split the data later and do the cleaning and preprocessing separately for each split.\n",
        "\n",
        "Note: For training, you should use the data contained in the `Train_processed.csv` given by the TA. The `test_processed_no_solution.csv` data is only used for kaggle submission."
      ],
      "metadata": {
        "datalore": {
          "node_id": "NvlI7kUIfUe5R0zt8ExxmW",
          "type": "MD",
          "hide_input_from_viewers": false,
          "hide_output_from_viewers": false,
          "report_properties": {
            "rowId": "DhvoSjHPkzKnASlQCdOz9V"
          }
        },
        "id": "3KVvCmbW51a5"
      }
    },
    {
      "cell_type": "code",
      "source": [
        "# Split training set and validation set here, store into variables train_set and val_set.\n",
        "# Remember to also keep the original training set before splitting. This will come important later.\n",
        "# train_set, val_set = ...\n",
        "\n",
        "split_df = df_train.copy()\n",
        "\n",
        "X = split_df.drop(columns=[\"Segmentation\"])\n",
        "y = split_df[\"Segmentation\"]\n",
        "\n",
        "X_train, X_val, y_train, y_val = train_test_split(X, y, test_size=0.2, random_state=42)"
      ],
      "execution_count": null,
      "outputs": [],
      "metadata": {
        "datalore": {
          "node_id": "94WkvYlg4fjU6S8yN5MNUh",
          "type": "CODE",
          "hide_input_from_viewers": false,
          "hide_output_from_viewers": false,
          "report_properties": {
            "rowId": "a6iolIl1Jwbjj5FZH51j0R"
          }
        },
        "id": "_Dj5iGJt51a5"
      }
    },
    {
      "cell_type": "markdown",
      "source": [
        "# 3. Data Cleaning and Preprocessing\n",
        "\n",
        "This step is the first thing to be done once a Data Scientist have grasped a general knowledge of the data. Raw data is **seldom ready for training**, therefore steps need to be taken to clean and format the data for the Machine Learning model to interpret.\n",
        "\n",
        "By performing data cleaning and preprocessing, you ensure that your dataset is ready for model training, leading to more accurate and reliable machine learning results. These steps are essential for transforming raw data into a format that machine learning algorithms can effectively learn from and make predictions.\n",
        "\n",
        "For each step that you will do, **please explain the reason why did you do that process. Write it in a markdown cell under the code cell you wrote.**"
      ],
      "metadata": {
        "datalore": {
          "node_id": "Zs5SrfmZ7dX3hasfqMqnVc",
          "type": "MD",
          "hide_input_from_viewers": false,
          "hide_output_from_viewers": false,
          "report_properties": {
            "rowId": "gfCtbpFSLXoDEMLUfGKWXf"
          }
        },
        "id": "InrdDjk751a5"
      }
    },
    {
      "cell_type": "markdown",
      "source": [
        "### Data Imputation for Missing Values  \n",
        "\n",
        "Imputing missing values is essential to ensure cleaner data. Additionally, missing values can affect the performance of the model used in machine learning.  \n",
        "\n",
        "For missing values in categorical data (Ever_Married, Graduated, Profession, Var_1), Mode Imputation will be used. This method is the simplest and fastest. Moreover, since the number of missing values is relatively small compared to the dataset (around 1% of the total data in a column), there will be no significant impact that could cause an overrepresentation of the mode variable.  \n",
        "\n",
        "For missing values in numerical data (Work Experience and Family Size), the median will be used for imputation. Since Work Experience and Family Size have integer attribute domains, they can be imputed using either the mean or median. Additionally, due to the relatively large number of missing values, imputing with a representative value for the entire column is preferable over using a constant value or mode."
      ],
      "metadata": {
        "datalore": {
          "node_id": "xNOF2BVEkXXlg0dvHkOlQd",
          "type": "MD",
          "hide_input_from_viewers": true,
          "hide_output_from_viewers": true
        },
        "id": "G1wi4lsu51a6"
      }
    },
    {
      "cell_type": "code",
      "source": [
        "class FeatureImputer(BaseEstimator, TransformerMixin):\n",
        "    def __init__(self):\n",
        "        self.modes = None\n",
        "        self.impute_values = None\n",
        "\n",
        "    def fit(self, x):\n",
        "        self.modes = x.select_dtypes(include=[\"object\"]).mode().iloc[0]\n",
        "\n",
        "        self.impute_values = {}\n",
        "        for num_col in x.select_dtypes(include=[\"number\"]).columns:\n",
        "            skewness = skew(x[num_col].dropna())\n",
        "            if abs(skewness) > 0.5:\n",
        "                self.impute_values[num_col] = round(x[num_col].median())\n",
        "            else:\n",
        "                self.impute_values[num_col] = round(x[num_col].mean())\n",
        "\n",
        "        return self\n",
        "\n",
        "    def transform(self, x):\n",
        "        x = x.copy()\n",
        "        for cat_col, mode_value in self.modes.items():\n",
        "            x[cat_col].fillna(mode_value, inplace=True)\n",
        "\n",
        "        for num_col, value in self.impute_values.items():\n",
        "            x[num_col].fillna(value, inplace=True)\n",
        "\n",
        "        return x"
      ],
      "execution_count": null,
      "outputs": [],
      "metadata": {
        "datalore": {
          "node_id": "0hjeqaX8uaCwj233CKs8nW",
          "type": "CODE",
          "hide_input_from_viewers": true,
          "hide_output_from_viewers": true
        },
        "id": "4QO3xU4A51a6"
      }
    },
    {
      "cell_type": "code",
      "source": [
        "class OutlierHandler(BaseEstimator, TransformerMixin):\n",
        "    def __init__(self, cols=None, iqr_factor=1.5, lower_percentile=0.01, upper_percentile=0.99):\n",
        "        self.cols = cols\n",
        "        self.iqr_factor = iqr_factor\n",
        "        self.lower_percentile = lower_percentile\n",
        "        self.upper_percentile = upper_percentile\n",
        "        self.lower_bounds = {}\n",
        "        self.upper_bounds = {}\n",
        "\n",
        "    def fit(self, X, y=None):\n",
        "        X_numeric = X[self.cols].apply(pd.to_numeric, errors='coerce')\n",
        "\n",
        "        Q1 = X_numeric.quantile(0.25)\n",
        "        Q3 = X_numeric.quantile(0.75)\n",
        "        IQR = Q3 - Q1\n",
        "\n",
        "        self.lower_bounds = (Q1 - self.iqr_factor * IQR).to_dict()\n",
        "        self.upper_bounds = (Q3 + self.iqr_factor * IQR).to_dict()\n",
        "\n",
        "\n",
        "        return self\n",
        "\n",
        "    def transform(self, X):\n",
        "        X_copy = X.copy()\n",
        "        for col in self.cols:\n",
        "            if col not in X_copy:\n",
        "                continue\n",
        "\n",
        "            mask = (X_copy[col] < self.lower_bounds[col]) | (X_copy[col] > self.upper_bounds[col])\n",
        "\n",
        "        return X_copy\n"
      ],
      "metadata": {
        "id": "NjkAA9bs850y"
      },
      "execution_count": null,
      "outputs": []
    },
    {
      "cell_type": "markdown",
      "source": [
        "### Encoder for Categorical Data\n",
        "\n",
        "It's important to encode our categorical data because the models used in this project require numerical data as input. Since categorical data is present in the dataset for this project, it's essential to encode it so we can use it to build our model. An encoder is used to transform categorical data into meaningful numerical data, allowing it to be represented in numerical form."
      ],
      "metadata": {
        "datalore": {
          "node_id": "c6L50iPR090NfpFFRlQRcs",
          "type": "MD",
          "hide_input_from_viewers": true,
          "hide_output_from_viewers": true
        },
        "id": "9lCteXTI51a6"
      }
    },
    {
      "cell_type": "code",
      "source": [
        "class FeatureEncoder(BaseEstimator, TransformerMixin):\n",
        "    def __init__(self):\n",
        "        self.encoders = {}\n",
        "\n",
        "    def fit(self, x):\n",
        "        categorical_cols = x.select_dtypes(include=[\"object\"]).columns\n",
        "        for cat_col in categorical_cols:\n",
        "            le = LabelEncoder()\n",
        "            x[cat_col] = x[cat_col].astype(str)\n",
        "            le.fit(x[cat_col])\n",
        "            self.encoders[cat_col] = le\n",
        "        return self\n",
        "\n",
        "    def transform(self, x):\n",
        "        x = x.copy()\n",
        "        for e_col, le in self.encoders.items():\n",
        "            x[e_col] = x[e_col].astype(str).map(lambda x: le.transform([x])[0] if x in le.classes_ else -1)\n",
        "        return x"
      ],
      "execution_count": null,
      "outputs": [],
      "metadata": {
        "datalore": {
          "node_id": "UY4PEoSbgKMiM2hD7x7cNO",
          "type": "CODE",
          "hide_input_from_viewers": true,
          "hide_output_from_viewers": true
        },
        "id": "qXndi-2A51a6"
      }
    },
    {
      "cell_type": "markdown",
      "source": [
        "### Scaler for Numerical Data\n",
        "\n",
        "Feature scaling is a preprocessing technique used in machine learning to standardize the range of independent variables or features of data. The primary goal of feature scaling is to ensure that all features contribute equally to the training process and that machine learning algorithms can work effectively with the data."
      ],
      "metadata": {
        "datalore": {
          "node_id": "Qviata5g8lTsLljejk9xKw",
          "type": "MD",
          "hide_input_from_viewers": true,
          "hide_output_from_viewers": true
        },
        "id": "WgPrlqiw51a6"
      }
    },
    {
      "cell_type": "code",
      "source": [
        "class FeatureScaler(BaseEstimator, TransformerMixin):\n",
        "    def fit(self, X, y=None):\n",
        "        self.scaler_ = MinMaxScaler()\n",
        "\n",
        "        self.scaler_.fit(X)\n",
        "\n",
        "        return self\n",
        "\n",
        "    def transform(self, X):\n",
        "        X_scaled = self.scaler_.transform(X)\n",
        "\n",
        "        return X_scaled"
      ],
      "execution_count": null,
      "outputs": [],
      "metadata": {
        "datalore": {
          "node_id": "VbJFH70cX4kM6UCac0gDuj",
          "type": "CODE",
          "hide_input_from_viewers": true,
          "hide_output_from_viewers": true
        },
        "id": "K0RHHhs951a7"
      }
    },
    {
      "cell_type": "markdown",
      "source": [
        "# Compile Preprocessing Pipeline\n",
        "\n",
        "All of the preprocessing classes or functions defined earlier will be compiled in this step."
      ],
      "metadata": {
        "datalore": {
          "node_id": "GtQ9LTtIIS0csCugXqP4ZF",
          "type": "MD",
          "hide_input_from_viewers": false,
          "hide_output_from_viewers": false,
          "report_properties": {
            "rowId": "uRLt6MoH1sjasbBd7zeIg3"
          }
        },
        "id": "HHA6nBwA51a7"
      }
    },
    {
      "cell_type": "markdown",
      "source": [
        "If you use sklearn to create preprocessing classes, you can list your preprocessing classes in the Pipeline object sequentially, and then fit and transform your data."
      ],
      "metadata": {
        "datalore": {
          "node_id": "13duVhxUictmGt2RHIoKvA",
          "type": "MD",
          "hide_input_from_viewers": false,
          "hide_output_from_viewers": false,
          "report_properties": {
            "rowId": "dUQznUOBORaGzwzxbXkdXD"
          }
        },
        "id": "sFuajMI351a7"
      }
    },
    {
      "cell_type": "code",
      "source": [
        "\n",
        "\n"
      ],
      "execution_count": null,
      "outputs": [],
      "metadata": {
        "datalore": {
          "node_id": "lewXFtNOBB6F3YJ5Z6PRwL",
          "type": "CODE",
          "hide_input_from_viewers": true,
          "hide_output_from_viewers": true
        },
        "id": "-pC8Pxq451a7"
      }
    },
    {
      "cell_type": "code",
      "source": [
        "# from sklearn.pipeline import Pipeline\n",
        "\n",
        "# # Note: You can add or delete preprocessing components from this pipeline\n",
        "\n",
        "# pipe = Pipeline([(\"imputer\", FeatureImputer()),\n",
        "#                  (\"featurecreator\", FeatureCreator()),\n",
        "#                  (\"scaler\", FeatureScaler()),\n",
        "#                  (\"encoder\", FeatureEncoder())])\n",
        "\n",
        "# train_set = pipe.fit_transform(train_set)\n",
        "# val_set = pipe.transform(val_set)\n",
        "\n",
        "num_cols = [column for column in numerical_train_data]\n",
        "\n",
        "pipe = Pipeline([\n",
        "    (\"imputer\", FeatureImputer()),\n",
        "    (\"outlier_handling\", OutlierHandler(cols=num_cols)),\n",
        "    (\"encoder\", FeatureEncoder()),\n",
        "    (\"scaler\", FeatureScaler())\n",
        "])"
      ],
      "execution_count": null,
      "outputs": [],
      "metadata": {
        "datalore": {
          "node_id": "DhNs2AlYeXAHBm3984EGGH",
          "type": "CODE",
          "hide_input_from_viewers": false,
          "hide_output_from_viewers": false,
          "report_properties": {
            "rowId": "aHUykDLhFgHBaSnB1C5i1F"
          }
        },
        "id": "CMCUX7f551a7"
      }
    },
    {
      "cell_type": "code",
      "source": [
        "# # Your code should work up until this point\n",
        "# train_set = pipe.fit_transform(train_set)\n",
        "# val_set = pipe.transform(val_set)\n",
        "\n",
        "X_train_processed = pipe.fit_transform(X_train)\n",
        "X_val_processed = pipe.transform(X_val)\n",
        "\n",
        "# X_train_processed dan X_val_processed adalah numpy array, ubah ke df\n",
        "X_train_processed = pd.DataFrame(X_train_processed, columns=X_train.columns)\n",
        "X_val_processed = pd.DataFrame(X_val_processed, columns=X_val.columns)\n",
        "\n",
        "X_train_processed.isnull().sum()\n"
      ],
      "execution_count": null,
      "outputs": [
        {
          "output_type": "stream",
          "name": "stderr",
          "text": [
            "<ipython-input-19-731d8f7434f7>:22: FutureWarning: A value is trying to be set on a copy of a DataFrame or Series through chained assignment using an inplace method.\n",
            "The behavior will change in pandas 3.0. This inplace method will never work because the intermediate object on which we are setting values always behaves as a copy.\n",
            "\n",
            "For example, when doing 'df[col].method(value, inplace=True)', try using 'df.method({col: value}, inplace=True)' or df[col] = df[col].method(value) instead, to perform the operation inplace on the original object.\n",
            "\n",
            "\n",
            "  x[cat_col].fillna(mode_value, inplace=True)\n",
            "<ipython-input-19-731d8f7434f7>:25: FutureWarning: A value is trying to be set on a copy of a DataFrame or Series through chained assignment using an inplace method.\n",
            "The behavior will change in pandas 3.0. This inplace method will never work because the intermediate object on which we are setting values always behaves as a copy.\n",
            "\n",
            "For example, when doing 'df[col].method(value, inplace=True)', try using 'df.method({col: value}, inplace=True)' or df[col] = df[col].method(value) instead, to perform the operation inplace on the original object.\n",
            "\n",
            "\n",
            "  x[num_col].fillna(value, inplace=True)\n",
            "<ipython-input-19-731d8f7434f7>:22: FutureWarning: A value is trying to be set on a copy of a DataFrame or Series through chained assignment using an inplace method.\n",
            "The behavior will change in pandas 3.0. This inplace method will never work because the intermediate object on which we are setting values always behaves as a copy.\n",
            "\n",
            "For example, when doing 'df[col].method(value, inplace=True)', try using 'df.method({col: value}, inplace=True)' or df[col] = df[col].method(value) instead, to perform the operation inplace on the original object.\n",
            "\n",
            "\n",
            "  x[cat_col].fillna(mode_value, inplace=True)\n",
            "<ipython-input-19-731d8f7434f7>:25: FutureWarning: A value is trying to be set on a copy of a DataFrame or Series through chained assignment using an inplace method.\n",
            "The behavior will change in pandas 3.0. This inplace method will never work because the intermediate object on which we are setting values always behaves as a copy.\n",
            "\n",
            "For example, when doing 'df[col].method(value, inplace=True)', try using 'df.method({col: value}, inplace=True)' or df[col] = df[col].method(value) instead, to perform the operation inplace on the original object.\n",
            "\n",
            "\n",
            "  x[num_col].fillna(value, inplace=True)\n"
          ]
        },
        {
          "output_type": "execute_result",
          "data": {
            "text/plain": [
              "ID                 0\n",
              "Gender             0\n",
              "Ever_Married       0\n",
              "Age                0\n",
              "Graduated          0\n",
              "Profession         0\n",
              "Work_Experience    0\n",
              "Spending_Score     0\n",
              "Family_Size        0\n",
              "Var_1              0\n",
              "dtype: int64"
            ],
            "text/html": [
              "<div>\n",
              "<style scoped>\n",
              "    .dataframe tbody tr th:only-of-type {\n",
              "        vertical-align: middle;\n",
              "    }\n",
              "\n",
              "    .dataframe tbody tr th {\n",
              "        vertical-align: top;\n",
              "    }\n",
              "\n",
              "    .dataframe thead th {\n",
              "        text-align: right;\n",
              "    }\n",
              "</style>\n",
              "<table border=\"1\" class=\"dataframe\">\n",
              "  <thead>\n",
              "    <tr style=\"text-align: right;\">\n",
              "      <th></th>\n",
              "      <th>0</th>\n",
              "    </tr>\n",
              "  </thead>\n",
              "  <tbody>\n",
              "    <tr>\n",
              "      <th>ID</th>\n",
              "      <td>0</td>\n",
              "    </tr>\n",
              "    <tr>\n",
              "      <th>Gender</th>\n",
              "      <td>0</td>\n",
              "    </tr>\n",
              "    <tr>\n",
              "      <th>Ever_Married</th>\n",
              "      <td>0</td>\n",
              "    </tr>\n",
              "    <tr>\n",
              "      <th>Age</th>\n",
              "      <td>0</td>\n",
              "    </tr>\n",
              "    <tr>\n",
              "      <th>Graduated</th>\n",
              "      <td>0</td>\n",
              "    </tr>\n",
              "    <tr>\n",
              "      <th>Profession</th>\n",
              "      <td>0</td>\n",
              "    </tr>\n",
              "    <tr>\n",
              "      <th>Work_Experience</th>\n",
              "      <td>0</td>\n",
              "    </tr>\n",
              "    <tr>\n",
              "      <th>Spending_Score</th>\n",
              "      <td>0</td>\n",
              "    </tr>\n",
              "    <tr>\n",
              "      <th>Family_Size</th>\n",
              "      <td>0</td>\n",
              "    </tr>\n",
              "    <tr>\n",
              "      <th>Var_1</th>\n",
              "      <td>0</td>\n",
              "    </tr>\n",
              "  </tbody>\n",
              "</table>\n",
              "</div><br><label><b>dtype:</b> int64</label>"
            ]
          },
          "metadata": {},
          "execution_count": 24
        }
      ],
      "metadata": {
        "datalore": {
          "node_id": "2KYFtsUqOousw2PCMFSSo9",
          "type": "CODE",
          "hide_input_from_viewers": false,
          "hide_output_from_viewers": false,
          "report_properties": {
            "rowId": "KQWAUdX86bs4wqjpHSsYfr"
          }
        },
        "colab": {
          "base_uri": "https://localhost:8080/",
          "height": 903
        },
        "id": "lGXF0Uqj51a8",
        "outputId": "40517803-41b3-4a53-a7be-5fcdcd82ce07"
      }
    },
    {
      "cell_type": "code",
      "source": [
        "X_train_processed"
      ],
      "metadata": {
        "colab": {
          "base_uri": "https://localhost:8080/",
          "height": 423
        },
        "id": "CkN4G0tt9_rE",
        "outputId": "e9ffb6b8-05f7-4cf1-e2e1-171190199620"
      },
      "execution_count": null,
      "outputs": [
        {
          "output_type": "execute_result",
          "data": {
            "text/plain": [
              "            ID  Gender  Ever_Married       Age  Graduated  Profession  \\\n",
              "0     0.312716     1.0           1.0  0.306667        1.0       0.000   \n",
              "1     0.681833     0.0           0.0  0.360000        0.0       0.125   \n",
              "2     0.262321     1.0           1.0  0.133333        1.0       0.000   \n",
              "3     0.125375     1.0           1.0  0.160000        1.0       0.250   \n",
              "4     0.267994     0.0           0.0  0.066667        0.0       0.250   \n",
              "...        ...     ...           ...       ...        ...         ...   \n",
              "4512  0.080432     0.0           1.0  0.306667        1.0       0.250   \n",
              "4513  0.022583     1.0           0.0  0.146667        0.0       0.625   \n",
              "4514  0.383246     1.0           1.0  0.346667        1.0       0.500   \n",
              "4515  0.091000     1.0           0.0  0.306667        1.0       0.125   \n",
              "4516  0.298365     1.0           1.0  0.346667        1.0       0.125   \n",
              "\n",
              "      Work_Experience  Spending_Score  Family_Size     Var_1  \n",
              "0            0.071429             0.0        0.125  0.000000  \n",
              "1            0.285714             1.0        0.625  1.000000  \n",
              "2            0.428571             0.0        0.125  0.000000  \n",
              "3            0.642857             0.0        0.125  0.333333  \n",
              "4            0.000000             1.0        0.500  0.833333  \n",
              "...               ...             ...          ...       ...  \n",
              "4512         0.071429             0.0        0.000  0.833333  \n",
              "4513         0.071429             1.0        0.250  0.333333  \n",
              "4514         0.071429             0.5        0.250  0.833333  \n",
              "4515         0.285714             1.0        0.250  0.833333  \n",
              "4516         0.000000             0.0        0.125  0.000000  \n",
              "\n",
              "[4517 rows x 10 columns]"
            ],
            "text/html": [
              "\n",
              "  <div id=\"df-84aca6f2-3950-45bc-adf4-f7bac03f6b67\" class=\"colab-df-container\">\n",
              "    <div>\n",
              "<style scoped>\n",
              "    .dataframe tbody tr th:only-of-type {\n",
              "        vertical-align: middle;\n",
              "    }\n",
              "\n",
              "    .dataframe tbody tr th {\n",
              "        vertical-align: top;\n",
              "    }\n",
              "\n",
              "    .dataframe thead th {\n",
              "        text-align: right;\n",
              "    }\n",
              "</style>\n",
              "<table border=\"1\" class=\"dataframe\">\n",
              "  <thead>\n",
              "    <tr style=\"text-align: right;\">\n",
              "      <th></th>\n",
              "      <th>ID</th>\n",
              "      <th>Gender</th>\n",
              "      <th>Ever_Married</th>\n",
              "      <th>Age</th>\n",
              "      <th>Graduated</th>\n",
              "      <th>Profession</th>\n",
              "      <th>Work_Experience</th>\n",
              "      <th>Spending_Score</th>\n",
              "      <th>Family_Size</th>\n",
              "      <th>Var_1</th>\n",
              "    </tr>\n",
              "  </thead>\n",
              "  <tbody>\n",
              "    <tr>\n",
              "      <th>0</th>\n",
              "      <td>0.312716</td>\n",
              "      <td>1.0</td>\n",
              "      <td>1.0</td>\n",
              "      <td>0.306667</td>\n",
              "      <td>1.0</td>\n",
              "      <td>0.000</td>\n",
              "      <td>0.071429</td>\n",
              "      <td>0.0</td>\n",
              "      <td>0.125</td>\n",
              "      <td>0.000000</td>\n",
              "    </tr>\n",
              "    <tr>\n",
              "      <th>1</th>\n",
              "      <td>0.681833</td>\n",
              "      <td>0.0</td>\n",
              "      <td>0.0</td>\n",
              "      <td>0.360000</td>\n",
              "      <td>0.0</td>\n",
              "      <td>0.125</td>\n",
              "      <td>0.285714</td>\n",
              "      <td>1.0</td>\n",
              "      <td>0.625</td>\n",
              "      <td>1.000000</td>\n",
              "    </tr>\n",
              "    <tr>\n",
              "      <th>2</th>\n",
              "      <td>0.262321</td>\n",
              "      <td>1.0</td>\n",
              "      <td>1.0</td>\n",
              "      <td>0.133333</td>\n",
              "      <td>1.0</td>\n",
              "      <td>0.000</td>\n",
              "      <td>0.428571</td>\n",
              "      <td>0.0</td>\n",
              "      <td>0.125</td>\n",
              "      <td>0.000000</td>\n",
              "    </tr>\n",
              "    <tr>\n",
              "      <th>3</th>\n",
              "      <td>0.125375</td>\n",
              "      <td>1.0</td>\n",
              "      <td>1.0</td>\n",
              "      <td>0.160000</td>\n",
              "      <td>1.0</td>\n",
              "      <td>0.250</td>\n",
              "      <td>0.642857</td>\n",
              "      <td>0.0</td>\n",
              "      <td>0.125</td>\n",
              "      <td>0.333333</td>\n",
              "    </tr>\n",
              "    <tr>\n",
              "      <th>4</th>\n",
              "      <td>0.267994</td>\n",
              "      <td>0.0</td>\n",
              "      <td>0.0</td>\n",
              "      <td>0.066667</td>\n",
              "      <td>0.0</td>\n",
              "      <td>0.250</td>\n",
              "      <td>0.000000</td>\n",
              "      <td>1.0</td>\n",
              "      <td>0.500</td>\n",
              "      <td>0.833333</td>\n",
              "    </tr>\n",
              "    <tr>\n",
              "      <th>...</th>\n",
              "      <td>...</td>\n",
              "      <td>...</td>\n",
              "      <td>...</td>\n",
              "      <td>...</td>\n",
              "      <td>...</td>\n",
              "      <td>...</td>\n",
              "      <td>...</td>\n",
              "      <td>...</td>\n",
              "      <td>...</td>\n",
              "      <td>...</td>\n",
              "    </tr>\n",
              "    <tr>\n",
              "      <th>4512</th>\n",
              "      <td>0.080432</td>\n",
              "      <td>0.0</td>\n",
              "      <td>1.0</td>\n",
              "      <td>0.306667</td>\n",
              "      <td>1.0</td>\n",
              "      <td>0.250</td>\n",
              "      <td>0.071429</td>\n",
              "      <td>0.0</td>\n",
              "      <td>0.000</td>\n",
              "      <td>0.833333</td>\n",
              "    </tr>\n",
              "    <tr>\n",
              "      <th>4513</th>\n",
              "      <td>0.022583</td>\n",
              "      <td>1.0</td>\n",
              "      <td>0.0</td>\n",
              "      <td>0.146667</td>\n",
              "      <td>0.0</td>\n",
              "      <td>0.625</td>\n",
              "      <td>0.071429</td>\n",
              "      <td>1.0</td>\n",
              "      <td>0.250</td>\n",
              "      <td>0.333333</td>\n",
              "    </tr>\n",
              "    <tr>\n",
              "      <th>4514</th>\n",
              "      <td>0.383246</td>\n",
              "      <td>1.0</td>\n",
              "      <td>1.0</td>\n",
              "      <td>0.346667</td>\n",
              "      <td>1.0</td>\n",
              "      <td>0.500</td>\n",
              "      <td>0.071429</td>\n",
              "      <td>0.5</td>\n",
              "      <td>0.250</td>\n",
              "      <td>0.833333</td>\n",
              "    </tr>\n",
              "    <tr>\n",
              "      <th>4515</th>\n",
              "      <td>0.091000</td>\n",
              "      <td>1.0</td>\n",
              "      <td>0.0</td>\n",
              "      <td>0.306667</td>\n",
              "      <td>1.0</td>\n",
              "      <td>0.125</td>\n",
              "      <td>0.285714</td>\n",
              "      <td>1.0</td>\n",
              "      <td>0.250</td>\n",
              "      <td>0.833333</td>\n",
              "    </tr>\n",
              "    <tr>\n",
              "      <th>4516</th>\n",
              "      <td>0.298365</td>\n",
              "      <td>1.0</td>\n",
              "      <td>1.0</td>\n",
              "      <td>0.346667</td>\n",
              "      <td>1.0</td>\n",
              "      <td>0.125</td>\n",
              "      <td>0.000000</td>\n",
              "      <td>0.0</td>\n",
              "      <td>0.125</td>\n",
              "      <td>0.000000</td>\n",
              "    </tr>\n",
              "  </tbody>\n",
              "</table>\n",
              "<p>4517 rows × 10 columns</p>\n",
              "</div>\n",
              "    <div class=\"colab-df-buttons\">\n",
              "\n",
              "  <div class=\"colab-df-container\">\n",
              "    <button class=\"colab-df-convert\" onclick=\"convertToInteractive('df-84aca6f2-3950-45bc-adf4-f7bac03f6b67')\"\n",
              "            title=\"Convert this dataframe to an interactive table.\"\n",
              "            style=\"display:none;\">\n",
              "\n",
              "  <svg xmlns=\"http://www.w3.org/2000/svg\" height=\"24px\" viewBox=\"0 -960 960 960\">\n",
              "    <path d=\"M120-120v-720h720v720H120Zm60-500h600v-160H180v160Zm220 220h160v-160H400v160Zm0 220h160v-160H400v160ZM180-400h160v-160H180v160Zm440 0h160v-160H620v160ZM180-180h160v-160H180v160Zm440 0h160v-160H620v160Z\"/>\n",
              "  </svg>\n",
              "    </button>\n",
              "\n",
              "  <style>\n",
              "    .colab-df-container {\n",
              "      display:flex;\n",
              "      gap: 12px;\n",
              "    }\n",
              "\n",
              "    .colab-df-convert {\n",
              "      background-color: #E8F0FE;\n",
              "      border: none;\n",
              "      border-radius: 50%;\n",
              "      cursor: pointer;\n",
              "      display: none;\n",
              "      fill: #1967D2;\n",
              "      height: 32px;\n",
              "      padding: 0 0 0 0;\n",
              "      width: 32px;\n",
              "    }\n",
              "\n",
              "    .colab-df-convert:hover {\n",
              "      background-color: #E2EBFA;\n",
              "      box-shadow: 0px 1px 2px rgba(60, 64, 67, 0.3), 0px 1px 3px 1px rgba(60, 64, 67, 0.15);\n",
              "      fill: #174EA6;\n",
              "    }\n",
              "\n",
              "    .colab-df-buttons div {\n",
              "      margin-bottom: 4px;\n",
              "    }\n",
              "\n",
              "    [theme=dark] .colab-df-convert {\n",
              "      background-color: #3B4455;\n",
              "      fill: #D2E3FC;\n",
              "    }\n",
              "\n",
              "    [theme=dark] .colab-df-convert:hover {\n",
              "      background-color: #434B5C;\n",
              "      box-shadow: 0px 1px 3px 1px rgba(0, 0, 0, 0.15);\n",
              "      filter: drop-shadow(0px 1px 2px rgba(0, 0, 0, 0.3));\n",
              "      fill: #FFFFFF;\n",
              "    }\n",
              "  </style>\n",
              "\n",
              "    <script>\n",
              "      const buttonEl =\n",
              "        document.querySelector('#df-84aca6f2-3950-45bc-adf4-f7bac03f6b67 button.colab-df-convert');\n",
              "      buttonEl.style.display =\n",
              "        google.colab.kernel.accessAllowed ? 'block' : 'none';\n",
              "\n",
              "      async function convertToInteractive(key) {\n",
              "        const element = document.querySelector('#df-84aca6f2-3950-45bc-adf4-f7bac03f6b67');\n",
              "        const dataTable =\n",
              "          await google.colab.kernel.invokeFunction('convertToInteractive',\n",
              "                                                    [key], {});\n",
              "        if (!dataTable) return;\n",
              "\n",
              "        const docLinkHtml = 'Like what you see? Visit the ' +\n",
              "          '<a target=\"_blank\" href=https://colab.research.google.com/notebooks/data_table.ipynb>data table notebook</a>'\n",
              "          + ' to learn more about interactive tables.';\n",
              "        element.innerHTML = '';\n",
              "        dataTable['output_type'] = 'display_data';\n",
              "        await google.colab.output.renderOutput(dataTable, element);\n",
              "        const docLink = document.createElement('div');\n",
              "        docLink.innerHTML = docLinkHtml;\n",
              "        element.appendChild(docLink);\n",
              "      }\n",
              "    </script>\n",
              "  </div>\n",
              "\n",
              "\n",
              "<div id=\"df-0d121647-451f-4223-b197-122e24c77985\">\n",
              "  <button class=\"colab-df-quickchart\" onclick=\"quickchart('df-0d121647-451f-4223-b197-122e24c77985')\"\n",
              "            title=\"Suggest charts\"\n",
              "            style=\"display:none;\">\n",
              "\n",
              "<svg xmlns=\"http://www.w3.org/2000/svg\" height=\"24px\"viewBox=\"0 0 24 24\"\n",
              "     width=\"24px\">\n",
              "    <g>\n",
              "        <path d=\"M19 3H5c-1.1 0-2 .9-2 2v14c0 1.1.9 2 2 2h14c1.1 0 2-.9 2-2V5c0-1.1-.9-2-2-2zM9 17H7v-7h2v7zm4 0h-2V7h2v10zm4 0h-2v-4h2v4z\"/>\n",
              "    </g>\n",
              "</svg>\n",
              "  </button>\n",
              "\n",
              "<style>\n",
              "  .colab-df-quickchart {\n",
              "      --bg-color: #E8F0FE;\n",
              "      --fill-color: #1967D2;\n",
              "      --hover-bg-color: #E2EBFA;\n",
              "      --hover-fill-color: #174EA6;\n",
              "      --disabled-fill-color: #AAA;\n",
              "      --disabled-bg-color: #DDD;\n",
              "  }\n",
              "\n",
              "  [theme=dark] .colab-df-quickchart {\n",
              "      --bg-color: #3B4455;\n",
              "      --fill-color: #D2E3FC;\n",
              "      --hover-bg-color: #434B5C;\n",
              "      --hover-fill-color: #FFFFFF;\n",
              "      --disabled-bg-color: #3B4455;\n",
              "      --disabled-fill-color: #666;\n",
              "  }\n",
              "\n",
              "  .colab-df-quickchart {\n",
              "    background-color: var(--bg-color);\n",
              "    border: none;\n",
              "    border-radius: 50%;\n",
              "    cursor: pointer;\n",
              "    display: none;\n",
              "    fill: var(--fill-color);\n",
              "    height: 32px;\n",
              "    padding: 0;\n",
              "    width: 32px;\n",
              "  }\n",
              "\n",
              "  .colab-df-quickchart:hover {\n",
              "    background-color: var(--hover-bg-color);\n",
              "    box-shadow: 0 1px 2px rgba(60, 64, 67, 0.3), 0 1px 3px 1px rgba(60, 64, 67, 0.15);\n",
              "    fill: var(--button-hover-fill-color);\n",
              "  }\n",
              "\n",
              "  .colab-df-quickchart-complete:disabled,\n",
              "  .colab-df-quickchart-complete:disabled:hover {\n",
              "    background-color: var(--disabled-bg-color);\n",
              "    fill: var(--disabled-fill-color);\n",
              "    box-shadow: none;\n",
              "  }\n",
              "\n",
              "  .colab-df-spinner {\n",
              "    border: 2px solid var(--fill-color);\n",
              "    border-color: transparent;\n",
              "    border-bottom-color: var(--fill-color);\n",
              "    animation:\n",
              "      spin 1s steps(1) infinite;\n",
              "  }\n",
              "\n",
              "  @keyframes spin {\n",
              "    0% {\n",
              "      border-color: transparent;\n",
              "      border-bottom-color: var(--fill-color);\n",
              "      border-left-color: var(--fill-color);\n",
              "    }\n",
              "    20% {\n",
              "      border-color: transparent;\n",
              "      border-left-color: var(--fill-color);\n",
              "      border-top-color: var(--fill-color);\n",
              "    }\n",
              "    30% {\n",
              "      border-color: transparent;\n",
              "      border-left-color: var(--fill-color);\n",
              "      border-top-color: var(--fill-color);\n",
              "      border-right-color: var(--fill-color);\n",
              "    }\n",
              "    40% {\n",
              "      border-color: transparent;\n",
              "      border-right-color: var(--fill-color);\n",
              "      border-top-color: var(--fill-color);\n",
              "    }\n",
              "    60% {\n",
              "      border-color: transparent;\n",
              "      border-right-color: var(--fill-color);\n",
              "    }\n",
              "    80% {\n",
              "      border-color: transparent;\n",
              "      border-right-color: var(--fill-color);\n",
              "      border-bottom-color: var(--fill-color);\n",
              "    }\n",
              "    90% {\n",
              "      border-color: transparent;\n",
              "      border-bottom-color: var(--fill-color);\n",
              "    }\n",
              "  }\n",
              "</style>\n",
              "\n",
              "  <script>\n",
              "    async function quickchart(key) {\n",
              "      const quickchartButtonEl =\n",
              "        document.querySelector('#' + key + ' button');\n",
              "      quickchartButtonEl.disabled = true;  // To prevent multiple clicks.\n",
              "      quickchartButtonEl.classList.add('colab-df-spinner');\n",
              "      try {\n",
              "        const charts = await google.colab.kernel.invokeFunction(\n",
              "            'suggestCharts', [key], {});\n",
              "      } catch (error) {\n",
              "        console.error('Error during call to suggestCharts:', error);\n",
              "      }\n",
              "      quickchartButtonEl.classList.remove('colab-df-spinner');\n",
              "      quickchartButtonEl.classList.add('colab-df-quickchart-complete');\n",
              "    }\n",
              "    (() => {\n",
              "      let quickchartButtonEl =\n",
              "        document.querySelector('#df-0d121647-451f-4223-b197-122e24c77985 button');\n",
              "      quickchartButtonEl.style.display =\n",
              "        google.colab.kernel.accessAllowed ? 'block' : 'none';\n",
              "    })();\n",
              "  </script>\n",
              "</div>\n",
              "\n",
              "  <div id=\"id_c9ded4a7-6c4d-42a3-a133-272d768f4575\">\n",
              "    <style>\n",
              "      .colab-df-generate {\n",
              "        background-color: #E8F0FE;\n",
              "        border: none;\n",
              "        border-radius: 50%;\n",
              "        cursor: pointer;\n",
              "        display: none;\n",
              "        fill: #1967D2;\n",
              "        height: 32px;\n",
              "        padding: 0 0 0 0;\n",
              "        width: 32px;\n",
              "      }\n",
              "\n",
              "      .colab-df-generate:hover {\n",
              "        background-color: #E2EBFA;\n",
              "        box-shadow: 0px 1px 2px rgba(60, 64, 67, 0.3), 0px 1px 3px 1px rgba(60, 64, 67, 0.15);\n",
              "        fill: #174EA6;\n",
              "      }\n",
              "\n",
              "      [theme=dark] .colab-df-generate {\n",
              "        background-color: #3B4455;\n",
              "        fill: #D2E3FC;\n",
              "      }\n",
              "\n",
              "      [theme=dark] .colab-df-generate:hover {\n",
              "        background-color: #434B5C;\n",
              "        box-shadow: 0px 1px 3px 1px rgba(0, 0, 0, 0.15);\n",
              "        filter: drop-shadow(0px 1px 2px rgba(0, 0, 0, 0.3));\n",
              "        fill: #FFFFFF;\n",
              "      }\n",
              "    </style>\n",
              "    <button class=\"colab-df-generate\" onclick=\"generateWithVariable('X_train_processed')\"\n",
              "            title=\"Generate code using this dataframe.\"\n",
              "            style=\"display:none;\">\n",
              "\n",
              "  <svg xmlns=\"http://www.w3.org/2000/svg\" height=\"24px\"viewBox=\"0 0 24 24\"\n",
              "       width=\"24px\">\n",
              "    <path d=\"M7,19H8.4L18.45,9,17,7.55,7,17.6ZM5,21V16.75L18.45,3.32a2,2,0,0,1,2.83,0l1.4,1.43a1.91,1.91,0,0,1,.58,1.4,1.91,1.91,0,0,1-.58,1.4L9.25,21ZM18.45,9,17,7.55Zm-12,3A5.31,5.31,0,0,0,4.9,8.1,5.31,5.31,0,0,0,1,6.5,5.31,5.31,0,0,0,4.9,4.9,5.31,5.31,0,0,0,6.5,1,5.31,5.31,0,0,0,8.1,4.9,5.31,5.31,0,0,0,12,6.5,5.46,5.46,0,0,0,6.5,12Z\"/>\n",
              "  </svg>\n",
              "    </button>\n",
              "    <script>\n",
              "      (() => {\n",
              "      const buttonEl =\n",
              "        document.querySelector('#id_c9ded4a7-6c4d-42a3-a133-272d768f4575 button.colab-df-generate');\n",
              "      buttonEl.style.display =\n",
              "        google.colab.kernel.accessAllowed ? 'block' : 'none';\n",
              "\n",
              "      buttonEl.onclick = () => {\n",
              "        google.colab.notebook.generateWithVariable('X_train_processed');\n",
              "      }\n",
              "      })();\n",
              "    </script>\n",
              "  </div>\n",
              "\n",
              "    </div>\n",
              "  </div>\n"
            ],
            "application/vnd.google.colaboratory.intrinsic+json": {
              "type": "dataframe",
              "variable_name": "X_train_processed",
              "summary": "{\n  \"name\": \"X_train_processed\",\n  \"rows\": 4517,\n  \"fields\": [\n    {\n      \"column\": \"ID\",\n      \"properties\": {\n        \"dtype\": \"number\",\n        \"std\": 0.28912387037634485,\n        \"min\": 0.0,\n        \"max\": 1.0,\n        \"num_unique_values\": 4517,\n        \"samples\": [\n          0.10056736010680112,\n          0.07064189565024037,\n          0.3159417065302037\n        ],\n        \"semantic_type\": \"\",\n        \"description\": \"\"\n      }\n    },\n    {\n      \"column\": \"Gender\",\n      \"properties\": {\n        \"dtype\": \"number\",\n        \"std\": 0.4984021056021855,\n        \"min\": 0.0,\n        \"max\": 1.0,\n        \"num_unique_values\": 2,\n        \"samples\": [\n          0.0,\n          1.0\n        ],\n        \"semantic_type\": \"\",\n        \"description\": \"\"\n      }\n    },\n    {\n      \"column\": \"Ever_Married\",\n      \"properties\": {\n        \"dtype\": \"number\",\n        \"std\": 0.49389208282277985,\n        \"min\": 0.0,\n        \"max\": 1.0,\n        \"num_unique_values\": 2,\n        \"samples\": [\n          0.0,\n          1.0\n        ],\n        \"semantic_type\": \"\",\n        \"description\": \"\"\n      }\n    },\n    {\n      \"column\": \"Age\",\n      \"properties\": {\n        \"dtype\": \"number\",\n        \"std\": 0.22322178333401194,\n        \"min\": 0.0,\n        \"max\": 1.0,\n        \"num_unique_values\": 76,\n        \"samples\": [\n          0.06666666666666668,\n          0.8533333333333333\n        ],\n        \"semantic_type\": \"\",\n        \"description\": \"\"\n      }\n    },\n    {\n      \"column\": \"Graduated\",\n      \"properties\": {\n        \"dtype\": \"number\",\n        \"std\": 0.48675128257098543,\n        \"min\": 0.0,\n        \"max\": 1.0,\n        \"num_unique_values\": 2,\n        \"samples\": [\n          0.0,\n          1.0\n        ],\n        \"semantic_type\": \"\",\n        \"description\": \"\"\n      }\n    },\n    {\n      \"column\": \"Profession\",\n      \"properties\": {\n        \"dtype\": \"number\",\n        \"std\": 0.3204735978912587,\n        \"min\": 0.0,\n        \"max\": 1.0,\n        \"num_unique_values\": 9,\n        \"samples\": [\n          1.0,\n          0.125\n        ],\n        \"semantic_type\": \"\",\n        \"description\": \"\"\n      }\n    },\n    {\n      \"column\": \"Work_Experience\",\n      \"properties\": {\n        \"dtype\": \"number\",\n        \"std\": 0.23470998127884551,\n        \"min\": 0.0,\n        \"max\": 1.0,\n        \"num_unique_values\": 15,\n        \"samples\": [\n          0.9285714285714285,\n          0.21428571428571427\n        ],\n        \"semantic_type\": \"\",\n        \"description\": \"\"\n      }\n    },\n    {\n      \"column\": \"Spending_Score\",\n      \"properties\": {\n        \"dtype\": \"number\",\n        \"std\": 0.42553509373391923,\n        \"min\": 0.0,\n        \"max\": 1.0,\n        \"num_unique_values\": 3,\n        \"samples\": [\n          0.0,\n          1.0\n        ],\n        \"semantic_type\": \"\",\n        \"description\": \"\"\n      }\n    },\n    {\n      \"column\": \"Family_Size\",\n      \"properties\": {\n        \"dtype\": \"number\",\n        \"std\": 0.19017285322895539,\n        \"min\": 0.0,\n        \"max\": 1.0,\n        \"num_unique_values\": 9,\n        \"samples\": [\n          0.875,\n          0.625\n        ],\n        \"semantic_type\": \"\",\n        \"description\": \"\"\n      }\n    },\n    {\n      \"column\": \"Var_1\",\n      \"properties\": {\n        \"dtype\": \"number\",\n        \"std\": 0.25183242834636893,\n        \"min\": 0.0,\n        \"max\": 1.0,\n        \"num_unique_values\": 7,\n        \"samples\": [\n          0.0,\n          1.0\n        ],\n        \"semantic_type\": \"\",\n        \"description\": \"\"\n      }\n    }\n  ]\n}"
            }
          },
          "metadata": {},
          "execution_count": 25
        }
      ]
    },
    {
      "cell_type": "markdown",
      "source": [
        "# 4. Modeling and Validation\n",
        "\n",
        "Modelling is the process of building your own machine learning models to solve specific problems, or in this assignment context, predicting the probability for each class in the `Segmentation` feature. Validation is the process of evaluating your trained model using the validation set or cross-validation method and providing some metrics that can help you decide what to do in the next iteration of development.\n",
        "\n",
        "In this task, you are required to predict each class in the Segmentation feature using Ensemble Learning algorithms."
      ],
      "metadata": {
        "datalore": {
          "node_id": "cSoVF8Sk5qDpkpFrBNdQgw",
          "type": "MD",
          "hide_input_from_viewers": false,
          "hide_output_from_viewers": false,
          "report_properties": {
            "rowId": "xQKFXcZuu9UdSHYiWx27wu"
          }
        },
        "id": "fBa6iZXZ51a8"
      }
    },
    {
      "cell_type": "markdown",
      "source": [
        "## 4.1 Ensemble\n",
        "\n",
        "Implement **at least 1 model** for each of the following learning algorithms:\n",
        "\n",
        "- Bagging\n",
        "- Boosting\n",
        "- Stacking\n",
        "- Voting"
      ],
      "metadata": {
        "datalore": {
          "node_id": "tiOBDXXLMssHv4QZcywsNb",
          "type": "MD",
          "hide_input_from_viewers": false,
          "hide_output_from_viewers": false,
          "report_properties": {
            "rowId": "Auk6YWu2lIRQu4MvuE39S6"
          }
        },
        "id": "Fha34Vlf51a8"
      }
    },
    {
      "cell_type": "markdown",
      "source": [
        "### 4.1.1 Bagging\n",
        "Bagging is a technique that trains a single type of model, with each model being trained on a different subset of the data. The final prediction is determined by the most frequently occurring prediction across all models. As a reference, you may use `RandomForestClassifier` to build your bagging model."
      ],
      "metadata": {
        "datalore": {
          "node_id": "NGEppAYMMHB2bBCKq4LuuZ",
          "type": "MD",
          "hide_input_from_viewers": false,
          "hide_output_from_viewers": false,
          "report_properties": {
            "rowId": "nk5Kqpl40iluIRwwjmeTIh"
          }
        },
        "id": "OS3RkYNp51a8"
      }
    },
    {
      "cell_type": "code",
      "source": [
        "# Type your code here\n",
        "\n",
        "# copying splitted dataset\n",
        "rf_X_train = X_train_processed.copy()\n",
        "rf_y_train = y_train.copy()\n",
        "rf_X_val = X_val_processed.copy()\n",
        "rf_y_val = y_val.copy()\n",
        "\n",
        "# train model\n",
        "rf_model = RandomForestClassifier(\n",
        "    n_estimators=97,\n",
        "    max_depth=8,\n",
        "    random_state=42\n",
        ")\n",
        "\n",
        "rf_model.fit(rf_X_train, rf_y_train)\n",
        "\n",
        "#akurasi\n",
        "rf_y_pred = rf_model.predict(rf_X_val)\n",
        "\n",
        "rf_accuracy = accuracy_score(rf_y_val, rf_y_pred)\n",
        "print(f\"accuracy: {rf_accuracy}\")"
      ],
      "execution_count": null,
      "outputs": [
        {
          "output_type": "stream",
          "name": "stdout",
          "text": [
            "accuracy: 0.5203539823008849\n"
          ]
        }
      ],
      "metadata": {
        "datalore": {
          "node_id": "5rFCIkEeKCsbNlzy7JCiCd",
          "type": "CODE",
          "hide_input_from_viewers": false,
          "hide_output_from_viewers": false,
          "report_properties": {
            "rowId": "0BX87gwgok8N6tLn7VFHoo"
          }
        },
        "colab": {
          "base_uri": "https://localhost:8080/"
        },
        "id": "Q36gzPh051a9",
        "outputId": "fbd6318f-000d-4258-c2fe-9b54dc858e2d"
      }
    },
    {
      "cell_type": "markdown",
      "source": [
        "### 4.1.2 Boosting\n",
        "Boosting is a technique where the first model is trained on entire dataset, the second model to reduce the error of first model, followed by a third model to reduce the error of the second model, and so on. As a reference, you may use `GradientBoostingClassifier` to build your boosting model."
      ],
      "metadata": {
        "datalore": {
          "node_id": "UhNow0SgQyWeHMv9GrMM2h",
          "type": "MD",
          "hide_input_from_viewers": false,
          "hide_output_from_viewers": false,
          "report_properties": {
            "rowId": "PYfZTpdkBDEpdHX7V1z03B"
          }
        },
        "id": "kCZkvrjw51a9"
      }
    },
    {
      "cell_type": "code",
      "source": [
        "# Type your code here\n",
        "\n",
        "# copying splitted dataset\n",
        "adaboost_X_train = X_train_processed.copy()\n",
        "adaboost_y_train = y_train.copy()\n",
        "adaboost_X_val = X_val_processed.copy()\n",
        "adaboost_y_val = y_val.copy()\n",
        "\n",
        "# train model\n",
        "adaboost_model = AdaBoostClassifier(\n",
        "    estimator=DecisionTreeClassifier(max_depth=1),\n",
        "    n_estimators=246,\n",
        "    learning_rate=0.1,\n",
        "    random_state=42\n",
        ")\n",
        "\n",
        "adaboost_model.fit(adaboost_X_train, adaboost_y_train)\n",
        "\n",
        "#akurasi\n",
        "adaboost_y_pred = adaboost_model.predict(adaboost_X_val)\n",
        "\n",
        "adaboost_accuracy = accuracy_score(adaboost_y_val, adaboost_y_pred)\n",
        "print(f\"accuracy: {adaboost_accuracy}\")"
      ],
      "execution_count": null,
      "outputs": [
        {
          "output_type": "stream",
          "name": "stdout",
          "text": [
            "accuracy: 0.5008849557522124\n"
          ]
        }
      ],
      "metadata": {
        "datalore": {
          "node_id": "rEN7M2o9qMRyLjx0NgyQwN",
          "type": "CODE",
          "hide_input_from_viewers": false,
          "hide_output_from_viewers": false,
          "report_properties": {
            "rowId": "IUTNoOgjb3uo3q9FWcimOQ"
          }
        },
        "colab": {
          "base_uri": "https://localhost:8080/"
        },
        "id": "J8tF_tH251a9",
        "outputId": "1c4555b9-cc5d-4daa-c014-62a90695da87"
      }
    },
    {
      "cell_type": "markdown",
      "source": [
        "### 4.1.3 Voting\n",
        "Voting is a technique that trains multiple different models, with each model being trained on the entire dataset. The final prediction is obtained through voting. As a reference, you may use `VotingClassifier` to build your voting model."
      ],
      "metadata": {
        "datalore": {
          "node_id": "rkXnuXvLmSghC9hSdjFP6P",
          "type": "MD",
          "hide_input_from_viewers": false,
          "hide_output_from_viewers": false,
          "report_properties": {
            "rowId": "N67Ii3VGbhvl74PuoqQHB2"
          }
        },
        "id": "jGCBwiEG51a9"
      }
    },
    {
      "cell_type": "code",
      "source": [
        "# Type your code here"
      ],
      "metadata": {
        "id": "jMIsl3_lGP3c"
      },
      "execution_count": null,
      "outputs": []
    },
    {
      "cell_type": "markdown",
      "source": [
        "### 4.1.4 Stacking\n",
        "Stacking is a technique that trains multiple different models, with each model being trained on the entire dataset. The final prediction is obtained through a meta-learner model that takes the predictions of the previous models as input. As a reference, you may use `StackingClassifier` to build your stacking model."
      ],
      "metadata": {
        "datalore": {
          "node_id": "RQ1Clqex4JNmPDkOGsUXvO",
          "type": "MD",
          "hide_input_from_viewers": false,
          "hide_output_from_viewers": false,
          "report_properties": {
            "rowId": "1eMwKO3IhwM81tHglKS39F"
          }
        },
        "id": "TbPBso6L51a-"
      }
    },
    {
      "cell_type": "code",
      "source": [
        "# Type your code here"
      ],
      "execution_count": null,
      "outputs": [],
      "metadata": {
        "datalore": {
          "node_id": "07F8VaK5cq4TiDr3JkSnN9",
          "type": "CODE",
          "hide_input_from_viewers": false,
          "hide_output_from_viewers": false,
          "report_properties": {
            "rowId": "UM3HnnDzWUMoEdeuIJi8cw"
          }
        },
        "id": "gT5t7Zcv51a-"
      }
    },
    {
      "cell_type": "markdown",
      "source": [
        "Note: You can use/add other classifiers that haven't been mentioned, as long as it belong to one of the ensemble methods mentioned above."
      ],
      "metadata": {
        "datalore": {
          "node_id": "8mLUye3AULElLDxno47ZQu",
          "type": "MD",
          "hide_input_from_viewers": false,
          "hide_output_from_viewers": false,
          "report_properties": {
            "rowId": "prrkVBCPXp3yiQShLpaotm"
          }
        },
        "id": "Hgx58hHa51a_"
      }
    },
    {
      "cell_type": "markdown",
      "source": [
        "## 4.2 Validation\n",
        "\n",
        "Validation is the process of evaluating a trained model using a validation set or cross-validation method. It provides metrics that help determine the necessary steps for the next iteration of model development.  \n",
        "\n",
        "For validation, the metric used is **log loss**, which measures the model's performance in terms of probabilistic predictions. A lower log loss indicates better model calibration.  \n",
        "\n",
        "### Required Validation Results  \n",
        "The validation results that must be included in the notebook are:  \n",
        "1. The validation results from the required baseline models.  \n",
        "2. The validation results from the final submission model on **Kaggle**.  "
      ],
      "metadata": {
        "datalore": {
          "node_id": "B3HeqJBaAWbFCIaqP4nePp",
          "type": "MD",
          "hide_input_from_viewers": false,
          "hide_output_from_viewers": false,
          "report_properties": {
            "rowId": "jxjJ9is9EC5SDFMctSmSGH"
          }
        },
        "id": "bT7LbzdY51a_"
      }
    },
    {
      "cell_type": "code",
      "source": [
        "# Type your code here\n",
        "\n",
        "rf_model.fit(X_train_processed, y_train)\n",
        "\n",
        "y_val_pred = rf_model.predict(X_val_processed)\n",
        "\n",
        "macro_f1 = f1_score(y_val, y_val_pred, average=\"macro\")\n",
        "print(f\"Macro F1 Score on Validation Set: {macro_f1:.4f}\")\n",
        "\n"
      ],
      "metadata": {
        "colab": {
          "base_uri": "https://localhost:8080/"
        },
        "id": "puIxsxZmNSNm",
        "outputId": "590a58fe-dfe1-4130-966e-3b9ba19bcefd"
      },
      "execution_count": null,
      "outputs": [
        {
          "output_type": "stream",
          "name": "stdout",
          "text": [
            "Macro F1 Score on Validation Set: 0.5008\n"
          ]
        }
      ]
    },
    {
      "cell_type": "code",
      "source": [
        "# Type your code here\n",
        "\n",
        "df_test_pipelined = pipe.transform(df_test)\n",
        "df_test_pipelined = pd.DataFrame(df_test_pipelined, columns=X_train.columns)\n",
        "\n",
        "y_pred = rf_model.predict(df_test_pipelined)\n",
        "\n",
        "submission = pd.DataFrame({\n",
        "    'ID': df_test.index,\n",
        "    'Segmentation': y_pred\n",
        "})"
      ],
      "execution_count": null,
      "outputs": [
        {
          "output_type": "stream",
          "name": "stderr",
          "text": [
            "<ipython-input-19-731d8f7434f7>:22: FutureWarning: A value is trying to be set on a copy of a DataFrame or Series through chained assignment using an inplace method.\n",
            "The behavior will change in pandas 3.0. This inplace method will never work because the intermediate object on which we are setting values always behaves as a copy.\n",
            "\n",
            "For example, when doing 'df[col].method(value, inplace=True)', try using 'df.method({col: value}, inplace=True)' or df[col] = df[col].method(value) instead, to perform the operation inplace on the original object.\n",
            "\n",
            "\n",
            "  x[cat_col].fillna(mode_value, inplace=True)\n",
            "<ipython-input-19-731d8f7434f7>:25: FutureWarning: A value is trying to be set on a copy of a DataFrame or Series through chained assignment using an inplace method.\n",
            "The behavior will change in pandas 3.0. This inplace method will never work because the intermediate object on which we are setting values always behaves as a copy.\n",
            "\n",
            "For example, when doing 'df[col].method(value, inplace=True)', try using 'df.method({col: value}, inplace=True)' or df[col] = df[col].method(value) instead, to perform the operation inplace on the original object.\n",
            "\n",
            "\n",
            "  x[num_col].fillna(value, inplace=True)\n"
          ]
        }
      ],
      "metadata": {
        "datalore": {
          "node_id": "CGNC99dlwMTKFx16b0shi7",
          "type": "CODE",
          "hide_input_from_viewers": false,
          "hide_output_from_viewers": false,
          "report_properties": {
            "rowId": "w23WbSLtsJELoWJYlS4umU"
          }
        },
        "id": "9_J8FPI251a_",
        "colab": {
          "base_uri": "https://localhost:8080/"
        },
        "outputId": "eb93d0a2-b76b-49cd-bc99-59b5fd78be85"
      }
    },
    {
      "cell_type": "markdown",
      "source": [
        "## Submission\n",
        "To predict the test set target feature and submit the results to the kaggle competition platform, do the following:\n",
        "1. Create a new pipeline instance identical to the first in Data Preprocessing\n",
        "2. With the pipeline, apply `fit_transform` to the original training set before splitting, then only apply `transform` to the test set.\n",
        "3. Retrain the model on the preprocessed training set\n",
        "4. Predict the test set\n",
        "5. Make sure the submission contains the `ID`, `Segmentation` column."
      ],
      "metadata": {
        "datalore": {
          "node_id": "uGdh7uTwalW63qw5VfIryx",
          "type": "MD",
          "hide_input_from_viewers": false,
          "hide_output_from_viewers": false,
          "report_properties": {
            "rowId": "dqoqlJKKkITPub23JB3LDt"
          }
        },
        "id": "cG-0_Cla51a_"
      }
    },
    {
      "cell_type": "code",
      "source": [
        "submission.to_csv('submission.csv', index=False)\n",
        "files.download(\"submission.csv\")"
      ],
      "execution_count": null,
      "outputs": [
        {
          "output_type": "display_data",
          "data": {
            "text/plain": [
              "<IPython.core.display.Javascript object>"
            ],
            "application/javascript": [
              "\n",
              "    async function download(id, filename, size) {\n",
              "      if (!google.colab.kernel.accessAllowed) {\n",
              "        return;\n",
              "      }\n",
              "      const div = document.createElement('div');\n",
              "      const label = document.createElement('label');\n",
              "      label.textContent = `Downloading \"${filename}\": `;\n",
              "      div.appendChild(label);\n",
              "      const progress = document.createElement('progress');\n",
              "      progress.max = size;\n",
              "      div.appendChild(progress);\n",
              "      document.body.appendChild(div);\n",
              "\n",
              "      const buffers = [];\n",
              "      let downloaded = 0;\n",
              "\n",
              "      const channel = await google.colab.kernel.comms.open(id);\n",
              "      // Send a message to notify the kernel that we're ready.\n",
              "      channel.send({})\n",
              "\n",
              "      for await (const message of channel.messages) {\n",
              "        // Send a message to notify the kernel that we're ready.\n",
              "        channel.send({})\n",
              "        if (message.buffers) {\n",
              "          for (const buffer of message.buffers) {\n",
              "            buffers.push(buffer);\n",
              "            downloaded += buffer.byteLength;\n",
              "            progress.value = downloaded;\n",
              "          }\n",
              "        }\n",
              "      }\n",
              "      const blob = new Blob(buffers, {type: 'application/binary'});\n",
              "      const a = document.createElement('a');\n",
              "      a.href = window.URL.createObjectURL(blob);\n",
              "      a.download = filename;\n",
              "      div.appendChild(a);\n",
              "      a.click();\n",
              "      div.remove();\n",
              "    }\n",
              "  "
            ]
          },
          "metadata": {}
        },
        {
          "output_type": "display_data",
          "data": {
            "text/plain": [
              "<IPython.core.display.Javascript object>"
            ],
            "application/javascript": [
              "download(\"download_55afbd52-8ed0-4bab-8ef0-f52d15925e30\", \"submission.csv\", 15853)"
            ]
          },
          "metadata": {}
        }
      ],
      "metadata": {
        "datalore": {
          "node_id": "NYGUhQJc0T24HsCJXcFD9d",
          "type": "CODE",
          "hide_input_from_viewers": true,
          "hide_output_from_viewers": true
        },
        "id": "2Hc4SuNu51bA",
        "colab": {
          "base_uri": "https://localhost:8080/",
          "height": 17
        },
        "outputId": "62e95e83-2f9e-4c45-faaf-230cafd76bb8"
      }
    },
    {
      "cell_type": "markdown",
      "source": [
        "# 5. Error Analysis\n",
        "\n",
        "Based on all the process you have done until the modeling and evaluation step, write an analysis to support each steps you have taken to solve this problem. Write the analysis using the markdown block. Some questions that may help you in writing the analysis:\n",
        "\n",
        "1. Which segments (A, B, C, D) have the highest and lowest misclassification rates?\n",
        "2. Are there any specific segments where the model struggles to make correct predictions?\n",
        "3. Which features contribute the most to incorrect predictions?\n",
        "4. Which ensemble technique (Bagging, Boosting, Stacking, Voting) produces the lowest log loss?\n",
        "5. Are there significant differences in error distribution between different ensemble models?\n",
        "6. Does a particular model consistently misclassify certain segments more than others?\n",
        "7. etc.."
      ],
      "metadata": {
        "datalore": {
          "node_id": "hmznY9S2DWGU6TNDOXaA68",
          "type": "MD",
          "hide_input_from_viewers": false,
          "hide_output_from_viewers": false,
          "report_properties": {
            "rowId": "lLEVLKQxCLnxX2yeD8n6t7"
          }
        },
        "id": "XEb7p0_O51bA"
      }
    },
    {
      "cell_type": "markdown",
      "source": [
        "4. For our case, the best ensemble technique that produces the best prediction is Bagging with Random Forest Algorithm.\n",
        "\n"
      ],
      "metadata": {
        "id": "opng_JY3N5FD"
      }
    },
    {
      "cell_type": "markdown",
      "source": [
        "`Provide your analysis here`"
      ],
      "metadata": {
        "datalore": {
          "node_id": "boWgOp1x6GOSaW8l0tptPh",
          "type": "MD",
          "hide_input_from_viewers": false,
          "hide_output_from_viewers": false,
          "report_properties": {
            "rowId": "MtnvdxZIMfqqhGAJz565g3"
          }
        },
        "id": "U_YDrJ0T51bA"
      }
    },
    {
      "cell_type": "code",
      "source": [],
      "execution_count": null,
      "outputs": [],
      "metadata": {
        "datalore": {
          "node_id": "tn10L8fAwWZAX9euT14Lsb",
          "type": "CODE",
          "hide_input_from_viewers": false,
          "hide_output_from_viewers": false,
          "report_properties": {
            "rowId": "TToyieLEBVB3PeiB8Z3RSt"
          }
        },
        "id": "y8WpAMhl51bA"
      }
    }
  ],
  "metadata": {
    "kernelspec": {
      "display_name": "Python",
      "language": "python",
      "name": "python"
    },
    "datalore": {
      "computation_mode": "JUPYTER",
      "package_manager": "pip",
      "base_environment": "default",
      "packages": [],
      "report_row_ids": [],
      "report_tabs": [
        {
          "id": "rDgs6E34gFEXcAmFKPQSUq",
          "name": "Report tab",
          "rows": [
            "DQuqYNEiNZkTVKF02lWmak",
            "9BTsUJTTG7PbuRUF9pXchS",
            "PIxLWlRtrGZZVO4W8hvkBP",
            "CQbuTyMgadKnX6ygQwaNNQ",
            "BytNY3bJzQ4srUKQD3FSCb",
            "HL5dY6Gf41wXPlufKbNlA8",
            "5x34N2wXd9fvQ73zr3p0xJ",
            "5mQmOcx2ow93I4v02YtBHY",
            "DhvoSjHPkzKnASlQCdOz9V",
            "a6iolIl1Jwbjj5FZH51j0R",
            "gfCtbpFSLXoDEMLUfGKWXf",
            "X5ZE4qHfSvybj9Jrl0DMQI",
            "uRLt6MoH1sjasbBd7zeIg3",
            "dUQznUOBORaGzwzxbXkdXD",
            "aHUykDLhFgHBaSnB1C5i1F",
            "KQWAUdX86bs4wqjpHSsYfr",
            "aYmo2dmiJYY8jRrlDy50I8",
            "xRyabjfOtmLlmb5jhPuOZd",
            "xQKFXcZuu9UdSHYiWx27wu",
            "Auk6YWu2lIRQu4MvuE39S6",
            "nk5Kqpl40iluIRwwjmeTIh",
            "0BX87gwgok8N6tLn7VFHoo",
            "PYfZTpdkBDEpdHX7V1z03B",
            "IUTNoOgjb3uo3q9FWcimOQ",
            "N67Ii3VGbhvl74PuoqQHB2",
            "OFCqgQRGKUW9NZrnjEEvQx",
            "1eMwKO3IhwM81tHglKS39F",
            "UM3HnnDzWUMoEdeuIJi8cw",
            "prrkVBCPXp3yiQShLpaotm",
            "jxjJ9is9EC5SDFMctSmSGH",
            "w23WbSLtsJELoWJYlS4umU",
            "dqoqlJKKkITPub23JB3LDt",
            "TToyieLEBVB3PeiB8Z3RSt",
            "lLEVLKQxCLnxX2yeD8n6t7",
            "MtnvdxZIMfqqhGAJz565g3"
          ]
        }
      ],
      "version": 4
    },
    "colab": {
      "provenance": []
    }
  },
  "nbformat": 4,
  "nbformat_minor": 0
}